{
 "cells": [
  {
   "cell_type": "markdown",
   "id": "fb4b6ae1-1859-499b-9cb3-0646e2f1def9",
   "metadata": {},
   "source": [
    "# Предсказательная модель для телеграм-бота для игры камень-ножницы-бумага (КНБ)"
   ]
  },
  {
   "cell_type": "markdown",
   "id": "44521650-724e-4a43-8685-60ecf38f33b3",
   "metadata": {
    "tags": []
   },
   "source": [
    "# Описание проекта"
   ]
  },
  {
   "cell_type": "markdown",
   "id": "1f9f5722-5bfd-4a74-a24a-114c376bf5e8",
   "metadata": {},
   "source": [
    "## Цель"
   ]
  },
  {
   "cell_type": "markdown",
   "id": "d62947cf-8ff0-490d-b692-b7b65c27a2de",
   "metadata": {},
   "source": [
    "Пользователь играет с ботом в \"камень-ножницы-бумага\". Бот должен побеждать как можно чаще. \n",
    "<br>Для этого необходимо внедрить в бота модель прогнозирования последующего хода пользователя.\n",
    "* На входе: последовательность выборов пользователя и бота.\n",
    "* На выходе: предсказание следующего выбора пользователя."
   ]
  },
  {
   "cell_type": "markdown",
   "id": "42c3b244-3164-43ba-b807-d369d25d00ba",
   "metadata": {},
   "source": [
    "## Критерии успешности"
   ]
  },
  {
   "attachments": {},
   "cell_type": "markdown",
   "id": "2888ec55-2aa2-463e-a81e-e60c12aaa380",
   "metadata": {},
   "source": [
    "Будем сравнивать целевую модель с базовой моделью, которая делает выбор случайно, т.е. вероятность выигрыша (vin), проигрыша (loss) или ничьей (draw) одинаковы:\n",
    "<font size=4><br>$Pbot_{vin}=Pbot_{loss}=Pbot_{draw}=1/3$</font>\n",
    "\n",
    "**Важно!**\n",
    "* Если пользователь выберет стратегию случайного выбора, то никакая предсказательная модель не сможет играть эффективнее, в лучшем случае будет паритет. Это можно объяснить здравым смыслом: нельзя предсказать результат, если он случаен и не зависит от предыдущих выборов пользователя. Теоретически это объясняется \"равновесием Нэша\", [статья по теме](https://habr.com/ru/articles/411523/).\n",
    "* Также по \"равновесию Нэша\" получаем, что базовая модель всегда будет играть в ноль, независимо от стратегии пользователя. А вот целевая модель может играть как в плюс, так и в минус, в зависимости от эффективности обучения и стратегии пользователя.\n",
    "* И, опять же, \"по равновесию Нэша\", данный проект имеет смысл только в том случае, если пользователь не будет использовать стратегию случайного выбора (возникнет паритет). Будем исходить из того, что пользователь не слышал про \"равновесие Нэша\" :) А если даже и слышал, то не сможет генерировать по-настоящему случайные последовательности выборов, [статья по теме](http://nabatchikov.com/materials/view/iifmi2017).\n",
    "\n",
    "**В качестве основного критерия успешности будем использовать бизнес-показатель математическое ожидание:**\n",
    "<br>Для наглядности представим, что победитель получает **X** рублей, а проигравший теряет **X** рублей\n",
    "<br>Тогда выигрыш модели - это случайная величина **J**:\n",
    "<br>J = X, если модель победила\n",
    "<br>J = -X, если модель проиграла\n",
    "<br>J = 0, если ничья\n",
    "<br>Тогда математическое ожидание $M(J) = X * Pbot_{vin} - X * Pbot_{loss} + 0 * Pbot_{draw} = X * (Pbot_{vin} - Pbot_{loss})$\n",
    "\n",
    "Для удобства примем X = 1, тогда математическое ожидание можно интерпретировать как процент от ставки, который в среднем за раунд будет выигрывать (проигрывать, если матожидание отрицательное) модель, если число игр достаточно велико\n",
    "\n",
    "На основании вышесказанного,\n",
    "<br>M(J) = 0, если выборы пользователя случайны\n",
    "<br>M(J) > 0, если выборы пользователя не случайны и модель хорошо обучается\n",
    "<br>M(J) < 0, если выборы пользователя не случайны и модель плохо обучается\n",
    "\n",
    "<u>В качестве критерия успешности модели установим **M(J) = 0.05**</u>\n"
   ]
  },
  {
   "cell_type": "markdown",
   "id": "a155e5ae-b925-4124-b150-3896b9acc82a",
   "metadata": {},
   "source": [
    "## Варианты обучения бота"
   ]
  },
  {
   "cell_type": "markdown",
   "id": "4964c305-f0e8-4e8e-9c4a-a54b97bbb3f5",
   "metadata": {},
   "source": [
    "Для удобства закодируем признак выбора: камень - 0, ножницы - 1, бумага -2.\n",
    "Выбор пользователем из (0, 1, 2) будем просто называть действием пользователя\n",
    "\n",
    "**Вариант 1**: обучение в реальном времени\n",
    "<br>1) действие пользователя - бот выбирает случайно из (0, 1, 2)\n",
    "<br>2) действие пользователя - бот \"обучается\" на результате шага 1 и дает предсказание шага 2\n",
    "<br>3) действие пользователя - бот \"обучается\" на результате шагов 1 - 2 и дает предсказание шага 3\n",
    "<br>4) действие пользователя - бот \"обучается\" на результате шагов 1 - 3 и дает предсказание шага 4\n",
    "<br>...\n",
    "<br>n) действие пользователя - бот \"обучается\" на результате шагов 1 - (n-1) и дает предсказание шага n\n",
    "\n",
    "Т.е. на вход модель получает последовательность, состоящую из выборов пользователя и бота.\n",
    "Получается задача прогнозирования следующего элемента последовательности\n",
    "\n",
    "**Вариант 2**: обучение на предварительно созданном датасете.\n",
    "В качестве наблюдений модель получает последовательности выборов пользователя и бота.\n",
    "\n",
    "**Вариант 3**: совмещение предыдущих подходов. В первых партиях модель прогнозирует ответ, опираясь на знания, полученные обучением на предварительном датасете. И в процессе игры дообучается на данных, полученных от конкретного пользователя\n"
   ]
  },
  {
   "cell_type": "markdown",
   "id": "e3c00d79-ced1-45d7-9609-5aad42d9f811",
   "metadata": {},
   "source": [
    "## Выбор моделей"
   ]
  },
  {
   "cell_type": "markdown",
   "id": "1a893739-a6fd-40a2-b1f0-8fb018a64c2a",
   "metadata": {},
   "source": [
    "Стоит задача многомерной классификации (3 класса).\n",
    "<br>Кандидаты:\n",
    "1. Логистическая регрессия\n",
    "2. Случайный лес\n",
    "3. LGBMClassifier\n",
    "4. RNN\n",
    "\n",
    "Параметры оценки итоговой модели:\n",
    "1. Скорость обучения\n",
    "2. Скорость предсказания\n",
    "3. Точность предсказания (M(J))\n",
    "\n",
    "Дополнительно оценим точность модели метрикой F1 ([статья про метрики многоклассовой классификации](https://digitrain.ru/articles/46588/))"
   ]
  },
  {
   "cell_type": "markdown",
   "id": "b2fe405f-abad-4eb4-b854-22777e5677e4",
   "metadata": {},
   "source": [
    "# Подготовка библиотек, настройка параметров"
   ]
  },
  {
   "cell_type": "code",
   "execution_count": 1,
   "id": "fef2a035-f699-4071-980f-afa7d31ef4a0",
   "metadata": {
    "tags": []
   },
   "outputs": [],
   "source": [
    "# подключаем библиотеки\n",
    "import pandas as pd\n",
    "import numpy as np\n",
    "import matplotlib.pyplot as plt\n",
    "import matplotlib.ticker as mticker\n",
    "import seaborn as sns\n",
    "import random\n",
    "\n",
    "\n",
    "from sklearn.linear_model import LogisticRegression\n",
    "from sklearn.metrics import  roc_auc_score, f1_score, accuracy_score\n",
    "from sklearn.preprocessing import OneHotEncoder, OrdinalEncoder\n",
    "\n",
    "from sklearn.feature_selection import mutual_info_classif, SelectKBest\n",
    "\n",
    "import copy\n",
    "\n",
    "from tqdm.notebook import tqdm\n",
    "import warnings\n",
    "from sklearn import set_config"
   ]
  },
  {
   "cell_type": "code",
   "execution_count": 2,
   "id": "812c00fd-ab6c-4792-bd63-7029023bf185",
   "metadata": {
    "tags": []
   },
   "outputs": [],
   "source": [
    "# настраиваем параметры\n",
    "%config InlineBackend.figure_format = 'svg' \n",
    "%matplotlib inline\n",
    "sns.set_style(\"darkgrid\")\n",
    "warnings.filterwarnings('ignore')\n",
    "set_config(display=\"diagram\")"
   ]
  },
  {
   "cell_type": "markdown",
   "id": "c5b1489f-352e-48f8-8f97-fd6abd8ee322",
   "metadata": {},
   "source": [
    "# Подготовка данных"
   ]
  },
  {
   "cell_type": "markdown",
   "id": "2dc57f13-8683-4909-915c-992de386d3e7",
   "metadata": {},
   "source": [
    "## Обучение в реальном времени, по сценарию 1"
   ]
  },
  {
   "cell_type": "code",
   "execution_count": 3,
   "id": "936a2ada-4dd2-4aa7-948e-730616f9715d",
   "metadata": {
    "tags": []
   },
   "outputs": [],
   "source": [
    "# Сгенерируем последовательность игр. В каждой игре два признака: выбор пользователя и выбор бота (пользователя 2)\n",
    "# Необходимо для отладки и прогона кода, в дальнейшем будем обучать на неслучайных массивах\n",
    "data = np.random.randint(3, size=(10, 2))"
   ]
  },
  {
   "cell_type": "code",
   "execution_count": 4,
   "id": "f55923d7-41b4-4be3-a574-a893e4329cf7",
   "metadata": {
    "tags": []
   },
   "outputs": [],
   "source": [
    "# представим данные в табличном виде\n",
    "df = pd.DataFrame(data, columns=(['user', 'bot']))"
   ]
  },
  {
   "cell_type": "markdown",
   "id": "327b8d39-d745-4df7-b1bc-5577730a8854",
   "metadata": {},
   "source": [
    "На входе имеем информацию о последовательности выборов пользователя и бота.\n",
    "С учетом этого, можем создать признаки:\n",
    "1. предыдущие выборы пользователя\n",
    "2. предыдущие выборы бота\n",
    "3. мода предыдущих выборов пользователя и бота\n",
    "4. доля класса 0/1/2 в предыдущих выборах пользователя и бота\n",
    "5. признак исхода предыдущих партий (победа пользователя, ничья, победа бота)"
   ]
  },
  {
   "cell_type": "code",
   "execution_count": 5,
   "id": "43ad98b1-b4d5-4399-a1fa-bde9041c07cd",
   "metadata": {
    "tags": []
   },
   "outputs": [],
   "source": [
    "# создадим функцию по добавлению признаков\n",
    "def features_maker(df: pd.DataFrame, max_lag: int=10) -> pd.DataFrame:\n",
    "    df_upd = copy.deepcopy(df)\n",
    "    \n",
    "    # зададим функцию определяющую результаты игры\n",
    "    # 15 - победа пользователя\n",
    "    # 10 - ничья\n",
    "    # 5 - победа бота\n",
    "    def game_result(x):\n",
    "        if any([(x == [0, 1]).all(), (x == [1, 2]).all(), (x == [2, 0]).all()]):\n",
    "            return 'user_vin'\n",
    "        elif any([(x == [0, 0]).all(), (x == [1, 1]).all(), (x == [2, 2]).all()]):\n",
    "            return 'draw'\n",
    "        elif any([(x == [1, 0]).all(), (x == [2, 1]).all(), (x == [0, 2]).all()]):\n",
    "            return 'user_loss'\n",
    "    \n",
    "    \n",
    "    # добавляем циклом выборы и результат предыдущих шагов\n",
    "    for lag in range(1, max_lag+1):\n",
    "        df_upd[f'user_lag_{lag}'] = df_upd['user'].shift(lag)\n",
    "        df_upd[f'bot_lag_{lag}'] = df_upd['bot'].shift(lag)\n",
    "        df_upd[f'lag_{lag}_result'] = df_upd[[f'user_lag_{lag}', f'bot_lag_{lag}']].apply(lambda x: game_result(x), axis=1)\n",
    "    \n",
    "    # определяем названия столбцов с лагом пользователя и бота\n",
    "    user_lag_columns = df_upd.columns[df_upd.columns.str.contains('user_lag')]\n",
    "    bot_lag_columns = df_upd.columns[df_upd.columns.str.contains('bot_lag')]\n",
    "    \n",
    "    # добавляем первую моду лагов пользователя и бота\n",
    "    df_upd['user_mode'] = df_upd[user_lag_columns].mode(axis=1)[0]\n",
    "    df_upd['bot_mode'] = df_upd[bot_lag_columns].mode(axis=1)[0]\n",
    "    \n",
    "    # добавляем циклом частоту выборов классов в предыдущих шагах\n",
    "    for choice in [0, 1, 2]:\n",
    "        df_upd[f'user_choice_{choice}_share'] = df_upd[user_lag_columns].apply(lambda x: sum(x == choice) / x.count(), axis=1)\n",
    "        df_upd[f'bot_choice_{choice}_share'] = df_upd[bot_lag_columns].apply(lambda x: sum(x == choice) / x.count(), axis=1)\n",
    "    \n",
    "    return df_upd"
   ]
  },
  {
   "cell_type": "code",
   "execution_count": 6,
   "id": "43929320-8430-4401-9456-700593615295",
   "metadata": {
    "tags": []
   },
   "outputs": [],
   "source": [
    "# добавим признаки\n",
    "df_upd = features_maker(df, 9)"
   ]
  },
  {
   "cell_type": "code",
   "execution_count": 7,
   "id": "7c3d1519-a12d-4266-aba1-5372e9f7d508",
   "metadata": {
    "tags": []
   },
   "outputs": [],
   "source": [
    "# удалим первую строку (пока нет информации, боту не на чем предсказывать) \n",
    "# сбросим индекс чтобы при кодировке корректно соединить датафреймы\n",
    "df_upd = df_upd[1:].reset_index(drop=True)"
   ]
  },
  {
   "cell_type": "code",
   "execution_count": 8,
   "id": "98d7381b-8e44-4324-ae86-cedd601e47ac",
   "metadata": {
    "tags": []
   },
   "outputs": [],
   "source": [
    "# разделим признаки на X и y\n",
    "X = df_upd.drop(['user', 'bot'], axis=1)\n",
    "y = df_upd['user']"
   ]
  },
  {
   "cell_type": "code",
   "execution_count": 9,
   "id": "6e370606-e6d0-4d40-8b96-ee56c988de1e",
   "metadata": {
    "tags": []
   },
   "outputs": [],
   "source": [
    "# закодируем категориальные признаки OHE\n",
    "\n",
    "# инициализируем кодировщик\n",
    "ohe = OneHotEncoder(sparse=False, handle_unknown='ignore')\n",
    "\n",
    "# отметим категориальные признаки (все кроме '_share')\n",
    "category_columns = X.columns[~X.columns.str.contains('share')]\n",
    "\n",
    "# выполним кодировку\n",
    "X_ohe = ohe.fit_transform(X[category_columns])\n",
    "X_ohe = pd.DataFrame(X_ohe, columns=ohe.get_feature_names_out())\n",
    "X[ohe.get_feature_names_out()] = X_ohe \n",
    "X.drop(columns=category_columns, inplace=True)"
   ]
  },
  {
   "cell_type": "markdown",
   "id": "a54c1aab-d9e8-43a6-9ee3-ec434be4b390",
   "metadata": {},
   "source": [
    "### Итоговые функции подготовки данных"
   ]
  },
  {
   "cell_type": "code",
   "execution_count": 10,
   "id": "9cf15c0d-8ba6-470e-afc5-32c8f676ebd8",
   "metadata": {
    "tags": []
   },
   "outputs": [],
   "source": [
    "# соберем функцию, получающую на вход массив результатов игр, дающую на выход X и y\n",
    "# т.е. объединим все предыдущие шаги\n",
    "\n",
    "def data_preparation(data: np.array) -> [pd.DataFrame, pd.Series]:\n",
    "    \n",
    "    # представим данные в табличном виде\n",
    "    df = pd.DataFrame(data, columns=(['user', 'bot']))\n",
    "    \n",
    "    # добавим признаки, глубину лагов ограничим количеством проведенных игр-1\n",
    "    df = features_maker(df=df, max_lag=df.shape[0]-1)\n",
    "    \n",
    "    # удалим первую строку (пока нет информации, боту не на чем предсказывать) \n",
    "    # сбросим индекс чтобы при кодировке корректно соединить датафреймы\n",
    "    df = df[1:].reset_index(drop=True)\n",
    "    \n",
    "    # --- разделим признаки на X и y ---\n",
    "    X = df.drop(['user', 'bot'], axis=1)\n",
    "    y = df['user']\n",
    "    \n",
    "    return X, y"
   ]
  },
  {
   "cell_type": "code",
   "execution_count": 11,
   "id": "93161304-c528-472f-983f-7b22542bb88c",
   "metadata": {
    "tags": []
   },
   "outputs": [],
   "source": [
    "# для использования в линейных моделях дополнительно добавим функцию OHE\n",
    "def data_ohe(features: pd.DataFrame, category_columns: list) -> pd.DataFrame:\n",
    "    \n",
    "    # создадим копию исходных признаков\n",
    "    features_duplicate = copy.deepcopy(features)\n",
    "    \n",
    "    # инициализируем кодировщик\n",
    "    ohe = OneHotEncoder(sparse=False, handle_unknown='ignore', drop=None)\n",
    "    \n",
    "    # выполним кодировку\n",
    "    features_ohe = ohe.fit_transform(features_duplicate[category_columns])\n",
    "    \n",
    "    # добавим новые названия закодированых столбцов\n",
    "    features_ohe = pd.DataFrame(features_ohe, columns=ohe.get_feature_names_out())\n",
    "    \n",
    "    # добавим закодированые столбцы к остальным столбцам\n",
    "    features_duplicate[ohe.get_feature_names_out()] = features_ohe\n",
    "    \n",
    "    # удалим старые столбцы до кодировки\n",
    "    features_duplicate.drop(columns=category_columns, inplace=True)\n",
    "    \n",
    "    return features_duplicate"
   ]
  },
  {
   "cell_type": "code",
   "execution_count": 12,
   "id": "a6d4c8ad-d065-4c3e-be8a-86ce0da731a9",
   "metadata": {
    "tags": []
   },
   "outputs": [],
   "source": [
    "# для использования в моделя на основе деревьев добавим функцию порядкового кодирования OE\n",
    "def data_oe(features: pd.DataFrame, category_columns: list) -> pd.DataFrame:\n",
    "    \n",
    "    # создадим копию исходных признаков\n",
    "    features_duplicate = copy.deepcopy(features)\n",
    "    \n",
    "    # инициализируем кодировщик\n",
    "    oe = OrdinalEncoder(encoded_missing_value=-1)\n",
    "    \n",
    "    # выполним кодировку\n",
    "    features_oe = oe.fit_transform(features_duplicate[category_columns])\n",
    "    \n",
    "    # заменим старые столбцы новыми\n",
    "    features_duplicate[category_columns] = features_oe\n",
    "    \n",
    "    return features_duplicate"
   ]
  },
  {
   "cell_type": "markdown",
   "id": "fd15075a-b07d-44f2-83d1-eac08d2b0a8b",
   "metadata": {
    "tags": []
   },
   "source": [
    "# Моделирование"
   ]
  },
  {
   "cell_type": "markdown",
   "id": "1a2e7921-4dd6-4899-88cf-99f5e28dd2f1",
   "metadata": {},
   "source": [
    "## Подбор модели логистической регрессии"
   ]
  },
  {
   "cell_type": "markdown",
   "id": "1024c090-b3e5-4247-95b7-ef6a14deba73",
   "metadata": {},
   "source": [
    "Зададим неслучайный массив результатов игр\n",
    "<br>Т.к. каждый последующий выбор пользователя зависит от результатоы предыдущих игр, максимально правдоподобный массив можно получить только путем игры\n",
    "<br>Первый массив создадим так: будем делать поочереди выбор за пользователя и за бота с учетом предыдущих выборов каждого\n",
    "<br>На этом массиве подберем гиперпараметры и первые тесты. В дальнейшем модель будет обучаться на реальных данных в процессе игры"
   ]
  },
  {
   "cell_type": "code",
   "execution_count": 13,
   "id": "deb241df-3c8a-4600-9d73-75884ebf3e21",
   "metadata": {},
   "outputs": [],
   "source": [
    "data_first = [[0, 0],\n",
    "              [0, 1],\n",
    "              [1, 2],\n",
    "              [1, 0],\n",
    "              [1, 0],\n",
    "              [2, 1],\n",
    "              [0, 2],\n",
    "              [1, 0],\n",
    "              [1, 0],\n",
    "              [2, 2],\n",
    "              [2, 2],\n",
    "              [2, 1],\n",
    "              [2, 1],\n",
    "              [2, 1],\n",
    "              [0, 1],\n",
    "              [0, 2],\n",
    "              [0, 2],\n",
    "              [1, 2],\n",
    "              [1, 2],\n",
    "              [1, 0],\n",
    "              [1, 0],\n",
    "              [1, 0],\n",
    "              [2, 0],\n",
    "              [2, 1],\n",
    "              [2, 1],\n",
    "              [2, 1]]"
   ]
  },
  {
   "cell_type": "markdown",
   "id": "416cacca-7449-4efc-8a91-963085489c0b",
   "metadata": {},
   "source": [
    "### Формирование модели"
   ]
  },
  {
   "cell_type": "code",
   "execution_count": 14,
   "id": "c1b2c735-02cf-4c5b-ac20-91b54ff2b202",
   "metadata": {
    "tags": []
   },
   "outputs": [],
   "source": [
    "# зададим функцию, выдающую предсказание следующего шага на основе предыдущих\n",
    "# LogisticRegression\n",
    "def next_step_log_reg_predictor(data: list[list], random_first_steps: int=4, best_features='all', regularization: float=1.0) -> int:\n",
    "    '''\n",
    "    на входе: \n",
    "    - последовательность выборов пользователя и бота в формате [[user, bot], ...]\n",
    "    - количество первых шагов, для которых будет использоваться стратегия случайного прогноза (min=4)\n",
    "    на выходе:\n",
    "    - предсказание следующего выбора пользователя\n",
    "    '''\n",
    "    \n",
    "    # создадим копию исходных данных\n",
    "    data_copy = copy.deepcopy(data)\n",
    "    \n",
    "    # если данных для предсказания мало, выбор генерируется случайно\n",
    "    if len(data_copy) < random_first_steps:\n",
    "        return random.randint(0, 2)\n",
    "    else:\n",
    "    \n",
    "        # добавляем пустую пару выборов для предсказания\n",
    "        data_copy.append([None, None])\n",
    "\n",
    "        # подготовка признаков: создание новых признаков, разделение на X и y\n",
    "        X, y = data_preparation(data_copy)\n",
    "\n",
    "        # кодируем признаки\n",
    "        X = data_ohe(X, category_columns=X.columns[~X.columns.str.contains('share')])\n",
    "\n",
    "        # отберем лучшие признаки (работает только при количестве наблюдений 4+\n",
    "        if len(data_copy) >= 4:\n",
    "            feature_selector = SelectKBest(mutual_info_classif, k=best_features)\n",
    "            # фитуем за исключением последнего наблюдения, т.к. так нулы у целевого признака\n",
    "            feature_selector.fit(X[:-1], y[:-1])\n",
    "            X = feature_selector.transform(X)\n",
    "        else:\n",
    "            pass\n",
    "\n",
    "        # инициализируем модель\n",
    "        clf = LogisticRegression(random_state=123, \n",
    "                                 penalty='l2', \n",
    "                                 dual=False, \n",
    "                                 C=regularization, \n",
    "                                 solver='liblinear', \n",
    "                                 multi_class='auto',\n",
    "                                 verbose=0,\n",
    "                                 warm_start=False,\n",
    "                                 n_jobs=-1)\n",
    "\n",
    "        # обучим модель на всех наблюдениях, кроме последнего\n",
    "        clf.fit(X[:-1], y[:-1])\n",
    "\n",
    "        # предскажем следующий выбор\n",
    "        prediction = int(clf.predict(X[-1:])[0])\n",
    "\n",
    "        return prediction"
   ]
  },
  {
   "cell_type": "markdown",
   "id": "86b342bb-5c4a-473a-872d-a1f75cc612db",
   "metadata": {},
   "source": [
    "### Симуляция работы модели"
   ]
  },
  {
   "cell_type": "code",
   "execution_count": 15,
   "id": "e0240b6d-8386-4e6c-99f0-1c26e2f57fc6",
   "metadata": {
    "tags": []
   },
   "outputs": [],
   "source": [
    "# зададим функцию контр-выбора для победы\n",
    "def vin_choice(user_choice: int) -> int:\n",
    "    '''\n",
    "    0 - камень --> 2 \n",
    "    1 - ножницы --> 0\n",
    "    2 - бумага --> 1\n",
    "    '''\n",
    "    if user_choice == 0:\n",
    "        return 2\n",
    "    elif user_choice == 1:\n",
    "        return 0\n",
    "    elif user_choice == 2:\n",
    "        return 1\n",
    "    else:\n",
    "        return 'invalid input'\n",
    "    "
   ]
  },
  {
   "cell_type": "code",
   "execution_count": 16,
   "id": "07d8c8da-6c53-4ea2-b354-9721ec4de8df",
   "metadata": {
    "tags": []
   },
   "outputs": [],
   "source": [
    "# зададим функцию определения победителя\n",
    "def vinner(user_bot_choice: list) -> int:\n",
    "    dict_bot_vins = {1: [[0, 2], [1, 0], [2, 1]],\n",
    "                     0: [[0, 0], [1, 1], [2, 2]],\n",
    "                     -1: [[2, 0], [0, 1], [1, 2]]}\n",
    "    for key in dict_bot_vins:\n",
    "        if user_bot_choice in dict_bot_vins[key]:\n",
    "            return key\n",
    "    "
   ]
  },
  {
   "cell_type": "code",
   "execution_count": 17,
   "id": "46624cf3-d117-4515-8396-55813d34bdcd",
   "metadata": {
    "tags": []
   },
   "outputs": [],
   "source": [
    "# напишем функцию, симулирующую реальную игру пользователя с ботом через телеграм приложение\n",
    "# упростим, предположив, что выборы пользователя не зависят от предыдущих выборов бота\n",
    "def game_simulation(data: list, random_first_steps=4, best_features=20, regularization=1.0):\n",
    "    '''\n",
    "    на входе:\n",
    "    - последовательность выборов пользователя\n",
    "    на выходе:\n",
    "    - последовательность выборов пользователя\n",
    "    - последовательность предсказаний выборов пользователя\n",
    "    - последовательность выборов бота\n",
    "    '''\n",
    "    \n",
    "    games_choices = []\n",
    "    games_results = []\n",
    "\n",
    "    for user_choice in data:\n",
    "        \n",
    "        # делаем предсказание бота\n",
    "        user_choice_prediction = next_step_log_reg_predictor(games_choices, random_first_steps, best_features, regularization)\n",
    "        # делаем выбор бота\n",
    "        bot_choice = vin_choice(user_choice_prediction)\n",
    "        \n",
    "        # заполняем результаты выборов и заносим в games_choices\n",
    "        round_choices = [user_choice, bot_choice]\n",
    "        games_choices.append(round_choices)\n",
    "        \n",
    "        # заполняем статистику игры и заносим в games_results\n",
    "        bot_vin = vinner(round_choices)\n",
    "        round_results = [user_choice, user_choice_prediction, bot_choice, bot_vin]\n",
    "        games_results.append(round_results)\n",
    "    \n",
    "    return pd.DataFrame(games_results, columns=['user_choice', 'user_choice_prediction', 'bot_choice', 'bot_vin'])"
   ]
  },
  {
   "cell_type": "code",
   "execution_count": 18,
   "id": "69221cf8-981c-4bc1-8d2f-309ee98d3c41",
   "metadata": {
    "tags": []
   },
   "outputs": [],
   "source": [
    "# # проведем симуляцию\n",
    "# results = game_simulation(np.array(data_first)[:, 0])\n",
    "# results.head()"
   ]
  },
  {
   "cell_type": "markdown",
   "id": "0cc28401-6af6-4134-8087-983d472f67ca",
   "metadata": {},
   "source": [
    "### Оценка модели"
   ]
  },
  {
   "cell_type": "markdown",
   "id": "05dd2921-53a7-4980-8c10-a933eac6431e",
   "metadata": {},
   "source": [
    "#### Расчет показателей целевой модели"
   ]
  },
  {
   "cell_type": "code",
   "execution_count": 19,
   "id": "9552f050-0294-4638-bb8e-4d81a9f53a47",
   "metadata": {
    "tags": []
   },
   "outputs": [],
   "source": [
    "# на основе статистики рассчитаем интересующие нас показатели\n",
    "# M(J) математическое ожидание бота\n",
    "# Частота и точность угадывания классов\n",
    "# F1\n",
    "\n",
    "def key_scores(results: pd.DataFrame):\n",
    "    \n",
    "    results['flag_guessed'] = results['user_choice'] == results['user_choice_prediction']\n",
    "    \n",
    "    # рассчитаем математическое ожидание бота\n",
    "    m_j = results['bot_vin'].mean()\n",
    "    \n",
    "    # рассчитаем частоту и точность угадывания классов\n",
    "    class_predictions = results.groupby('user_choice')['flag_guessed'].agg(['count', 'mean']).reset_index()\n",
    "    class_predictions['count'] = round(class_predictions['count'] / class_predictions['count'].sum(), 2)\n",
    "    class_predictions.columns = ['class', 'class_frequency', 'prediction_probability']\n",
    "    # подставим вместо идентификаторов классов их значения\n",
    "    class_dict = {0: 'rock', 1: 'scissors', 2: 'paper'}\n",
    "    class_predictions['class'] = class_predictions['class'].map(class_dict)\n",
    "    \n",
    "    # рассчитаем F1\n",
    "    f1 = f1_score(results['user_choice'], results['user_choice_prediction'], average='micro')\n",
    "    \n",
    "    return class_predictions, m_j, f1    "
   ]
  },
  {
   "cell_type": "code",
   "execution_count": 20,
   "id": "e27a83be-b71b-4a4f-bbe2-aaa0730084c9",
   "metadata": {
    "tags": []
   },
   "outputs": [],
   "source": [
    "# Напишем функцию, отображающую динамику изменения показателей от количества сыгранных игр\n",
    "def dinamic_metrics(results: pd.DataFrame):\n",
    "    \n",
    "    dinamic_m_j = pd.DataFrame(columns=['games_cnt', 'm_j'])\n",
    "    dinamic_f1 = pd.DataFrame(columns=['games_cnt', 'f1'])\n",
    "    dinamic_class_predictions = pd.DataFrame(columns=['class', 'class_frequency', 'prediction_probability', 'games_cnt'])\n",
    "    \n",
    "    for i in range(1, len(results)+1):\n",
    "        \n",
    "        # вычисляем метрики по заданному количеству сыгранных игр\n",
    "        class_predictions, m_j, f1 = key_scores(results[:i])\n",
    "        \n",
    "        # добавляем инфо по m_j\n",
    "        dinamic_m_j.loc[len(dinamic_m_j.index)] = [i, m_j]\n",
    "        \n",
    "        # добавляем инфо по f1\n",
    "        dinamic_f1.loc[len(dinamic_f1.index)] = [i, f1]\n",
    "        \n",
    "        # добавляем инфо частоте и точности угадывания классов\n",
    "        class_predictions['games_cnt'] = i\n",
    "        dinamic_class_predictions = pd.concat([dinamic_class_predictions, class_predictions])\n",
    "    \n",
    "    # меняем типы для удобства\n",
    "    dinamic_m_j['games_cnt'] = dinamic_m_j['games_cnt'].astype(int)\n",
    "    dinamic_f1['games_cnt'] = dinamic_f1['games_cnt'].astype(int)\n",
    "    dinamic_class_predictions['games_cnt'] = dinamic_class_predictions['games_cnt'].astype(int)\n",
    "    \n",
    "    return dinamic_m_j, dinamic_f1, dinamic_class_predictions\n",
    "    "
   ]
  },
  {
   "cell_type": "markdown",
   "id": "2f737851-800f-4a67-a7f7-f628051420f5",
   "metadata": {},
   "source": [
    "Так как модель первые несколько выборов делает случайно, то обучается каждый раз по-разному. Поэтому при оценке метрик модели воспользуемся техникой bootstrap - будем смотреть усредненные метрики и значения на границах 95% доверительного интервала"
   ]
  },
  {
   "cell_type": "code",
   "execution_count": 21,
   "id": "da8bc9d5-7007-458e-8ad4-b8c67314a0d5",
   "metadata": {
    "tags": []
   },
   "outputs": [],
   "source": [
    "# единичный расчет метрик модели\n",
    "# использовать в случае, если модель обучает неслучайно (нет случайных выборов при инициализации)\n",
    "# dinamic_m_j, dinamic_f1, dinamic_class_predictions = dinamic_metrics(game_simulation(np.array(data_first)[:, 0]))"
   ]
  },
  {
   "cell_type": "code",
   "execution_count": 22,
   "id": "c472de90-40d3-4d19-aa16-59a18eb175d8",
   "metadata": {
    "tags": []
   },
   "outputs": [],
   "source": [
    "# функция расчета метрик целевой модели с использованием bootstrap\n",
    "def target_model_metrics_ci(data, bootstrap_steps=10, random_first_steps=4, best_features=20, regularization=1.0):\n",
    "    dinamic_m_j_bootstrap = []\n",
    "    dinamic_f1_bootstrap = []\n",
    "    for i in tqdm(range(0, bootstrap_steps)):\n",
    "        dinamic_m_j, dinamic_f1, dinamic_class_predictions = dinamic_metrics(game_simulation(data, random_first_steps, best_features, regularization))\n",
    "        dinamic_m_j_bootstrap.append(list(dinamic_m_j['m_j']))\n",
    "        dinamic_f1_bootstrap.append(list(dinamic_f1['f1']))\n",
    "\n",
    "    # переведем в numpy массивы для удобства расчетов\n",
    "    dinamic_m_j_bootstrap = np.array(dinamic_m_j_bootstrap)\n",
    "    dinamic_f1_bootstrap = np.array(dinamic_f1_bootstrap)\n",
    "\n",
    "    # рассчитаем среднее значение f1 и m_j и границы доверительного интервала\n",
    "    dinamic_m_j_data = pd.DataFrame(columns=['games_cnt', 'm_j_avg', 'm_j_ci_0', 'm_j_ci_025', 'm_j_ci_975', 'm_j_ci_100'])\n",
    "    dinamic_f1_data = pd.DataFrame(columns=['games_cnt', 'f1_avg', 'f1_ci_0', 'f1_ci_025', 'f1_ci_975', 'f1_ci_100'])\n",
    "\n",
    "    for i in range(dinamic_m_j_bootstrap.shape[1]):\n",
    "\n",
    "        # выбираем массив со всеми получившимися f1 и m_j для заданного количества игр\n",
    "        m_j_array = dinamic_m_j_bootstrap[:, i]\n",
    "        f1_array = dinamic_f1_bootstrap[:, i]\n",
    "\n",
    "        # считаем показатели m_j\n",
    "        m_j_avg = m_j_array.mean()\n",
    "        m_j_ci_0 = np.quantile(m_j_array, 0)\n",
    "        m_j_ci_025 = np.quantile(m_j_array, 0.25)\n",
    "        m_j_ci_975 = np.quantile(m_j_array, 0.975)\n",
    "        m_j_ci_100 = np.quantile(m_j_array, 1)\n",
    "\n",
    "        # считаем показатели f1\n",
    "        f1_avg = f1_array.mean()\n",
    "        f1_ci_0 = np.quantile(f1_array, 0)\n",
    "        f1_ci_025 = np.quantile(f1_array, 0.25)\n",
    "        f1_ci_975 = np.quantile(f1_array, 0.975)\n",
    "        f1_ci_100 = np.quantile(f1_array, 1)\n",
    "\n",
    "        # добавляем инфо по показателям в таблицу\n",
    "        dinamic_m_j_data.loc[len(dinamic_m_j_data.index)] = [i+1, m_j_avg, m_j_ci_0, m_j_ci_025, m_j_ci_975, m_j_ci_100]\n",
    "        dinamic_f1_data.loc[len(dinamic_f1_data.index)] = [i+1, f1_avg, f1_ci_0, f1_ci_025, f1_ci_975, f1_ci_100]\n",
    "    return dinamic_m_j_data, dinamic_f1_data"
   ]
  },
  {
   "cell_type": "code",
   "execution_count": 23,
   "id": "3ddc1699-e757-4e77-bfbe-eec7685cd907",
   "metadata": {
    "tags": []
   },
   "outputs": [
    {
     "data": {
      "application/vnd.jupyter.widget-view+json": {
       "model_id": "b5d432ab1e3e414d87ce12407a534c3b",
       "version_major": 2,
       "version_minor": 0
      },
      "text/plain": [
       "  0%|          | 0/100 [00:00<?, ?it/s]"
      ]
     },
     "metadata": {},
     "output_type": "display_data"
    }
   ],
   "source": [
    "dinamic_m_j_data, dinamic_f1_data = target_model_metrics_ci(data=np.array(data_first)[:, 0],\n",
    "                                                            bootstrap_steps=100,\n",
    "                                                            random_first_steps=4,\n",
    "                                                            best_features=20, \n",
    "                                                            regularization=1.0)"
   ]
  },
  {
   "cell_type": "code",
   "execution_count": 24,
   "id": "e4b0b96e-9f05-4993-bf5b-ed70f36e0251",
   "metadata": {
    "tags": []
   },
   "outputs": [],
   "source": [
    "# зададим функцию отображения динамики по m_j\n",
    "def plot_m_j(data):\n",
    "    \n",
    "    fig = plt.figure(figsize=(10, 5))\n",
    "    plt.title('Анализ математического ожидания модели', fontsize=20)\n",
    "    plt.ylabel('Математическое ожидание', size=12)\n",
    "    plt.xlabel('Количество сыгранных игр', size=12)\n",
    "\n",
    "    plt.plot(data['games_cnt'], data['m_j_avg'], color='black', linestyle='-', linewidth=2, label='Среднее значение Мат.ожидания целевой модели')\n",
    "    # plt.plot(dinamic_m_j['games_cnt'], dinamic_m_j['m_j_ci_025'], color='black', linestyle='-', linewidth=2, label='Мат.ожидание модели')\n",
    "    # plt.plot(dinamic_m_j['games_cnt'], dinamic_m_j['m_j_ci_975'], color='black', linestyle='-', linewidth=2, label='Мат.ожидание модели')\n",
    "    \n",
    "    plt.fill_between(data['games_cnt'], data['m_j_ci_025'], data['m_j_ci_975'], color='black', alpha=0.1, label='95% доверительный интервал целевой модели')\n",
    "    \n",
    "    # plt.fill_between(data['games_cnt'], data['m_j_ci_0'], data['m_j_ci_025'], color='red', alpha=0.1, label='5% оставшихся значений целевой модели')\n",
    "    # plt.fill_between(data['games_cnt'], data['m_j_ci_975'], data['m_j_ci_100'], color='red', alpha=0.1)\n",
    "    \n",
    "    \n",
    "    plt.hlines(0.05, 1, len(data), color = 'r', linestyle = '--', linewidth=2, label='Мат.ожидание 5%')\n",
    "    \n",
    "    plt.legend(loc='upper right', prop={'size': 12})\n",
    "    plt.xlim(left=1)\n",
    "    plt.gca().yaxis.set_major_formatter(mticker.PercentFormatter(1, decimals=0))\n",
    "\n",
    "    # plt.xticks(rotation=0)\n",
    "    plt.xticks(range(1, len(data)+1, 1))\n",
    "\n",
    "    plt.tight_layout()\n",
    "    plt.show()\n"
   ]
  },
  {
   "cell_type": "code",
   "execution_count": 25,
   "id": "3783f30b-1f56-4fef-b63a-6caca1a3910b",
   "metadata": {
    "tags": []
   },
   "outputs": [],
   "source": [
    "# зададим функцию отображения динамики по f1\n",
    "def plot_f1(data):\n",
    "\n",
    "    # fig = plt.figure(figsize=(10, 3))\n",
    "    # plt.title('Изменение метрики F1 в зависимости от сыгранных игр')\n",
    "    # plt.ylabel('F1', size=12)\n",
    "    # plt.xlabel('Количество сыгранных игр', size=12)\n",
    "\n",
    "    plt.plot(data['games_cnt'], data['f1_avg'], color='black', linestyle='-', linewidth=2, label='Среднее значение F1 целевой модели')\n",
    "    \n",
    "    plt.fill_between(data['games_cnt'], data['f1_ci_025'], data['f1_ci_975'], color='black', alpha=0.1, label='95% доверительный интервал целевой модели')\n",
    "    \n",
    "    # plt.fill_between(data['games_cnt'], data['f1_ci_0'], data['f1_ci_025'], color='red', alpha=0.1, label='5% оставшихся значений целевой модели')\n",
    "    # plt.fill_between(data['games_cnt'], data['f1_ci_975'], data['f1_ci_100'], color='red', alpha=0.1)\n",
    "    \n",
    "    # ax = sns.lineplot(data=dinamic_f1, x=dinamic_f1['games_cnt'], y='f1', color='black')\n",
    "    # ax.hlines(0, 1, len(dinamic_f1), color = 'r', linestyle = ':')\n",
    "\n",
    "    # plt.xlim(left=1)\n",
    "    # ax.yaxis.set_major_formatter(mticker.PercentFormatter(1, decimals=0))\n",
    "\n",
    "    # plt.xticks(rotation=0)\n",
    "    # plt.xticks(range(1, len(dinamic_f1)+1, 1))\n",
    "\n",
    "    # plt.tight_layout()\n",
    "    # plt.show()"
   ]
  },
  {
   "cell_type": "code",
   "execution_count": 26,
   "id": "1f639c9c-c8b8-458f-ad6f-8398d7232564",
   "metadata": {
    "tags": []
   },
   "outputs": [],
   "source": [
    "# неактуально при расчете доверительного интервала, можно использовать, когда модель будет полностью детерминирована (без случайных выборов на первых шагах)\n",
    "# # зададим функцию отображения динамики по частоте и точности угадывания классов\n",
    "# def plot_classes(dinamic_class_predictions):\n",
    "\n",
    "#     fig = plt.figure(figsize=(10, 6))\n",
    "\n",
    "#     # строим график с вероятностями угадать класс\n",
    "#     fig.add_subplot(2, 1, 1)\n",
    "#     plt.title('Анализ классов: вероятность определения', fontsize=20)\n",
    "#     plt.ylabel('Вероятность угадывания', size=12)\n",
    "#     plt.xlabel('Количество сыгранных игр', size=12)\n",
    "\n",
    "#     ax = sns.lineplot(data=dinamic_class_predictions, x=dinamic_class_predictions['games_cnt'], y='prediction_probability', hue='class', palette='Set1')\n",
    "    \n",
    "#     plt.xticks(range(1, dinamic_class_predictions['games_cnt'].max()+1, 1))\n",
    "#     plt.xlim(left=1)\n",
    "#     ax.yaxis.set_major_formatter(mticker.PercentFormatter(1, decimals=0))\n",
    "#     # ax.get_xaxis().set_visible(False)\n",
    "\n",
    "#     # ------------------------------------------------------------------------\n",
    "\n",
    "#     # строим график с частотами классов\n",
    "#     fig.add_subplot(2, 1, 2)\n",
    "#     plt.title('Анализ классов: распределение', fontsize=20)\n",
    "\n",
    "#     ax = sns.barplot(data=dinamic_class_predictions, x=dinamic_class_predictions['games_cnt'], y='class_frequency', hue='class', dodge=True, saturation=0.75, palette='Set1')\n",
    "#     # ax.get_legend().remove()\n",
    "\n",
    "#     plt.xlim(left=0)\n",
    "#     plt.xlim(right=dinamic_class_predictions['games_cnt'].max())\n",
    "#     ax.yaxis.set_major_formatter(mticker.PercentFormatter(1, decimals=0))\n",
    "\n",
    "#     plt.ylabel('Доля класса', size=12)\n",
    "#     plt.xlabel('Количество сыгранных игр', size=12)\n",
    "\n",
    "#     plt.tight_layout()\n",
    "#     plt.show()"
   ]
  },
  {
   "cell_type": "markdown",
   "id": "a65852b3-3ff1-4fa6-b0b3-3d3d6ebd4db9",
   "metadata": {},
   "source": [
    "#### Сравнение с показателями базовой модели"
   ]
  },
  {
   "cell_type": "markdown",
   "id": "f3a360df-73c7-4fa0-a0ce-6a4a6ce3d103",
   "metadata": {},
   "source": [
    "Применим bootstrap для определения доверительного интервала метрики F1 базовой модели"
   ]
  },
  {
   "cell_type": "code",
   "execution_count": 27,
   "id": "3acd5405-c08c-48aa-9846-4cb88e881402",
   "metadata": {
    "tags": []
   },
   "outputs": [],
   "source": [
    "# Напишем функцию\n",
    "# применим технику BOOTSTRAP: n раз сгенерируем случайные ответы бота\n",
    "# рассчитаем среднее значение метрики F1\n",
    "# и границы доверительного интервала 95%\n",
    "# в зависимости от количества игр\n",
    "# и отобразим все на графике\n",
    "def f1_random_bootstrap(user_choices: list, bootstrap_steps: int=100) -> np.array:\n",
    "    f1_matrix = []\n",
    "\n",
    "    for i in range(bootstrap_steps):\n",
    "        bot_choices = np.random.randint(3, size=len(user_choices))\n",
    "        f1_array = []\n",
    "\n",
    "        for k in range(1, len(bot_choices)+1):\n",
    "            f1 = f1_score(user_choices[:k], bot_choices[:k], average='micro')\n",
    "            f1_array.append(f1)\n",
    "\n",
    "        f1_matrix.append(f1_array)\n",
    "    f1_matrix = np.array(f1_matrix)\n",
    "    \n",
    "    # рассчитаем среднее значение f1 и границы доверительного интервала\n",
    "    data_bootstrap_f1 = pd.DataFrame(columns=['games_cnt', 'f1_avg', 'f1_ci_0', 'f1_ci_025', 'f1_ci_95',  'f1_ci_975', 'f1_ci_100'])\n",
    "    for i in range(f1_matrix.shape[1]):\n",
    "        # выбираем массив со всеми получившимися f1 для заданного количества игр\n",
    "        f1_array = f1_matrix[:, i]\n",
    "        # считаем показатели\n",
    "        f1_avg = f1_array.mean()\n",
    "        f1_ci_0 = np.quantile(f1_array, 0)\n",
    "        f1_ci_025 = np.quantile(f1_array, 0.25)\n",
    "        f1_ci_95 = np.quantile(f1_array, 0.95)\n",
    "        f1_ci_975 = np.quantile(f1_array, 0.975)\n",
    "        f1_ci_100 = np.quantile(f1_array, 1)\n",
    "        # добавляем инфо по показателям в таблицу\n",
    "        data_bootstrap_f1.loc[len(data_bootstrap_f1.index)] = [i+1, f1_avg, f1_ci_0, f1_ci_025, f1_ci_95, f1_ci_975, f1_ci_100]\n",
    "    \n",
    "    return data_bootstrap_f1"
   ]
  },
  {
   "cell_type": "code",
   "execution_count": 28,
   "id": "047ded50-2228-4c52-99ea-2f4034c41352",
   "metadata": {
    "tags": []
   },
   "outputs": [],
   "source": [
    "# сохраним табличные результаты bootstrep в переменную\n",
    "data_bootstrap_f1 = f1_random_bootstrap(np.array(data_first)[:, 0], 1000)"
   ]
  },
  {
   "cell_type": "code",
   "execution_count": 29,
   "id": "206effe5-4e17-4124-aa09-b5a4e695d691",
   "metadata": {},
   "outputs": [],
   "source": [
    "# зададим функцю построения среднего и доверительного интервала f1, полученных bootstrap для случайной модели\n",
    "def plot_f1_botstrap_ci(data_bootstrap_f1):\n",
    "\n",
    "    # fig = plt.figure(figsize=(10, 3))\n",
    "\n",
    "    # plt.title('Доверительный интервал метрики F1 в зависимости от количества игр')\n",
    "    # plt.ylabel('F1', size=12)\n",
    "    # plt.xlabel('Количество сыгранных игр', size=12)\n",
    "\n",
    "    plt.plot(data_bootstrap_f1['games_cnt'], data_bootstrap_f1['f1_avg'], color='red', linestyle='--', linewidth=2, label='Среднее значение F1 случайной модели')\n",
    "    # plt.plot(data_bootstrap_f1['games_cnt'], data_bootstrap_f1['f1_ci_0'], color='red', linestyle='--', linewidth=1)\n",
    "    # plt.plot(data_bootstrap_f1['games_cnt'], data_bootstrap_f1['f1_ci_95'], color='red', linestyle='--', linewidth=1)\n",
    "    # plt.legend(loc='upper right')\n",
    "\n",
    "    plt.fill_between(data_bootstrap_f1['games_cnt'], data_bootstrap_f1['f1_ci_025'], data_bootstrap_f1['f1_ci_975'], color='red', alpha=0.1, label='95% доверительный интервал случайной модели')\n",
    "    # plt.fill_between(data_bootstrap_f1['games_cnt'], data_bootstrap_f1['f1_ci_95'], data_bootstrap_f1['f1_ci_100'], color='black', alpha=0.1, label='P-value 5%')\n",
    "\n",
    "    # plt.xlim(left=1)\n",
    "    # plt.gca().yaxis.set_major_formatter(mticker.PercentFormatter(1, decimals=0))\n",
    "\n",
    "    # plt.xticks(rotation=0)\n",
    "    # plt.xticks(range(1, len(data_bootstrap_f1)+1, 1))\n",
    "\n",
    "    # plt.tight_layout()\n",
    "    # plt.show()"
   ]
  },
  {
   "cell_type": "markdown",
   "id": "7594837c-80d0-4a9c-886c-71a2d9729f61",
   "metadata": {},
   "source": [
    "#### Результаты"
   ]
  },
  {
   "cell_type": "markdown",
   "id": "f3124618-a25f-40f8-88b8-524064c06afb",
   "metadata": {},
   "source": [
    "Нам необходимо проверить два утверждения \n",
    "\n",
    "<br>**Касательно метрики F1**\n",
    "<br>Хотим проверить, что целевая модель имеет лучшую точность, чем базовая, для этого сформулируем гипотезы:\n",
    "* Нулевая гипотеза ($H_0$) - среднее значение F1 базовой модели равно среднему значению F1 целевой модели\n",
    "* Алтернативная гипотеза ($H_1$) - среднее значение F1 базовой модели не равно среднему значению F1 целевой модели\n",
    "* Двусторонний тест, $Pvalue = 5\\%$\n",
    "\n",
    "<br>**Касательно метрики Математическое ожидание:**\n",
    "<br>Хотим проверить, что выполняется заданный в начале проекта критерий успешности - математическое ожидание не менее 5%, для этого сформулируем гипотезы:\n",
    "* Нулевая гипотеза ($H_0$) - среднее значение Математического ожидания целевой модели равно 5%\n",
    "* Алтернативная гипотеза ($H_1$) - среднее значение Математического ожидания целевой модели не равно 5%\n",
    "* Двусторонний тест, $Pvalue = 5\\%$\n"
   ]
  },
  {
   "cell_type": "code",
   "execution_count": 30,
   "id": "6963efc8-623f-48ea-9de7-cd8a9b495d0d",
   "metadata": {
    "tags": []
   },
   "outputs": [
    {
     "data": {
      "image/svg+xml": "<?xml version=\"1.0\" encoding=\"utf-8\" standalone=\"no\"?>\n<!DOCTYPE svg PUBLIC \"-//W3C//DTD SVG 1.1//EN\"\n  \"http://www.w3.org/Graphics/SVG/1.1/DTD/svg11.dtd\">\n<svg xmlns:xlink=\"http://www.w3.org/1999/xlink\" width=\"711.602812pt\" height=\"350.40875pt\" viewBox=\"0 0 711.602812 350.40875\" xmlns=\"http://www.w3.org/2000/svg\" version=\"1.1\">\n <metadata>\n  <rdf:RDF xmlns:dc=\"http://purl.org/dc/elements/1.1/\" xmlns:cc=\"http://creativecommons.org/ns#\" xmlns:rdf=\"http://www.w3.org/1999/02/22-rdf-syntax-ns#\">\n   <cc:Work>\n    <dc:type rdf:resource=\"http://purl.org/dc/dcmitype/StillImage\"/>\n    <dc:date>2023-04-20T16:00:27.773039</dc:date>\n    <dc:format>image/svg+xml</dc:format>\n    <dc:creator>\n     <cc:Agent>\n      <dc:title>Matplotlib v3.7.1, https://matplotlib.org/</dc:title>\n     </cc:Agent>\n    </dc:creator>\n   </cc:Work>\n  </rdf:RDF>\n </metadata>\n <defs>\n  <style type=\"text/css\">*{stroke-linejoin: round; stroke-linecap: butt}</style>\n </defs>\n <g id=\"figure_1\">\n  <g id=\"patch_1\">\n   <path d=\"M 0 350.40875 \nL 711.602812 350.40875 \nL 711.602812 0 \nL 0 0 \nz\n\" style=\"fill: #ffffff\"/>\n  </g>\n  <g id=\"axes_1\">\n   <g id=\"patch_2\">\n    <path d=\"M 58.402813 310.916875 \nL 704.402813 310.916875 \nL 704.402813 28.396875 \nL 58.402813 28.396875 \nz\n\" style=\"fill: #eaeaf2\"/>\n   </g>\n   <g id=\"matplotlib.axis_1\">\n    <g id=\"xtick_1\">\n     <g id=\"line2d_1\">\n      <path d=\"M 58.402813 310.916875 \nL 58.402813 28.396875 \n\" clip-path=\"url(#p7541a98a83)\" style=\"fill: none; stroke: #ffffff; stroke-width: 0.8; stroke-linecap: round\"/>\n     </g>\n     <g id=\"text_1\">\n      <!-- 1 -->\n      <g style=\"fill: #262626\" transform=\"translate(55.221563 325.515312) scale(0.1 -0.1)\">\n       <defs>\n        <path id=\"DejaVuSans-31\" d=\"M 794 531 \nL 1825 531 \nL 1825 4091 \nL 703 3866 \nL 703 4441 \nL 1819 4666 \nL 2450 4666 \nL 2450 531 \nL 3481 531 \nL 3481 0 \nL 794 0 \nL 794 531 \nz\n\" transform=\"scale(0.015625)\"/>\n       </defs>\n       <use xlink:href=\"#DejaVuSans-31\"/>\n      </g>\n     </g>\n    </g>\n    <g id=\"xtick_2\">\n     <g id=\"line2d_2\">\n      <path d=\"M 83.012336 310.916875 \nL 83.012336 28.396875 \n\" clip-path=\"url(#p7541a98a83)\" style=\"fill: none; stroke: #ffffff; stroke-width: 0.8; stroke-linecap: round\"/>\n     </g>\n     <g id=\"text_2\">\n      <!-- 2 -->\n      <g style=\"fill: #262626\" transform=\"translate(79.831086 325.515312) scale(0.1 -0.1)\">\n       <defs>\n        <path id=\"DejaVuSans-32\" d=\"M 1228 531 \nL 3431 531 \nL 3431 0 \nL 469 0 \nL 469 531 \nQ 828 903 1448 1529 \nQ 2069 2156 2228 2338 \nQ 2531 2678 2651 2914 \nQ 2772 3150 2772 3378 \nQ 2772 3750 2511 3984 \nQ 2250 4219 1831 4219 \nQ 1534 4219 1204 4116 \nQ 875 4013 500 3803 \nL 500 4441 \nQ 881 4594 1212 4672 \nQ 1544 4750 1819 4750 \nQ 2544 4750 2975 4387 \nQ 3406 4025 3406 3419 \nQ 3406 3131 3298 2873 \nQ 3191 2616 2906 2266 \nQ 2828 2175 2409 1742 \nQ 1991 1309 1228 531 \nz\n\" transform=\"scale(0.015625)\"/>\n       </defs>\n       <use xlink:href=\"#DejaVuSans-32\"/>\n      </g>\n     </g>\n    </g>\n    <g id=\"xtick_3\">\n     <g id=\"line2d_3\">\n      <path d=\"M 107.62186 310.916875 \nL 107.62186 28.396875 \n\" clip-path=\"url(#p7541a98a83)\" style=\"fill: none; stroke: #ffffff; stroke-width: 0.8; stroke-linecap: round\"/>\n     </g>\n     <g id=\"text_3\">\n      <!-- 3 -->\n      <g style=\"fill: #262626\" transform=\"translate(104.44061 325.515312) scale(0.1 -0.1)\">\n       <defs>\n        <path id=\"DejaVuSans-33\" d=\"M 2597 2516 \nQ 3050 2419 3304 2112 \nQ 3559 1806 3559 1356 \nQ 3559 666 3084 287 \nQ 2609 -91 1734 -91 \nQ 1441 -91 1130 -33 \nQ 819 25 488 141 \nL 488 750 \nQ 750 597 1062 519 \nQ 1375 441 1716 441 \nQ 2309 441 2620 675 \nQ 2931 909 2931 1356 \nQ 2931 1769 2642 2001 \nQ 2353 2234 1838 2234 \nL 1294 2234 \nL 1294 2753 \nL 1863 2753 \nQ 2328 2753 2575 2939 \nQ 2822 3125 2822 3475 \nQ 2822 3834 2567 4026 \nQ 2313 4219 1838 4219 \nQ 1578 4219 1281 4162 \nQ 984 4106 628 3988 \nL 628 4550 \nQ 988 4650 1302 4700 \nQ 1616 4750 1894 4750 \nQ 2613 4750 3031 4423 \nQ 3450 4097 3450 3541 \nQ 3450 3153 3228 2886 \nQ 3006 2619 2597 2516 \nz\n\" transform=\"scale(0.015625)\"/>\n       </defs>\n       <use xlink:href=\"#DejaVuSans-33\"/>\n      </g>\n     </g>\n    </g>\n    <g id=\"xtick_4\">\n     <g id=\"line2d_4\">\n      <path d=\"M 132.231384 310.916875 \nL 132.231384 28.396875 \n\" clip-path=\"url(#p7541a98a83)\" style=\"fill: none; stroke: #ffffff; stroke-width: 0.8; stroke-linecap: round\"/>\n     </g>\n     <g id=\"text_4\">\n      <!-- 4 -->\n      <g style=\"fill: #262626\" transform=\"translate(129.050134 325.515312) scale(0.1 -0.1)\">\n       <defs>\n        <path id=\"DejaVuSans-34\" d=\"M 2419 4116 \nL 825 1625 \nL 2419 1625 \nL 2419 4116 \nz\nM 2253 4666 \nL 3047 4666 \nL 3047 1625 \nL 3713 1625 \nL 3713 1100 \nL 3047 1100 \nL 3047 0 \nL 2419 0 \nL 2419 1100 \nL 313 1100 \nL 313 1709 \nL 2253 4666 \nz\n\" transform=\"scale(0.015625)\"/>\n       </defs>\n       <use xlink:href=\"#DejaVuSans-34\"/>\n      </g>\n     </g>\n    </g>\n    <g id=\"xtick_5\">\n     <g id=\"line2d_5\">\n      <path d=\"M 156.840908 310.916875 \nL 156.840908 28.396875 \n\" clip-path=\"url(#p7541a98a83)\" style=\"fill: none; stroke: #ffffff; stroke-width: 0.8; stroke-linecap: round\"/>\n     </g>\n     <g id=\"text_5\">\n      <!-- 5 -->\n      <g style=\"fill: #262626\" transform=\"translate(153.659658 325.515312) scale(0.1 -0.1)\">\n       <defs>\n        <path id=\"DejaVuSans-35\" d=\"M 691 4666 \nL 3169 4666 \nL 3169 4134 \nL 1269 4134 \nL 1269 2991 \nQ 1406 3038 1543 3061 \nQ 1681 3084 1819 3084 \nQ 2600 3084 3056 2656 \nQ 3513 2228 3513 1497 \nQ 3513 744 3044 326 \nQ 2575 -91 1722 -91 \nQ 1428 -91 1123 -41 \nQ 819 9 494 109 \nL 494 744 \nQ 775 591 1075 516 \nQ 1375 441 1709 441 \nQ 2250 441 2565 725 \nQ 2881 1009 2881 1497 \nQ 2881 1984 2565 2268 \nQ 2250 2553 1709 2553 \nQ 1456 2553 1204 2497 \nQ 953 2441 691 2322 \nL 691 4666 \nz\n\" transform=\"scale(0.015625)\"/>\n       </defs>\n       <use xlink:href=\"#DejaVuSans-35\"/>\n      </g>\n     </g>\n    </g>\n    <g id=\"xtick_6\">\n     <g id=\"line2d_6\">\n      <path d=\"M 181.450432 310.916875 \nL 181.450432 28.396875 \n\" clip-path=\"url(#p7541a98a83)\" style=\"fill: none; stroke: #ffffff; stroke-width: 0.8; stroke-linecap: round\"/>\n     </g>\n     <g id=\"text_6\">\n      <!-- 6 -->\n      <g style=\"fill: #262626\" transform=\"translate(178.269182 325.515312) scale(0.1 -0.1)\">\n       <defs>\n        <path id=\"DejaVuSans-36\" d=\"M 2113 2584 \nQ 1688 2584 1439 2293 \nQ 1191 2003 1191 1497 \nQ 1191 994 1439 701 \nQ 1688 409 2113 409 \nQ 2538 409 2786 701 \nQ 3034 994 3034 1497 \nQ 3034 2003 2786 2293 \nQ 2538 2584 2113 2584 \nz\nM 3366 4563 \nL 3366 3988 \nQ 3128 4100 2886 4159 \nQ 2644 4219 2406 4219 \nQ 1781 4219 1451 3797 \nQ 1122 3375 1075 2522 \nQ 1259 2794 1537 2939 \nQ 1816 3084 2150 3084 \nQ 2853 3084 3261 2657 \nQ 3669 2231 3669 1497 \nQ 3669 778 3244 343 \nQ 2819 -91 2113 -91 \nQ 1303 -91 875 529 \nQ 447 1150 447 2328 \nQ 447 3434 972 4092 \nQ 1497 4750 2381 4750 \nQ 2619 4750 2861 4703 \nQ 3103 4656 3366 4563 \nz\n\" transform=\"scale(0.015625)\"/>\n       </defs>\n       <use xlink:href=\"#DejaVuSans-36\"/>\n      </g>\n     </g>\n    </g>\n    <g id=\"xtick_7\">\n     <g id=\"line2d_7\">\n      <path d=\"M 206.059955 310.916875 \nL 206.059955 28.396875 \n\" clip-path=\"url(#p7541a98a83)\" style=\"fill: none; stroke: #ffffff; stroke-width: 0.8; stroke-linecap: round\"/>\n     </g>\n     <g id=\"text_7\">\n      <!-- 7 -->\n      <g style=\"fill: #262626\" transform=\"translate(202.878705 325.515312) scale(0.1 -0.1)\">\n       <defs>\n        <path id=\"DejaVuSans-37\" d=\"M 525 4666 \nL 3525 4666 \nL 3525 4397 \nL 1831 0 \nL 1172 0 \nL 2766 4134 \nL 525 4134 \nL 525 4666 \nz\n\" transform=\"scale(0.015625)\"/>\n       </defs>\n       <use xlink:href=\"#DejaVuSans-37\"/>\n      </g>\n     </g>\n    </g>\n    <g id=\"xtick_8\">\n     <g id=\"line2d_8\">\n      <path d=\"M 230.669479 310.916875 \nL 230.669479 28.396875 \n\" clip-path=\"url(#p7541a98a83)\" style=\"fill: none; stroke: #ffffff; stroke-width: 0.8; stroke-linecap: round\"/>\n     </g>\n     <g id=\"text_8\">\n      <!-- 8 -->\n      <g style=\"fill: #262626\" transform=\"translate(227.488229 325.515312) scale(0.1 -0.1)\">\n       <defs>\n        <path id=\"DejaVuSans-38\" d=\"M 2034 2216 \nQ 1584 2216 1326 1975 \nQ 1069 1734 1069 1313 \nQ 1069 891 1326 650 \nQ 1584 409 2034 409 \nQ 2484 409 2743 651 \nQ 3003 894 3003 1313 \nQ 3003 1734 2745 1975 \nQ 2488 2216 2034 2216 \nz\nM 1403 2484 \nQ 997 2584 770 2862 \nQ 544 3141 544 3541 \nQ 544 4100 942 4425 \nQ 1341 4750 2034 4750 \nQ 2731 4750 3128 4425 \nQ 3525 4100 3525 3541 \nQ 3525 3141 3298 2862 \nQ 3072 2584 2669 2484 \nQ 3125 2378 3379 2068 \nQ 3634 1759 3634 1313 \nQ 3634 634 3220 271 \nQ 2806 -91 2034 -91 \nQ 1263 -91 848 271 \nQ 434 634 434 1313 \nQ 434 1759 690 2068 \nQ 947 2378 1403 2484 \nz\nM 1172 3481 \nQ 1172 3119 1398 2916 \nQ 1625 2713 2034 2713 \nQ 2441 2713 2670 2916 \nQ 2900 3119 2900 3481 \nQ 2900 3844 2670 4047 \nQ 2441 4250 2034 4250 \nQ 1625 4250 1398 4047 \nQ 1172 3844 1172 3481 \nz\n\" transform=\"scale(0.015625)\"/>\n       </defs>\n       <use xlink:href=\"#DejaVuSans-38\"/>\n      </g>\n     </g>\n    </g>\n    <g id=\"xtick_9\">\n     <g id=\"line2d_9\">\n      <path d=\"M 255.279003 310.916875 \nL 255.279003 28.396875 \n\" clip-path=\"url(#p7541a98a83)\" style=\"fill: none; stroke: #ffffff; stroke-width: 0.8; stroke-linecap: round\"/>\n     </g>\n     <g id=\"text_9\">\n      <!-- 9 -->\n      <g style=\"fill: #262626\" transform=\"translate(252.097753 325.515312) scale(0.1 -0.1)\">\n       <defs>\n        <path id=\"DejaVuSans-39\" d=\"M 703 97 \nL 703 672 \nQ 941 559 1184 500 \nQ 1428 441 1663 441 \nQ 2288 441 2617 861 \nQ 2947 1281 2994 2138 \nQ 2813 1869 2534 1725 \nQ 2256 1581 1919 1581 \nQ 1219 1581 811 2004 \nQ 403 2428 403 3163 \nQ 403 3881 828 4315 \nQ 1253 4750 1959 4750 \nQ 2769 4750 3195 4129 \nQ 3622 3509 3622 2328 \nQ 3622 1225 3098 567 \nQ 2575 -91 1691 -91 \nQ 1453 -91 1209 -44 \nQ 966 3 703 97 \nz\nM 1959 2075 \nQ 2384 2075 2632 2365 \nQ 2881 2656 2881 3163 \nQ 2881 3666 2632 3958 \nQ 2384 4250 1959 4250 \nQ 1534 4250 1286 3958 \nQ 1038 3666 1038 3163 \nQ 1038 2656 1286 2365 \nQ 1534 2075 1959 2075 \nz\n\" transform=\"scale(0.015625)\"/>\n       </defs>\n       <use xlink:href=\"#DejaVuSans-39\"/>\n      </g>\n     </g>\n    </g>\n    <g id=\"xtick_10\">\n     <g id=\"line2d_10\">\n      <path d=\"M 279.888527 310.916875 \nL 279.888527 28.396875 \n\" clip-path=\"url(#p7541a98a83)\" style=\"fill: none; stroke: #ffffff; stroke-width: 0.8; stroke-linecap: round\"/>\n     </g>\n     <g id=\"text_10\">\n      <!-- 10 -->\n      <g style=\"fill: #262626\" transform=\"translate(273.526027 325.515312) scale(0.1 -0.1)\">\n       <defs>\n        <path id=\"DejaVuSans-30\" d=\"M 2034 4250 \nQ 1547 4250 1301 3770 \nQ 1056 3291 1056 2328 \nQ 1056 1369 1301 889 \nQ 1547 409 2034 409 \nQ 2525 409 2770 889 \nQ 3016 1369 3016 2328 \nQ 3016 3291 2770 3770 \nQ 2525 4250 2034 4250 \nz\nM 2034 4750 \nQ 2819 4750 3233 4129 \nQ 3647 3509 3647 2328 \nQ 3647 1150 3233 529 \nQ 2819 -91 2034 -91 \nQ 1250 -91 836 529 \nQ 422 1150 422 2328 \nQ 422 3509 836 4129 \nQ 1250 4750 2034 4750 \nz\n\" transform=\"scale(0.015625)\"/>\n       </defs>\n       <use xlink:href=\"#DejaVuSans-31\"/>\n       <use xlink:href=\"#DejaVuSans-30\" x=\"63.623047\"/>\n      </g>\n     </g>\n    </g>\n    <g id=\"xtick_11\">\n     <g id=\"line2d_11\">\n      <path d=\"M 304.498051 310.916875 \nL 304.498051 28.396875 \n\" clip-path=\"url(#p7541a98a83)\" style=\"fill: none; stroke: #ffffff; stroke-width: 0.8; stroke-linecap: round\"/>\n     </g>\n     <g id=\"text_11\">\n      <!-- 11 -->\n      <g style=\"fill: #262626\" transform=\"translate(298.135551 325.515312) scale(0.1 -0.1)\">\n       <use xlink:href=\"#DejaVuSans-31\"/>\n       <use xlink:href=\"#DejaVuSans-31\" x=\"63.623047\"/>\n      </g>\n     </g>\n    </g>\n    <g id=\"xtick_12\">\n     <g id=\"line2d_12\">\n      <path d=\"M 329.107574 310.916875 \nL 329.107574 28.396875 \n\" clip-path=\"url(#p7541a98a83)\" style=\"fill: none; stroke: #ffffff; stroke-width: 0.8; stroke-linecap: round\"/>\n     </g>\n     <g id=\"text_12\">\n      <!-- 12 -->\n      <g style=\"fill: #262626\" transform=\"translate(322.745074 325.515312) scale(0.1 -0.1)\">\n       <use xlink:href=\"#DejaVuSans-31\"/>\n       <use xlink:href=\"#DejaVuSans-32\" x=\"63.623047\"/>\n      </g>\n     </g>\n    </g>\n    <g id=\"xtick_13\">\n     <g id=\"line2d_13\">\n      <path d=\"M 353.717098 310.916875 \nL 353.717098 28.396875 \n\" clip-path=\"url(#p7541a98a83)\" style=\"fill: none; stroke: #ffffff; stroke-width: 0.8; stroke-linecap: round\"/>\n     </g>\n     <g id=\"text_13\">\n      <!-- 13 -->\n      <g style=\"fill: #262626\" transform=\"translate(347.354598 325.515312) scale(0.1 -0.1)\">\n       <use xlink:href=\"#DejaVuSans-31\"/>\n       <use xlink:href=\"#DejaVuSans-33\" x=\"63.623047\"/>\n      </g>\n     </g>\n    </g>\n    <g id=\"xtick_14\">\n     <g id=\"line2d_14\">\n      <path d=\"M 378.326622 310.916875 \nL 378.326622 28.396875 \n\" clip-path=\"url(#p7541a98a83)\" style=\"fill: none; stroke: #ffffff; stroke-width: 0.8; stroke-linecap: round\"/>\n     </g>\n     <g id=\"text_14\">\n      <!-- 14 -->\n      <g style=\"fill: #262626\" transform=\"translate(371.964122 325.515312) scale(0.1 -0.1)\">\n       <use xlink:href=\"#DejaVuSans-31\"/>\n       <use xlink:href=\"#DejaVuSans-34\" x=\"63.623047\"/>\n      </g>\n     </g>\n    </g>\n    <g id=\"xtick_15\">\n     <g id=\"line2d_15\">\n      <path d=\"M 402.936146 310.916875 \nL 402.936146 28.396875 \n\" clip-path=\"url(#p7541a98a83)\" style=\"fill: none; stroke: #ffffff; stroke-width: 0.8; stroke-linecap: round\"/>\n     </g>\n     <g id=\"text_15\">\n      <!-- 15 -->\n      <g style=\"fill: #262626\" transform=\"translate(396.573646 325.515312) scale(0.1 -0.1)\">\n       <use xlink:href=\"#DejaVuSans-31\"/>\n       <use xlink:href=\"#DejaVuSans-35\" x=\"63.623047\"/>\n      </g>\n     </g>\n    </g>\n    <g id=\"xtick_16\">\n     <g id=\"line2d_16\">\n      <path d=\"M 427.54567 310.916875 \nL 427.54567 28.396875 \n\" clip-path=\"url(#p7541a98a83)\" style=\"fill: none; stroke: #ffffff; stroke-width: 0.8; stroke-linecap: round\"/>\n     </g>\n     <g id=\"text_16\">\n      <!-- 16 -->\n      <g style=\"fill: #262626\" transform=\"translate(421.18317 325.515312) scale(0.1 -0.1)\">\n       <use xlink:href=\"#DejaVuSans-31\"/>\n       <use xlink:href=\"#DejaVuSans-36\" x=\"63.623047\"/>\n      </g>\n     </g>\n    </g>\n    <g id=\"xtick_17\">\n     <g id=\"line2d_17\">\n      <path d=\"M 452.155193 310.916875 \nL 452.155193 28.396875 \n\" clip-path=\"url(#p7541a98a83)\" style=\"fill: none; stroke: #ffffff; stroke-width: 0.8; stroke-linecap: round\"/>\n     </g>\n     <g id=\"text_17\">\n      <!-- 17 -->\n      <g style=\"fill: #262626\" transform=\"translate(445.792693 325.515312) scale(0.1 -0.1)\">\n       <use xlink:href=\"#DejaVuSans-31\"/>\n       <use xlink:href=\"#DejaVuSans-37\" x=\"63.623047\"/>\n      </g>\n     </g>\n    </g>\n    <g id=\"xtick_18\">\n     <g id=\"line2d_18\">\n      <path d=\"M 476.764717 310.916875 \nL 476.764717 28.396875 \n\" clip-path=\"url(#p7541a98a83)\" style=\"fill: none; stroke: #ffffff; stroke-width: 0.8; stroke-linecap: round\"/>\n     </g>\n     <g id=\"text_18\">\n      <!-- 18 -->\n      <g style=\"fill: #262626\" transform=\"translate(470.402217 325.515312) scale(0.1 -0.1)\">\n       <use xlink:href=\"#DejaVuSans-31\"/>\n       <use xlink:href=\"#DejaVuSans-38\" x=\"63.623047\"/>\n      </g>\n     </g>\n    </g>\n    <g id=\"xtick_19\">\n     <g id=\"line2d_19\">\n      <path d=\"M 501.374241 310.916875 \nL 501.374241 28.396875 \n\" clip-path=\"url(#p7541a98a83)\" style=\"fill: none; stroke: #ffffff; stroke-width: 0.8; stroke-linecap: round\"/>\n     </g>\n     <g id=\"text_19\">\n      <!-- 19 -->\n      <g style=\"fill: #262626\" transform=\"translate(495.011741 325.515312) scale(0.1 -0.1)\">\n       <use xlink:href=\"#DejaVuSans-31\"/>\n       <use xlink:href=\"#DejaVuSans-39\" x=\"63.623047\"/>\n      </g>\n     </g>\n    </g>\n    <g id=\"xtick_20\">\n     <g id=\"line2d_20\">\n      <path d=\"M 525.983765 310.916875 \nL 525.983765 28.396875 \n\" clip-path=\"url(#p7541a98a83)\" style=\"fill: none; stroke: #ffffff; stroke-width: 0.8; stroke-linecap: round\"/>\n     </g>\n     <g id=\"text_20\">\n      <!-- 20 -->\n      <g style=\"fill: #262626\" transform=\"translate(519.621265 325.515312) scale(0.1 -0.1)\">\n       <use xlink:href=\"#DejaVuSans-32\"/>\n       <use xlink:href=\"#DejaVuSans-30\" x=\"63.623047\"/>\n      </g>\n     </g>\n    </g>\n    <g id=\"xtick_21\">\n     <g id=\"line2d_21\">\n      <path d=\"M 550.593289 310.916875 \nL 550.593289 28.396875 \n\" clip-path=\"url(#p7541a98a83)\" style=\"fill: none; stroke: #ffffff; stroke-width: 0.8; stroke-linecap: round\"/>\n     </g>\n     <g id=\"text_21\">\n      <!-- 21 -->\n      <g style=\"fill: #262626\" transform=\"translate(544.230789 325.515312) scale(0.1 -0.1)\">\n       <use xlink:href=\"#DejaVuSans-32\"/>\n       <use xlink:href=\"#DejaVuSans-31\" x=\"63.623047\"/>\n      </g>\n     </g>\n    </g>\n    <g id=\"xtick_22\">\n     <g id=\"line2d_22\">\n      <path d=\"M 575.202813 310.916875 \nL 575.202813 28.396875 \n\" clip-path=\"url(#p7541a98a83)\" style=\"fill: none; stroke: #ffffff; stroke-width: 0.8; stroke-linecap: round\"/>\n     </g>\n     <g id=\"text_22\">\n      <!-- 22 -->\n      <g style=\"fill: #262626\" transform=\"translate(568.840313 325.515312) scale(0.1 -0.1)\">\n       <use xlink:href=\"#DejaVuSans-32\"/>\n       <use xlink:href=\"#DejaVuSans-32\" x=\"63.623047\"/>\n      </g>\n     </g>\n    </g>\n    <g id=\"xtick_23\">\n     <g id=\"line2d_23\">\n      <path d=\"M 599.812336 310.916875 \nL 599.812336 28.396875 \n\" clip-path=\"url(#p7541a98a83)\" style=\"fill: none; stroke: #ffffff; stroke-width: 0.8; stroke-linecap: round\"/>\n     </g>\n     <g id=\"text_23\">\n      <!-- 23 -->\n      <g style=\"fill: #262626\" transform=\"translate(593.449836 325.515312) scale(0.1 -0.1)\">\n       <use xlink:href=\"#DejaVuSans-32\"/>\n       <use xlink:href=\"#DejaVuSans-33\" x=\"63.623047\"/>\n      </g>\n     </g>\n    </g>\n    <g id=\"xtick_24\">\n     <g id=\"line2d_24\">\n      <path d=\"M 624.42186 310.916875 \nL 624.42186 28.396875 \n\" clip-path=\"url(#p7541a98a83)\" style=\"fill: none; stroke: #ffffff; stroke-width: 0.8; stroke-linecap: round\"/>\n     </g>\n     <g id=\"text_24\">\n      <!-- 24 -->\n      <g style=\"fill: #262626\" transform=\"translate(618.05936 325.515312) scale(0.1 -0.1)\">\n       <use xlink:href=\"#DejaVuSans-32\"/>\n       <use xlink:href=\"#DejaVuSans-34\" x=\"63.623047\"/>\n      </g>\n     </g>\n    </g>\n    <g id=\"xtick_25\">\n     <g id=\"line2d_25\">\n      <path d=\"M 649.031384 310.916875 \nL 649.031384 28.396875 \n\" clip-path=\"url(#p7541a98a83)\" style=\"fill: none; stroke: #ffffff; stroke-width: 0.8; stroke-linecap: round\"/>\n     </g>\n     <g id=\"text_25\">\n      <!-- 25 -->\n      <g style=\"fill: #262626\" transform=\"translate(642.668884 325.515312) scale(0.1 -0.1)\">\n       <use xlink:href=\"#DejaVuSans-32\"/>\n       <use xlink:href=\"#DejaVuSans-35\" x=\"63.623047\"/>\n      </g>\n     </g>\n    </g>\n    <g id=\"xtick_26\">\n     <g id=\"line2d_26\">\n      <path d=\"M 673.640908 310.916875 \nL 673.640908 28.396875 \n\" clip-path=\"url(#p7541a98a83)\" style=\"fill: none; stroke: #ffffff; stroke-width: 0.8; stroke-linecap: round\"/>\n     </g>\n     <g id=\"text_26\">\n      <!-- 26 -->\n      <g style=\"fill: #262626\" transform=\"translate(667.278408 325.515312) scale(0.1 -0.1)\">\n       <use xlink:href=\"#DejaVuSans-32\"/>\n       <use xlink:href=\"#DejaVuSans-36\" x=\"63.623047\"/>\n      </g>\n     </g>\n    </g>\n    <g id=\"text_27\">\n     <!-- Количество сыгранных игр -->\n     <g style=\"fill: #262626\" transform=\"translate(295.015938 340.713125) scale(0.12 -0.12)\">\n      <defs>\n       <path id=\"DejaVuSans-41a\" d=\"M 628 4666 \nL 1259 4666 \nL 1259 2359 \nL 3516 4666 \nL 4325 4666 \nL 2522 2822 \nL 4419 0 \nL 3731 0 \nL 2113 2403 \nL 1259 1531 \nL 1259 0 \nL 628 0 \nL 628 4666 \nz\n\" transform=\"scale(0.015625)\"/>\n       <path id=\"DejaVuSans-43e\" d=\"M 1959 3097 \nQ 1497 3097 1228 2736 \nQ 959 2375 959 1747 \nQ 959 1119 1226 758 \nQ 1494 397 1959 397 \nQ 2419 397 2687 759 \nQ 2956 1122 2956 1747 \nQ 2956 2369 2687 2733 \nQ 2419 3097 1959 3097 \nz\nM 1959 3584 \nQ 2709 3584 3137 3096 \nQ 3566 2609 3566 1747 \nQ 3566 888 3137 398 \nQ 2709 -91 1959 -91 \nQ 1206 -91 779 398 \nQ 353 888 353 1747 \nQ 353 2609 779 3096 \nQ 1206 3584 1959 3584 \nz\n\" transform=\"scale(0.015625)\"/>\n       <path id=\"DejaVuSans-43b\" d=\"M 238 0 \nL 238 478 \nQ 806 566 981 959 \nQ 1194 1513 1194 2928 \nL 1194 3500 \nL 3559 3500 \nL 3559 0 \nL 2984 0 \nL 2984 3041 \nL 1769 3041 \nL 1769 2694 \nQ 1769 1344 1494 738 \nQ 1200 91 238 0 \nz\n\" transform=\"scale(0.015625)\"/>\n       <path id=\"DejaVuSans-438\" d=\"M 3578 3500 \nL 3578 0 \nL 3006 0 \nL 3006 2809 \nL 1319 0 \nL 581 0 \nL 581 3500 \nL 1153 3500 \nL 1153 697 \nL 2838 3500 \nL 3578 3500 \nz\n\" transform=\"scale(0.015625)\"/>\n       <path id=\"DejaVuSans-447\" d=\"M 2625 0 \nL 2625 1472 \nL 1553 1472 \nQ 1075 1472 756 1769 \nQ 469 2038 469 2613 \nL 469 3500 \nL 1044 3500 \nL 1044 2666 \nQ 1044 2300 1206 2116 \nQ 1372 1931 1697 1931 \nL 2625 1931 \nL 2625 3500 \nL 3200 3500 \nL 3200 0 \nL 2625 0 \nz\n\" transform=\"scale(0.015625)\"/>\n       <path id=\"DejaVuSans-435\" d=\"M 3597 1894 \nL 3597 1613 \nL 953 1613 \nQ 991 1019 1311 708 \nQ 1631 397 2203 397 \nQ 2534 397 2845 478 \nQ 3156 559 3463 722 \nL 3463 178 \nQ 3153 47 2828 -22 \nQ 2503 -91 2169 -91 \nQ 1331 -91 842 396 \nQ 353 884 353 1716 \nQ 353 2575 817 3079 \nQ 1281 3584 2069 3584 \nQ 2775 3584 3186 3129 \nQ 3597 2675 3597 1894 \nz\nM 3022 2063 \nQ 3016 2534 2758 2815 \nQ 2500 3097 2075 3097 \nQ 1594 3097 1305 2825 \nQ 1016 2553 972 2059 \nL 3022 2063 \nz\n\" transform=\"scale(0.015625)\"/>\n       <path id=\"DejaVuSans-441\" d=\"M 3122 3366 \nL 3122 2828 \nQ 2878 2963 2633 3030 \nQ 2388 3097 2138 3097 \nQ 1578 3097 1268 2742 \nQ 959 2388 959 1747 \nQ 959 1106 1268 751 \nQ 1578 397 2138 397 \nQ 2388 397 2633 464 \nQ 2878 531 3122 666 \nL 3122 134 \nQ 2881 22 2623 -34 \nQ 2366 -91 2075 -91 \nQ 1284 -91 818 406 \nQ 353 903 353 1747 \nQ 353 2603 823 3093 \nQ 1294 3584 2113 3584 \nQ 2378 3584 2631 3529 \nQ 2884 3475 3122 3366 \nz\n\" transform=\"scale(0.015625)\"/>\n       <path id=\"DejaVuSans-442\" d=\"M 188 3500 \nL 3541 3500 \nL 3541 3041 \nL 2147 3041 \nL 2147 0 \nL 1581 0 \nL 1581 3041 \nL 188 3041 \nL 188 3500 \nz\n\" transform=\"scale(0.015625)\"/>\n       <path id=\"DejaVuSans-432\" d=\"M 1156 1613 \nL 1156 459 \nL 1975 459 \nQ 2369 459 2575 607 \nQ 2781 756 2781 1038 \nQ 2781 1319 2575 1466 \nQ 2369 1613 1975 1613 \nL 1156 1613 \nz\nM 1156 3041 \nL 1156 2072 \nL 1913 2072 \nQ 2238 2072 2444 2201 \nQ 2650 2331 2650 2563 \nQ 2650 2794 2444 2917 \nQ 2238 3041 1913 3041 \nL 1156 3041 \nz\nM 581 3500 \nL 1950 3500 \nQ 2566 3500 2897 3275 \nQ 3228 3050 3228 2634 \nQ 3228 2313 3059 2123 \nQ 2891 1934 2559 1888 \nQ 2956 1813 3175 1575 \nQ 3394 1338 3394 981 \nQ 3394 513 3033 256 \nQ 2672 0 2003 0 \nL 581 0 \nL 581 3500 \nz\n\" transform=\"scale(0.015625)\"/>\n       <path id=\"DejaVuSans-20\" transform=\"scale(0.015625)\"/>\n       <path id=\"DejaVuSans-44b\" d=\"M 3907 3500 \nL 4482 3500 \nL 4482 0 \nL 3907 0 \nL 3907 3500 \nz\nM 4195 3584 \nL 4195 3584 \nz\nM 2781 1038 \nQ 2781 1319 2576 1466 \nQ 2372 1613 1978 1613 \nL 1159 1613 \nL 1159 459 \nL 1978 459 \nQ 2372 459 2576 607 \nQ 2781 756 2781 1038 \nz\nM 581 3500 \nL 1159 3500 \nL 1159 2072 \nL 2003 2072 \nQ 2672 2072 3033 1817 \nQ 3394 1563 3394 1038 \nQ 3394 513 3033 256 \nQ 2672 0 2003 0 \nL 581 0 \nL 581 3500 \nz\n\" transform=\"scale(0.015625)\"/>\n       <path id=\"DejaVuSans-433\" d=\"M 581 0 \nL 581 3500 \nL 3050 3500 \nL 3050 3041 \nL 1159 3041 \nL 1159 0 \nL 581 0 \nz\n\" transform=\"scale(0.015625)\"/>\n       <path id=\"DejaVuSans-440\" d=\"M 1159 525 \nL 1159 -1331 \nL 581 -1331 \nL 581 3500 \nL 1159 3500 \nL 1159 2969 \nQ 1341 3281 1617 3432 \nQ 1894 3584 2278 3584 \nQ 2916 3584 3314 3078 \nQ 3713 2572 3713 1747 \nQ 3713 922 3314 415 \nQ 2916 -91 2278 -91 \nQ 1894 -91 1617 61 \nQ 1341 213 1159 525 \nz\nM 3116 1747 \nQ 3116 2381 2855 2742 \nQ 2594 3103 2138 3103 \nQ 1681 3103 1420 2742 \nQ 1159 2381 1159 1747 \nQ 1159 1113 1420 752 \nQ 1681 391 2138 391 \nQ 2594 391 2855 752 \nQ 3116 1113 3116 1747 \nz\n\" transform=\"scale(0.015625)\"/>\n       <path id=\"DejaVuSans-430\" d=\"M 2194 1759 \nQ 1497 1759 1228 1600 \nQ 959 1441 959 1056 \nQ 959 750 1161 570 \nQ 1363 391 1709 391 \nQ 2188 391 2477 730 \nQ 2766 1069 2766 1631 \nL 2766 1759 \nL 2194 1759 \nz\nM 3341 1997 \nL 3341 0 \nL 2766 0 \nL 2766 531 \nQ 2569 213 2275 61 \nQ 1981 -91 1556 -91 \nQ 1019 -91 701 211 \nQ 384 513 384 1019 \nQ 384 1609 779 1909 \nQ 1175 2209 1959 2209 \nL 2766 2209 \nL 2766 2266 \nQ 2766 2663 2505 2880 \nQ 2244 3097 1772 3097 \nQ 1472 3097 1187 3025 \nQ 903 2953 641 2809 \nL 641 3341 \nQ 956 3463 1253 3523 \nQ 1550 3584 1831 3584 \nQ 2591 3584 2966 3190 \nQ 3341 2797 3341 1997 \nz\n\" transform=\"scale(0.015625)\"/>\n       <path id=\"DejaVuSans-43d\" d=\"M 581 3500 \nL 1159 3500 \nL 1159 2072 \nL 3025 2072 \nL 3025 3500 \nL 3603 3500 \nL 3603 0 \nL 3025 0 \nL 3025 1613 \nL 1159 1613 \nL 1159 0 \nL 581 0 \nL 581 3500 \nz\n\" transform=\"scale(0.015625)\"/>\n       <path id=\"DejaVuSans-445\" d=\"M 3513 3500 \nL 2247 1797 \nL 3578 0 \nL 2900 0 \nL 1881 1375 \nL 863 0 \nL 184 0 \nL 1544 1831 \nL 300 3500 \nL 978 3500 \nL 1906 2253 \nL 2834 3500 \nL 3513 3500 \nz\n\" transform=\"scale(0.015625)\"/>\n      </defs>\n      <use xlink:href=\"#DejaVuSans-41a\"/>\n      <use xlink:href=\"#DejaVuSans-43e\" x=\"70.996094\"/>\n      <use xlink:href=\"#DejaVuSans-43b\" x=\"132.177734\"/>\n      <use xlink:href=\"#DejaVuSans-438\" x=\"196.09375\"/>\n      <use xlink:href=\"#DejaVuSans-447\" x=\"261.083984\"/>\n      <use xlink:href=\"#DejaVuSans-435\" x=\"320.166016\"/>\n      <use xlink:href=\"#DejaVuSans-441\" x=\"381.689453\"/>\n      <use xlink:href=\"#DejaVuSans-442\" x=\"436.669922\"/>\n      <use xlink:href=\"#DejaVuSans-432\" x=\"494.921875\"/>\n      <use xlink:href=\"#DejaVuSans-43e\" x=\"553.857422\"/>\n      <use xlink:href=\"#DejaVuSans-20\" x=\"615.039062\"/>\n      <use xlink:href=\"#DejaVuSans-441\" x=\"646.826172\"/>\n      <use xlink:href=\"#DejaVuSans-44b\" x=\"701.806641\"/>\n      <use xlink:href=\"#DejaVuSans-433\" x=\"780.761719\"/>\n      <use xlink:href=\"#DejaVuSans-440\" x=\"833.300781\"/>\n      <use xlink:href=\"#DejaVuSans-430\" x=\"896.777344\"/>\n      <use xlink:href=\"#DejaVuSans-43d\" x=\"958.056641\"/>\n      <use xlink:href=\"#DejaVuSans-43d\" x=\"1023.4375\"/>\n      <use xlink:href=\"#DejaVuSans-44b\" x=\"1088.818359\"/>\n      <use xlink:href=\"#DejaVuSans-445\" x=\"1167.773438\"/>\n      <use xlink:href=\"#DejaVuSans-20\" x=\"1226.953125\"/>\n      <use xlink:href=\"#DejaVuSans-438\" x=\"1258.740234\"/>\n      <use xlink:href=\"#DejaVuSans-433\" x=\"1323.730469\"/>\n      <use xlink:href=\"#DejaVuSans-440\" x=\"1376.269531\"/>\n     </g>\n    </g>\n   </g>\n   <g id=\"matplotlib.axis_2\">\n    <g id=\"ytick_1\">\n     <g id=\"line2d_27\">\n      <path d=\"M 58.402813 298.075057 \nL 704.402813 298.075057 \n\" clip-path=\"url(#p7541a98a83)\" style=\"fill: none; stroke: #ffffff; stroke-width: 0.8; stroke-linecap: round\"/>\n     </g>\n     <g id=\"text_28\">\n      <!-- 0% -->\n      <g style=\"fill: #262626\" transform=\"translate(35.53875 301.874276) scale(0.1 -0.1)\">\n       <defs>\n        <path id=\"DejaVuSans-25\" d=\"M 4653 2053 \nQ 4381 2053 4226 1822 \nQ 4072 1591 4072 1178 \nQ 4072 772 4226 539 \nQ 4381 306 4653 306 \nQ 4919 306 5073 539 \nQ 5228 772 5228 1178 \nQ 5228 1588 5073 1820 \nQ 4919 2053 4653 2053 \nz\nM 4653 2450 \nQ 5147 2450 5437 2106 \nQ 5728 1763 5728 1178 \nQ 5728 594 5436 251 \nQ 5144 -91 4653 -91 \nQ 4153 -91 3862 251 \nQ 3572 594 3572 1178 \nQ 3572 1766 3864 2108 \nQ 4156 2450 4653 2450 \nz\nM 1428 4353 \nQ 1159 4353 1004 4120 \nQ 850 3888 850 3481 \nQ 850 3069 1003 2837 \nQ 1156 2606 1428 2606 \nQ 1700 2606 1854 2837 \nQ 2009 3069 2009 3481 \nQ 2009 3884 1853 4118 \nQ 1697 4353 1428 4353 \nz\nM 4250 4750 \nL 4750 4750 \nL 1831 -91 \nL 1331 -91 \nL 4250 4750 \nz\nM 1428 4750 \nQ 1922 4750 2215 4408 \nQ 2509 4066 2509 3481 \nQ 2509 2891 2217 2550 \nQ 1925 2209 1428 2209 \nQ 931 2209 642 2551 \nQ 353 2894 353 3481 \nQ 353 4063 643 4406 \nQ 934 4750 1428 4750 \nz\n\" transform=\"scale(0.015625)\"/>\n       </defs>\n       <use xlink:href=\"#DejaVuSans-30\"/>\n       <use xlink:href=\"#DejaVuSans-25\" x=\"63.623047\"/>\n      </g>\n     </g>\n    </g>\n    <g id=\"ytick_2\">\n     <g id=\"line2d_28\">\n      <path d=\"M 58.402813 246.707784 \nL 704.402813 246.707784 \n\" clip-path=\"url(#p7541a98a83)\" style=\"fill: none; stroke: #ffffff; stroke-width: 0.8; stroke-linecap: round\"/>\n     </g>\n     <g id=\"text_29\">\n      <!-- 20% -->\n      <g style=\"fill: #262626\" transform=\"translate(29.17625 250.507003) scale(0.1 -0.1)\">\n       <use xlink:href=\"#DejaVuSans-32\"/>\n       <use xlink:href=\"#DejaVuSans-30\" x=\"63.623047\"/>\n       <use xlink:href=\"#DejaVuSans-25\" x=\"127.246094\"/>\n      </g>\n     </g>\n    </g>\n    <g id=\"ytick_3\">\n     <g id=\"line2d_29\">\n      <path d=\"M 58.402813 195.340511 \nL 704.402813 195.340511 \n\" clip-path=\"url(#p7541a98a83)\" style=\"fill: none; stroke: #ffffff; stroke-width: 0.8; stroke-linecap: round\"/>\n     </g>\n     <g id=\"text_30\">\n      <!-- 40% -->\n      <g style=\"fill: #262626\" transform=\"translate(29.17625 199.13973) scale(0.1 -0.1)\">\n       <use xlink:href=\"#DejaVuSans-34\"/>\n       <use xlink:href=\"#DejaVuSans-30\" x=\"63.623047\"/>\n       <use xlink:href=\"#DejaVuSans-25\" x=\"127.246094\"/>\n      </g>\n     </g>\n    </g>\n    <g id=\"ytick_4\">\n     <g id=\"line2d_30\">\n      <path d=\"M 58.402813 143.973239 \nL 704.402813 143.973239 \n\" clip-path=\"url(#p7541a98a83)\" style=\"fill: none; stroke: #ffffff; stroke-width: 0.8; stroke-linecap: round\"/>\n     </g>\n     <g id=\"text_31\">\n      <!-- 60% -->\n      <g style=\"fill: #262626\" transform=\"translate(29.17625 147.772457) scale(0.1 -0.1)\">\n       <use xlink:href=\"#DejaVuSans-36\"/>\n       <use xlink:href=\"#DejaVuSans-30\" x=\"63.623047\"/>\n       <use xlink:href=\"#DejaVuSans-25\" x=\"127.246094\"/>\n      </g>\n     </g>\n    </g>\n    <g id=\"ytick_5\">\n     <g id=\"line2d_31\">\n      <path d=\"M 58.402813 92.605966 \nL 704.402813 92.605966 \n\" clip-path=\"url(#p7541a98a83)\" style=\"fill: none; stroke: #ffffff; stroke-width: 0.8; stroke-linecap: round\"/>\n     </g>\n     <g id=\"text_32\">\n      <!-- 80% -->\n      <g style=\"fill: #262626\" transform=\"translate(29.17625 96.405185) scale(0.1 -0.1)\">\n       <use xlink:href=\"#DejaVuSans-38\"/>\n       <use xlink:href=\"#DejaVuSans-30\" x=\"63.623047\"/>\n       <use xlink:href=\"#DejaVuSans-25\" x=\"127.246094\"/>\n      </g>\n     </g>\n    </g>\n    <g id=\"ytick_6\">\n     <g id=\"line2d_32\">\n      <path d=\"M 58.402813 41.238693 \nL 704.402813 41.238693 \n\" clip-path=\"url(#p7541a98a83)\" style=\"fill: none; stroke: #ffffff; stroke-width: 0.8; stroke-linecap: round\"/>\n     </g>\n     <g id=\"text_33\">\n      <!-- 100% -->\n      <g style=\"fill: #262626\" transform=\"translate(22.81375 45.037912) scale(0.1 -0.1)\">\n       <use xlink:href=\"#DejaVuSans-31\"/>\n       <use xlink:href=\"#DejaVuSans-30\" x=\"63.623047\"/>\n       <use xlink:href=\"#DejaVuSans-30\" x=\"127.246094\"/>\n       <use xlink:href=\"#DejaVuSans-25\" x=\"190.869141\"/>\n      </g>\n     </g>\n    </g>\n    <g id=\"text_34\">\n     <!-- F1 -->\n     <g style=\"fill: #262626\" transform=\"translate(16.318125 176.925312) rotate(-90) scale(0.12 -0.12)\">\n      <defs>\n       <path id=\"DejaVuSans-46\" d=\"M 628 4666 \nL 3309 4666 \nL 3309 4134 \nL 1259 4134 \nL 1259 2759 \nL 3109 2759 \nL 3109 2228 \nL 1259 2228 \nL 1259 0 \nL 628 0 \nL 628 4666 \nz\n\" transform=\"scale(0.015625)\"/>\n      </defs>\n      <use xlink:href=\"#DejaVuSans-46\"/>\n      <use xlink:href=\"#DejaVuSans-31\" x=\"57.519531\"/>\n     </g>\n    </g>\n   </g>\n   <g id=\"PolyCollection_1\">\n    <defs>\n     <path id=\"m1011e24de7\" d=\"M 58.402813 -309.170057 \nL 58.402813 -52.333693 \nL 83.012336 -52.333693 \nL 107.62186 -52.333693 \nL 132.231384 -116.542784 \nL 156.840908 -103.700966 \nL 181.450432 -95.139754 \nL 206.059955 -89.024602 \nL 230.669479 -116.542784 \nL 255.279003 -109.408441 \nL 279.888527 -103.700966 \nL 304.498051 -122.379974 \nL 329.107574 -116.542784 \nL 353.717098 -111.603623 \nL 378.326622 -107.370057 \nL 402.936146 -120.82339 \nL 427.54567 -116.542784 \nL 452.155193 -112.765779 \nL 476.764717 -123.677128 \nL 501.374241 -119.92221 \nL 525.983765 -116.542784 \nL 550.593289 -113.485208 \nL 575.202813 -122.379974 \nL 599.812336 -119.334484 \nL 624.42186 -116.542784 \nL 649.031384 -124.247875 \nL 673.640908 -121.481945 \nL 673.640908 -190.630197 \nL 673.640908 -190.630197 \nL 649.031384 -185.888602 \nL 624.42186 -191.45339 \nL 599.812336 -186.335274 \nL 575.202813 -192.426255 \nL 550.593289 -186.867027 \nL 525.983765 -193.593693 \nL 501.374241 -187.510727 \nL 476.764717 -195.020562 \nL 452.155193 -188.305886 \nL 427.54567 -196.804148 \nL 402.936146 -189.741148 \nL 378.326622 -199.09733 \nL 353.717098 -210.38684 \nL 329.107574 -202.154905 \nL 304.498051 -215.775015 \nL 279.888527 -206.435511 \nL 255.279003 -223.557936 \nL 230.669479 -212.85642 \nL 206.059955 -235.788239 \nL 181.450432 -223.557936 \nL 156.840908 -257.802784 \nL 132.231384 -244.960966 \nL 107.62186 -309.170057 \nL 83.012336 -309.170057 \nL 58.402813 -309.170057 \nz\n\" style=\"stroke: #ff0000; stroke-opacity: 0.1\"/>\n    </defs>\n    <g clip-path=\"url(#p7541a98a83)\">\n     <use xlink:href=\"#m1011e24de7\" x=\"0\" y=\"350.40875\" style=\"fill: #ff0000; fill-opacity: 0.1; stroke: #ff0000; stroke-opacity: 0.1\"/>\n    </g>\n   </g>\n   <g id=\"PolyCollection_2\">\n    <defs>\n     <path id=\"m7c48111349\" d=\"M 58.402813 -309.170057 \nL 58.402813 -52.333693 \nL 83.012336 -52.333693 \nL 107.62186 -52.333693 \nL 132.231384 -116.542784 \nL 156.840908 -155.068239 \nL 181.450432 -137.945814 \nL 206.059955 -125.715511 \nL 230.669479 -116.542784 \nL 255.279003 -137.945814 \nL 279.888527 -129.384602 \nL 304.498051 -145.728735 \nL 329.107574 -137.945814 \nL 353.717098 -151.11691 \nL 378.326622 -162.40642 \nL 402.936146 -155.068239 \nL 427.54567 -164.699602 \nL 452.155193 -158.089843 \nL 476.764717 -152.214501 \nL 501.374241 -160.47532 \nL 525.983765 -167.910057 \nL 550.593289 -162.40642 \nL 575.202813 -157.403115 \nL 599.812336 -161.209978 \nL 624.42186 -159.348845 \nL 649.031384 -165.341693 \nL 673.640908 -170.873553 \nL 673.640908 -210.38684 \nL 673.640908 -210.38684 \nL 649.031384 -206.435511 \nL 624.42186 -202.154905 \nL 599.812336 -197.502073 \nL 575.202813 -198.555305 \nL 550.593289 -199.09733 \nL 525.983765 -206.435511 \nL 501.374241 -214.546133 \nL 476.764717 -209.289249 \nL 452.155193 -218.521928 \nL 427.54567 -212.85642 \nL 402.936146 -206.435511 \nL 378.326622 -217.442784 \nL 353.717098 -210.38684 \nL 329.107574 -202.154905 \nL 304.498051 -192.426255 \nL 279.888527 -180.751875 \nL 255.279003 -195.020562 \nL 230.669479 -180.751875 \nL 206.059955 -199.09733 \nL 181.450432 -223.557936 \nL 156.840908 -257.802784 \nL 132.231384 -244.960966 \nL 107.62186 -223.557936 \nL 83.012336 -309.170057 \nL 58.402813 -309.170057 \nz\n\" style=\"stroke: #000000; stroke-opacity: 0.1\"/>\n    </defs>\n    <g clip-path=\"url(#p7541a98a83)\">\n     <use xlink:href=\"#m7c48111349\" x=\"0\" y=\"350.40875\" style=\"fill-opacity: 0.1; stroke: #000000; stroke-opacity: 0.1\"/>\n    </g>\n   </g>\n   <g id=\"line2d_33\">\n    <path d=\"M 58.402813 218.71262 \nL 83.012336 214.47482 \nL 107.62186 212.63416 \nL 132.231384 212.805384 \nL 156.840908 212.805384 \nL 181.450432 212.933802 \nL 206.059955 212.585239 \nL 230.669479 212.612757 \nL 255.279003 212.006338 \nL 279.888527 212.49718 \nL 304.498051 212.291711 \nL 329.107574 212.206099 \nL 353.717098 212.805384 \nL 378.326622 212.713657 \nL 402.936146 212.668405 \nL 427.54567 212.388025 \nL 452.155193 212.185955 \nL 476.764717 212.577085 \nL 501.374241 212.629654 \nL 525.983765 212.7797 \nL 550.593289 212.707542 \nL 575.202813 212.840407 \nL 599.812336 212.883552 \nL 624.42186 213.008713 \nL 649.031384 212.846478 \nL 673.640908 212.933802 \n\" clip-path=\"url(#p7541a98a83)\" style=\"fill: none; stroke-dasharray: 7.4,3.2; stroke-dashoffset: 0; stroke: #ff0000; stroke-width: 2\"/>\n   </g>\n   <g id=\"line2d_34\">\n    <path d=\"M 58.402813 218.455784 \nL 83.012336 222.30833 \nL 107.62186 221.024148 \nL 132.231384 219.097875 \nL 156.840908 183.526039 \nL 181.450432 202.617542 \nL 206.059955 216.25433 \nL 230.669479 214.924284 \nL 255.279003 202.189481 \nL 279.888527 208.18233 \nL 304.498051 195.807487 \nL 329.107574 187.849451 \nL 353.717098 176.966833 \nL 378.326622 167.271966 \nL 402.936146 175.992172 \nL 427.54567 172.546284 \nL 452.155193 171.318757 \nL 476.764717 176.648532 \nL 501.374241 171.278999 \nL 525.983765 171.583148 \nL 550.593289 176.016633 \nL 575.202813 180.163817 \nL 599.812336 179.706994 \nL 624.42186 175.328678 \nL 649.031384 172.225239 \nL 673.640908 168.076344 \n\" clip-path=\"url(#p7541a98a83)\" style=\"fill: none; stroke: #000000; stroke-width: 2; stroke-linecap: round\"/>\n   </g>\n   <g id=\"patch_3\">\n    <path d=\"M 58.402813 310.916875 \nL 58.402813 28.396875 \n\" style=\"fill: none; stroke: #ffffff; stroke-width: 0.8; stroke-linejoin: miter; stroke-linecap: square\"/>\n   </g>\n   <g id=\"patch_4\">\n    <path d=\"M 704.402813 310.916875 \nL 704.402813 28.396875 \n\" style=\"fill: none; stroke: #ffffff; stroke-width: 0.8; stroke-linejoin: miter; stroke-linecap: square\"/>\n   </g>\n   <g id=\"patch_5\">\n    <path d=\"M 58.402813 310.916875 \nL 704.402813 310.916875 \n\" style=\"fill: none; stroke: #ffffff; stroke-width: 0.8; stroke-linejoin: miter; stroke-linecap: square\"/>\n   </g>\n   <g id=\"patch_6\">\n    <path d=\"M 58.402813 28.396875 \nL 704.402813 28.396875 \n\" style=\"fill: none; stroke: #ffffff; stroke-width: 0.8; stroke-linejoin: miter; stroke-linecap: square\"/>\n   </g>\n   <g id=\"text_35\">\n    <!-- Анализ метрики F1 -->\n    <g style=\"fill: #262626\" transform=\"translate(280.310625 22.396875) scale(0.2 -0.2)\">\n     <defs>\n      <path id=\"DejaVuSans-410\" d=\"M 2188 4044 \nL 1331 1722 \nL 3047 1722 \nL 2188 4044 \nz\nM 1831 4666 \nL 2547 4666 \nL 4325 0 \nL 3669 0 \nL 3244 1197 \nL 1141 1197 \nL 716 0 \nL 50 0 \nL 1831 4666 \nz\n\" transform=\"scale(0.015625)\"/>\n      <path id=\"DejaVuSans-437\" d=\"M 2206 1888 \nQ 2594 1813 2809 1584 \nQ 3025 1356 3025 1019 \nQ 3025 478 2622 193 \nQ 2219 -91 1475 -91 \nQ 1225 -91 961 -47 \nQ 697 -3 416 84 \nL 416 619 \nQ 638 503 903 445 \nQ 1169 388 1459 388 \nQ 1931 388 2195 563 \nQ 2459 738 2459 1019 \nQ 2459 1294 2225 1461 \nQ 1991 1628 1563 1628 \nL 1100 1628 \nL 1100 2103 \nL 1584 2103 \nQ 1947 2103 2158 2242 \nQ 2369 2381 2369 2600 \nQ 2369 2800 2151 2944 \nQ 1934 3088 1563 3088 \nQ 1341 3088 1089 3047 \nQ 838 3006 534 2916 \nL 534 3438 \nQ 841 3513 1106 3550 \nQ 1372 3588 1609 3588 \nQ 2222 3588 2576 3342 \nQ 2931 3097 2931 2656 \nQ 2931 2366 2743 2164 \nQ 2556 1963 2206 1888 \nz\n\" transform=\"scale(0.015625)\"/>\n      <path id=\"DejaVuSans-43c\" d=\"M 581 3500 \nL 1422 3500 \nL 2416 1156 \nL 3413 3500 \nL 4247 3500 \nL 4247 0 \nL 3669 0 \nL 3669 2950 \nL 2703 672 \nL 2128 672 \nL 1159 2950 \nL 1159 0 \nL 581 0 \nL 581 3500 \nz\n\" transform=\"scale(0.015625)\"/>\n      <path id=\"DejaVuSans-43a\" d=\"M 581 3500 \nL 1153 3500 \nL 1153 1856 \nL 2775 3500 \nL 3481 3500 \nL 2144 2147 \nL 3653 0 \nL 3009 0 \nL 1769 1766 \nL 1153 1141 \nL 1153 0 \nL 581 0 \nL 581 3500 \nz\n\" transform=\"scale(0.015625)\"/>\n     </defs>\n     <use xlink:href=\"#DejaVuSans-410\"/>\n     <use xlink:href=\"#DejaVuSans-43d\" x=\"68.408203\"/>\n     <use xlink:href=\"#DejaVuSans-430\" x=\"133.789062\"/>\n     <use xlink:href=\"#DejaVuSans-43b\" x=\"195.068359\"/>\n     <use xlink:href=\"#DejaVuSans-438\" x=\"258.984375\"/>\n     <use xlink:href=\"#DejaVuSans-437\" x=\"323.974609\"/>\n     <use xlink:href=\"#DejaVuSans-20\" x=\"377.148438\"/>\n     <use xlink:href=\"#DejaVuSans-43c\" x=\"408.935547\"/>\n     <use xlink:href=\"#DejaVuSans-435\" x=\"484.375\"/>\n     <use xlink:href=\"#DejaVuSans-442\" x=\"545.898438\"/>\n     <use xlink:href=\"#DejaVuSans-440\" x=\"604.150391\"/>\n     <use xlink:href=\"#DejaVuSans-438\" x=\"667.626953\"/>\n     <use xlink:href=\"#DejaVuSans-43a\" x=\"732.617188\"/>\n     <use xlink:href=\"#DejaVuSans-438\" x=\"793.017578\"/>\n     <use xlink:href=\"#DejaVuSans-20\" x=\"858.007812\"/>\n     <use xlink:href=\"#DejaVuSans-46\" x=\"889.794922\"/>\n     <use xlink:href=\"#DejaVuSans-31\" x=\"947.314453\"/>\n    </g>\n   </g>\n   <g id=\"legend_1\">\n    <g id=\"patch_7\">\n     <path d=\"M 342.055313 108.451875 \nL 696.002813 108.451875 \nQ 698.402813 108.451875 698.402813 106.051875 \nL 698.402813 36.796875 \nQ 698.402813 34.396875 696.002813 34.396875 \nL 342.055313 34.396875 \nQ 339.655313 34.396875 339.655313 36.796875 \nL 339.655313 106.051875 \nQ 339.655313 108.451875 342.055313 108.451875 \nz\n\" style=\"fill: #eaeaf2; opacity: 0.8; stroke: #cccccc; stroke-linejoin: miter\"/>\n    </g>\n    <g id=\"line2d_35\">\n     <path d=\"M 344.455313 44.115 \nL 356.455313 44.115 \nL 368.455313 44.115 \n\" style=\"fill: none; stroke-dasharray: 7.4,3.2; stroke-dashoffset: 0; stroke: #ff0000; stroke-width: 2\"/>\n    </g>\n    <g id=\"text_36\">\n     <!-- Среднее значение F1 случайной модели -->\n     <g style=\"fill: #262626\" transform=\"translate(378.055313 48.315) scale(0.12 -0.12)\">\n      <defs>\n       <path id=\"DejaVuSans-421\" d=\"M 4122 4306 \nL 4122 3641 \nQ 3803 3938 3442 4084 \nQ 3081 4231 2675 4231 \nQ 1875 4231 1450 3742 \nQ 1025 3253 1025 2328 \nQ 1025 1406 1450 917 \nQ 1875 428 2675 428 \nQ 3081 428 3442 575 \nQ 3803 722 4122 1019 \nL 4122 359 \nQ 3791 134 3420 21 \nQ 3050 -91 2638 -91 \nQ 1578 -91 968 557 \nQ 359 1206 359 2328 \nQ 359 3453 968 4101 \nQ 1578 4750 2638 4750 \nQ 3056 4750 3426 4639 \nQ 3797 4528 4122 4306 \nz\n\" transform=\"scale(0.015625)\"/>\n       <path id=\"DejaVuSans-434\" d=\"M 1384 459 \nL 3053 459 \nL 3053 3041 \nL 1844 3041 \nL 1844 2603 \nQ 1844 1316 1475 628 \nL 1384 459 \nz\nM 550 459 \nQ 834 584 959 850 \nQ 1266 1509 1266 2838 \nL 1266 3500 \nL 3631 3500 \nL 3631 459 \nL 4091 459 \nL 4091 -884 \nL 3631 -884 \nL 3631 0 \nL 794 0 \nL 794 -884 \nL 334 -884 \nL 334 459 \nL 550 459 \nz\n\" transform=\"scale(0.015625)\"/>\n       <path id=\"DejaVuSans-443\" d=\"M 2059 -325 \nQ 1816 -950 1584 -1140 \nQ 1353 -1331 966 -1331 \nL 506 -1331 \nL 506 -850 \nL 844 -850 \nQ 1081 -850 1212 -737 \nQ 1344 -625 1503 -206 \nL 1606 56 \nL 191 3500 \nL 800 3500 \nL 1894 763 \nL 2988 3500 \nL 3597 3500 \nL 2059 -325 \nz\n\" transform=\"scale(0.015625)\"/>\n       <path id=\"DejaVuSans-439\" d=\"M 3578 3500 \nL 3578 0 \nL 3006 0 \nL 3006 2809 \nL 1319 0 \nL 581 0 \nL 581 3500 \nL 1153 3500 \nL 1153 697 \nL 2838 3500 \nL 3578 3500 \nz\nM 1102 4833 \nL 1471 4833 \nQ 1505 4599 1656 4481 \nQ 1808 4364 2080 4364 \nQ 2349 4364 2499 4480 \nQ 2649 4596 2689 4833 \nL 3058 4833 \nQ 3027 4386 2780 4161 \nQ 2533 3936 2080 3936 \nQ 1627 3936 1380 4161 \nQ 1133 4386 1102 4833 \nz\n\" transform=\"scale(0.015625)\"/>\n      </defs>\n      <use xlink:href=\"#DejaVuSans-421\"/>\n      <use xlink:href=\"#DejaVuSans-440\" x=\"69.824219\"/>\n      <use xlink:href=\"#DejaVuSans-435\" x=\"133.300781\"/>\n      <use xlink:href=\"#DejaVuSans-434\" x=\"194.824219\"/>\n      <use xlink:href=\"#DejaVuSans-43d\" x=\"263.964844\"/>\n      <use xlink:href=\"#DejaVuSans-435\" x=\"329.345703\"/>\n      <use xlink:href=\"#DejaVuSans-435\" x=\"390.869141\"/>\n      <use xlink:href=\"#DejaVuSans-20\" x=\"452.392578\"/>\n      <use xlink:href=\"#DejaVuSans-437\" x=\"484.179688\"/>\n      <use xlink:href=\"#DejaVuSans-43d\" x=\"537.353516\"/>\n      <use xlink:href=\"#DejaVuSans-430\" x=\"602.734375\"/>\n      <use xlink:href=\"#DejaVuSans-447\" x=\"664.013672\"/>\n      <use xlink:href=\"#DejaVuSans-435\" x=\"723.095703\"/>\n      <use xlink:href=\"#DejaVuSans-43d\" x=\"784.619141\"/>\n      <use xlink:href=\"#DejaVuSans-438\" x=\"850\"/>\n      <use xlink:href=\"#DejaVuSans-435\" x=\"914.990234\"/>\n      <use xlink:href=\"#DejaVuSans-20\" x=\"976.513672\"/>\n      <use xlink:href=\"#DejaVuSans-46\" x=\"1008.300781\"/>\n      <use xlink:href=\"#DejaVuSans-31\" x=\"1065.820312\"/>\n      <use xlink:href=\"#DejaVuSans-20\" x=\"1129.443359\"/>\n      <use xlink:href=\"#DejaVuSans-441\" x=\"1161.230469\"/>\n      <use xlink:href=\"#DejaVuSans-43b\" x=\"1216.210938\"/>\n      <use xlink:href=\"#DejaVuSans-443\" x=\"1280.126953\"/>\n      <use xlink:href=\"#DejaVuSans-447\" x=\"1339.306641\"/>\n      <use xlink:href=\"#DejaVuSans-430\" x=\"1398.388672\"/>\n      <use xlink:href=\"#DejaVuSans-439\" x=\"1459.667969\"/>\n      <use xlink:href=\"#DejaVuSans-43d\" x=\"1524.658203\"/>\n      <use xlink:href=\"#DejaVuSans-43e\" x=\"1590.039062\"/>\n      <use xlink:href=\"#DejaVuSans-439\" x=\"1651.220703\"/>\n      <use xlink:href=\"#DejaVuSans-20\" x=\"1716.210938\"/>\n      <use xlink:href=\"#DejaVuSans-43c\" x=\"1747.998047\"/>\n      <use xlink:href=\"#DejaVuSans-43e\" x=\"1823.4375\"/>\n      <use xlink:href=\"#DejaVuSans-434\" x=\"1884.619141\"/>\n      <use xlink:href=\"#DejaVuSans-435\" x=\"1953.759766\"/>\n      <use xlink:href=\"#DejaVuSans-43b\" x=\"2015.283203\"/>\n      <use xlink:href=\"#DejaVuSans-438\" x=\"2079.199219\"/>\n     </g>\n    </g>\n    <g id=\"patch_8\">\n     <path d=\"M 344.455313 65.92875 \nL 368.455313 65.92875 \nL 368.455313 57.52875 \nL 344.455313 57.52875 \nz\n\" style=\"fill: #ff0000; fill-opacity: 0.1; stroke: #ff0000; stroke-opacity: 0.1; stroke-linejoin: miter\"/>\n    </g>\n    <g id=\"text_37\">\n     <!-- 95% доверительный интервал случайной модели -->\n     <g style=\"fill: #262626\" transform=\"translate(378.055313 65.92875) scale(0.12 -0.12)\">\n      <defs>\n       <path id=\"DejaVuSans-44c\" d=\"M 2781 1038 \nQ 2781 1319 2576 1466 \nQ 2372 1613 1978 1613 \nL 1159 1613 \nL 1159 459 \nL 1978 459 \nQ 2372 459 2576 607 \nQ 2781 756 2781 1038 \nz\nM 581 3500 \nL 1159 3500 \nL 1159 2072 \nL 2003 2072 \nQ 2672 2072 3033 1817 \nQ 3394 1563 3394 1038 \nQ 3394 513 3033 256 \nQ 2672 0 2003 0 \nL 581 0 \nL 581 3500 \nz\n\" transform=\"scale(0.015625)\"/>\n      </defs>\n      <use xlink:href=\"#DejaVuSans-39\"/>\n      <use xlink:href=\"#DejaVuSans-35\" x=\"63.623047\"/>\n      <use xlink:href=\"#DejaVuSans-25\" x=\"127.246094\"/>\n      <use xlink:href=\"#DejaVuSans-20\" x=\"222.265625\"/>\n      <use xlink:href=\"#DejaVuSans-434\" x=\"254.052734\"/>\n      <use xlink:href=\"#DejaVuSans-43e\" x=\"323.193359\"/>\n      <use xlink:href=\"#DejaVuSans-432\" x=\"384.375\"/>\n      <use xlink:href=\"#DejaVuSans-435\" x=\"443.310547\"/>\n      <use xlink:href=\"#DejaVuSans-440\" x=\"504.833984\"/>\n      <use xlink:href=\"#DejaVuSans-438\" x=\"568.310547\"/>\n      <use xlink:href=\"#DejaVuSans-442\" x=\"633.300781\"/>\n      <use xlink:href=\"#DejaVuSans-435\" x=\"691.552734\"/>\n      <use xlink:href=\"#DejaVuSans-43b\" x=\"753.076172\"/>\n      <use xlink:href=\"#DejaVuSans-44c\" x=\"816.992188\"/>\n      <use xlink:href=\"#DejaVuSans-43d\" x=\"875.927734\"/>\n      <use xlink:href=\"#DejaVuSans-44b\" x=\"941.308594\"/>\n      <use xlink:href=\"#DejaVuSans-439\" x=\"1020.263672\"/>\n      <use xlink:href=\"#DejaVuSans-20\" x=\"1085.253906\"/>\n      <use xlink:href=\"#DejaVuSans-438\" x=\"1117.041016\"/>\n      <use xlink:href=\"#DejaVuSans-43d\" x=\"1182.03125\"/>\n      <use xlink:href=\"#DejaVuSans-442\" x=\"1247.412109\"/>\n      <use xlink:href=\"#DejaVuSans-435\" x=\"1305.664062\"/>\n      <use xlink:href=\"#DejaVuSans-440\" x=\"1367.1875\"/>\n      <use xlink:href=\"#DejaVuSans-432\" x=\"1430.664062\"/>\n      <use xlink:href=\"#DejaVuSans-430\" x=\"1489.599609\"/>\n      <use xlink:href=\"#DejaVuSans-43b\" x=\"1550.878906\"/>\n      <use xlink:href=\"#DejaVuSans-20\" x=\"1614.794922\"/>\n      <use xlink:href=\"#DejaVuSans-441\" x=\"1646.582031\"/>\n      <use xlink:href=\"#DejaVuSans-43b\" x=\"1701.5625\"/>\n      <use xlink:href=\"#DejaVuSans-443\" x=\"1765.478516\"/>\n      <use xlink:href=\"#DejaVuSans-447\" x=\"1824.658203\"/>\n      <use xlink:href=\"#DejaVuSans-430\" x=\"1883.740234\"/>\n      <use xlink:href=\"#DejaVuSans-439\" x=\"1945.019531\"/>\n      <use xlink:href=\"#DejaVuSans-43d\" x=\"2010.009766\"/>\n      <use xlink:href=\"#DejaVuSans-43e\" x=\"2075.390625\"/>\n      <use xlink:href=\"#DejaVuSans-439\" x=\"2136.572266\"/>\n      <use xlink:href=\"#DejaVuSans-20\" x=\"2201.5625\"/>\n      <use xlink:href=\"#DejaVuSans-43c\" x=\"2233.349609\"/>\n      <use xlink:href=\"#DejaVuSans-43e\" x=\"2308.789062\"/>\n      <use xlink:href=\"#DejaVuSans-434\" x=\"2369.970703\"/>\n      <use xlink:href=\"#DejaVuSans-435\" x=\"2439.111328\"/>\n      <use xlink:href=\"#DejaVuSans-43b\" x=\"2500.634766\"/>\n      <use xlink:href=\"#DejaVuSans-438\" x=\"2564.550781\"/>\n     </g>\n    </g>\n    <g id=\"line2d_36\">\n     <path d=\"M 344.455313 79.3425 \nL 356.455313 79.3425 \nL 368.455313 79.3425 \n\" style=\"fill: none; stroke: #000000; stroke-width: 2; stroke-linecap: round\"/>\n    </g>\n    <g id=\"text_38\">\n     <!-- Среднее значение F1 целевой модели -->\n     <g style=\"fill: #262626\" transform=\"translate(378.055313 83.5425) scale(0.12 -0.12)\">\n      <defs>\n       <path id=\"DejaVuSans-446\" d=\"M 3603 0 \nL 581 0 \nL 581 3500 \nL 1159 3500 \nL 1159 459 \nL 3025 459 \nL 3025 3500 \nL 3603 3500 \nL 3603 459 \nL 4063 459 \nL 4063 -884 \nL 3603 -884 \nL 3603 0 \nz\n\" transform=\"scale(0.015625)\"/>\n      </defs>\n      <use xlink:href=\"#DejaVuSans-421\"/>\n      <use xlink:href=\"#DejaVuSans-440\" x=\"69.824219\"/>\n      <use xlink:href=\"#DejaVuSans-435\" x=\"133.300781\"/>\n      <use xlink:href=\"#DejaVuSans-434\" x=\"194.824219\"/>\n      <use xlink:href=\"#DejaVuSans-43d\" x=\"263.964844\"/>\n      <use xlink:href=\"#DejaVuSans-435\" x=\"329.345703\"/>\n      <use xlink:href=\"#DejaVuSans-435\" x=\"390.869141\"/>\n      <use xlink:href=\"#DejaVuSans-20\" x=\"452.392578\"/>\n      <use xlink:href=\"#DejaVuSans-437\" x=\"484.179688\"/>\n      <use xlink:href=\"#DejaVuSans-43d\" x=\"537.353516\"/>\n      <use xlink:href=\"#DejaVuSans-430\" x=\"602.734375\"/>\n      <use xlink:href=\"#DejaVuSans-447\" x=\"664.013672\"/>\n      <use xlink:href=\"#DejaVuSans-435\" x=\"723.095703\"/>\n      <use xlink:href=\"#DejaVuSans-43d\" x=\"784.619141\"/>\n      <use xlink:href=\"#DejaVuSans-438\" x=\"850\"/>\n      <use xlink:href=\"#DejaVuSans-435\" x=\"914.990234\"/>\n      <use xlink:href=\"#DejaVuSans-20\" x=\"976.513672\"/>\n      <use xlink:href=\"#DejaVuSans-46\" x=\"1008.300781\"/>\n      <use xlink:href=\"#DejaVuSans-31\" x=\"1065.820312\"/>\n      <use xlink:href=\"#DejaVuSans-20\" x=\"1129.443359\"/>\n      <use xlink:href=\"#DejaVuSans-446\" x=\"1161.230469\"/>\n      <use xlink:href=\"#DejaVuSans-435\" x=\"1229.296875\"/>\n      <use xlink:href=\"#DejaVuSans-43b\" x=\"1290.820312\"/>\n      <use xlink:href=\"#DejaVuSans-435\" x=\"1354.736328\"/>\n      <use xlink:href=\"#DejaVuSans-432\" x=\"1416.259766\"/>\n      <use xlink:href=\"#DejaVuSans-43e\" x=\"1475.195312\"/>\n      <use xlink:href=\"#DejaVuSans-439\" x=\"1536.376953\"/>\n      <use xlink:href=\"#DejaVuSans-20\" x=\"1601.367188\"/>\n      <use xlink:href=\"#DejaVuSans-43c\" x=\"1633.154297\"/>\n      <use xlink:href=\"#DejaVuSans-43e\" x=\"1708.59375\"/>\n      <use xlink:href=\"#DejaVuSans-434\" x=\"1769.775391\"/>\n      <use xlink:href=\"#DejaVuSans-435\" x=\"1838.916016\"/>\n      <use xlink:href=\"#DejaVuSans-43b\" x=\"1900.439453\"/>\n      <use xlink:href=\"#DejaVuSans-438\" x=\"1964.355469\"/>\n     </g>\n    </g>\n    <g id=\"patch_9\">\n     <path d=\"M 344.455313 101.15625 \nL 368.455313 101.15625 \nL 368.455313 92.75625 \nL 344.455313 92.75625 \nz\n\" style=\"fill-opacity: 0.1; stroke: #000000; stroke-opacity: 0.1; stroke-linejoin: miter\"/>\n    </g>\n    <g id=\"text_39\">\n     <!-- 95% доверительный интервал целевой модели -->\n     <g style=\"fill: #262626\" transform=\"translate(378.055313 101.15625) scale(0.12 -0.12)\">\n      <use xlink:href=\"#DejaVuSans-39\"/>\n      <use xlink:href=\"#DejaVuSans-35\" x=\"63.623047\"/>\n      <use xlink:href=\"#DejaVuSans-25\" x=\"127.246094\"/>\n      <use xlink:href=\"#DejaVuSans-20\" x=\"222.265625\"/>\n      <use xlink:href=\"#DejaVuSans-434\" x=\"254.052734\"/>\n      <use xlink:href=\"#DejaVuSans-43e\" x=\"323.193359\"/>\n      <use xlink:href=\"#DejaVuSans-432\" x=\"384.375\"/>\n      <use xlink:href=\"#DejaVuSans-435\" x=\"443.310547\"/>\n      <use xlink:href=\"#DejaVuSans-440\" x=\"504.833984\"/>\n      <use xlink:href=\"#DejaVuSans-438\" x=\"568.310547\"/>\n      <use xlink:href=\"#DejaVuSans-442\" x=\"633.300781\"/>\n      <use xlink:href=\"#DejaVuSans-435\" x=\"691.552734\"/>\n      <use xlink:href=\"#DejaVuSans-43b\" x=\"753.076172\"/>\n      <use xlink:href=\"#DejaVuSans-44c\" x=\"816.992188\"/>\n      <use xlink:href=\"#DejaVuSans-43d\" x=\"875.927734\"/>\n      <use xlink:href=\"#DejaVuSans-44b\" x=\"941.308594\"/>\n      <use xlink:href=\"#DejaVuSans-439\" x=\"1020.263672\"/>\n      <use xlink:href=\"#DejaVuSans-20\" x=\"1085.253906\"/>\n      <use xlink:href=\"#DejaVuSans-438\" x=\"1117.041016\"/>\n      <use xlink:href=\"#DejaVuSans-43d\" x=\"1182.03125\"/>\n      <use xlink:href=\"#DejaVuSans-442\" x=\"1247.412109\"/>\n      <use xlink:href=\"#DejaVuSans-435\" x=\"1305.664062\"/>\n      <use xlink:href=\"#DejaVuSans-440\" x=\"1367.1875\"/>\n      <use xlink:href=\"#DejaVuSans-432\" x=\"1430.664062\"/>\n      <use xlink:href=\"#DejaVuSans-430\" x=\"1489.599609\"/>\n      <use xlink:href=\"#DejaVuSans-43b\" x=\"1550.878906\"/>\n      <use xlink:href=\"#DejaVuSans-20\" x=\"1614.794922\"/>\n      <use xlink:href=\"#DejaVuSans-446\" x=\"1646.582031\"/>\n      <use xlink:href=\"#DejaVuSans-435\" x=\"1714.648438\"/>\n      <use xlink:href=\"#DejaVuSans-43b\" x=\"1776.171875\"/>\n      <use xlink:href=\"#DejaVuSans-435\" x=\"1840.087891\"/>\n      <use xlink:href=\"#DejaVuSans-432\" x=\"1901.611328\"/>\n      <use xlink:href=\"#DejaVuSans-43e\" x=\"1960.546875\"/>\n      <use xlink:href=\"#DejaVuSans-439\" x=\"2021.728516\"/>\n      <use xlink:href=\"#DejaVuSans-20\" x=\"2086.71875\"/>\n      <use xlink:href=\"#DejaVuSans-43c\" x=\"2118.505859\"/>\n      <use xlink:href=\"#DejaVuSans-43e\" x=\"2193.945312\"/>\n      <use xlink:href=\"#DejaVuSans-434\" x=\"2255.126953\"/>\n      <use xlink:href=\"#DejaVuSans-435\" x=\"2324.267578\"/>\n      <use xlink:href=\"#DejaVuSans-43b\" x=\"2385.791016\"/>\n      <use xlink:href=\"#DejaVuSans-438\" x=\"2449.707031\"/>\n     </g>\n    </g>\n   </g>\n  </g>\n </g>\n <defs>\n  <clipPath id=\"p7541a98a83\">\n   <rect x=\"58.402813\" y=\"28.396875\" width=\"646\" height=\"282.52\"/>\n  </clipPath>\n </defs>\n</svg>\n",
      "text/plain": [
       "<Figure size 1000x500 with 1 Axes>"
      ]
     },
     "metadata": {},
     "output_type": "display_data"
    },
    {
     "data": {
      "image/svg+xml": "<?xml version=\"1.0\" encoding=\"utf-8\" standalone=\"no\"?>\n<!DOCTYPE svg PUBLIC \"-//W3C//DTD SVG 1.1//EN\"\n  \"http://www.w3.org/Graphics/SVG/1.1/DTD/svg11.dtd\">\n<svg xmlns:xlink=\"http://www.w3.org/1999/xlink\" width=\"711.6125pt\" height=\"350.40875pt\" viewBox=\"0 0 711.6125 350.40875\" xmlns=\"http://www.w3.org/2000/svg\" version=\"1.1\">\n <metadata>\n  <rdf:RDF xmlns:dc=\"http://purl.org/dc/elements/1.1/\" xmlns:cc=\"http://creativecommons.org/ns#\" xmlns:rdf=\"http://www.w3.org/1999/02/22-rdf-syntax-ns#\">\n   <cc:Work>\n    <dc:type rdf:resource=\"http://purl.org/dc/dcmitype/StillImage\"/>\n    <dc:date>2023-04-20T16:00:28.195689</dc:date>\n    <dc:format>image/svg+xml</dc:format>\n    <dc:creator>\n     <cc:Agent>\n      <dc:title>Matplotlib v3.7.1, https://matplotlib.org/</dc:title>\n     </cc:Agent>\n    </dc:creator>\n   </cc:Work>\n  </rdf:RDF>\n </metadata>\n <defs>\n  <style type=\"text/css\">*{stroke-linejoin: round; stroke-linecap: butt}</style>\n </defs>\n <g id=\"figure_1\">\n  <g id=\"patch_1\">\n   <path d=\"M 0 350.40875 \nL 711.6125 350.40875 \nL 711.6125 0 \nL 0 0 \nz\n\" style=\"fill: #ffffff\"/>\n  </g>\n  <g id=\"axes_1\">\n   <g id=\"patch_2\">\n    <path d=\"M 66.7825 310.916875 \nL 704.4125 310.916875 \nL 704.4125 28.396875 \nL 66.7825 28.396875 \nz\n\" style=\"fill: #eaeaf2\"/>\n   </g>\n   <g id=\"matplotlib.axis_1\">\n    <g id=\"xtick_1\">\n     <g id=\"line2d_1\">\n      <path d=\"M 66.7825 310.916875 \nL 66.7825 28.396875 \n\" clip-path=\"url(#p1555c91e4e)\" style=\"fill: none; stroke: #ffffff; stroke-width: 0.8; stroke-linecap: round\"/>\n     </g>\n     <g id=\"text_1\">\n      <!-- 1 -->\n      <g style=\"fill: #262626\" transform=\"translate(63.60125 325.515312) scale(0.1 -0.1)\">\n       <defs>\n        <path id=\"DejaVuSans-31\" d=\"M 794 531 \nL 1825 531 \nL 1825 4091 \nL 703 3866 \nL 703 4441 \nL 1819 4666 \nL 2450 4666 \nL 2450 531 \nL 3481 531 \nL 3481 0 \nL 794 0 \nL 794 531 \nz\n\" transform=\"scale(0.015625)\"/>\n       </defs>\n       <use xlink:href=\"#DejaVuSans-31\"/>\n      </g>\n     </g>\n    </g>\n    <g id=\"xtick_2\">\n     <g id=\"line2d_2\">\n      <path d=\"M 91.073167 310.916875 \nL 91.073167 28.396875 \n\" clip-path=\"url(#p1555c91e4e)\" style=\"fill: none; stroke: #ffffff; stroke-width: 0.8; stroke-linecap: round\"/>\n     </g>\n     <g id=\"text_2\">\n      <!-- 2 -->\n      <g style=\"fill: #262626\" transform=\"translate(87.891917 325.515312) scale(0.1 -0.1)\">\n       <defs>\n        <path id=\"DejaVuSans-32\" d=\"M 1228 531 \nL 3431 531 \nL 3431 0 \nL 469 0 \nL 469 531 \nQ 828 903 1448 1529 \nQ 2069 2156 2228 2338 \nQ 2531 2678 2651 2914 \nQ 2772 3150 2772 3378 \nQ 2772 3750 2511 3984 \nQ 2250 4219 1831 4219 \nQ 1534 4219 1204 4116 \nQ 875 4013 500 3803 \nL 500 4441 \nQ 881 4594 1212 4672 \nQ 1544 4750 1819 4750 \nQ 2544 4750 2975 4387 \nQ 3406 4025 3406 3419 \nQ 3406 3131 3298 2873 \nQ 3191 2616 2906 2266 \nQ 2828 2175 2409 1742 \nQ 1991 1309 1228 531 \nz\n\" transform=\"scale(0.015625)\"/>\n       </defs>\n       <use xlink:href=\"#DejaVuSans-32\"/>\n      </g>\n     </g>\n    </g>\n    <g id=\"xtick_3\">\n     <g id=\"line2d_3\">\n      <path d=\"M 115.363833 310.916875 \nL 115.363833 28.396875 \n\" clip-path=\"url(#p1555c91e4e)\" style=\"fill: none; stroke: #ffffff; stroke-width: 0.8; stroke-linecap: round\"/>\n     </g>\n     <g id=\"text_3\">\n      <!-- 3 -->\n      <g style=\"fill: #262626\" transform=\"translate(112.182583 325.515312) scale(0.1 -0.1)\">\n       <defs>\n        <path id=\"DejaVuSans-33\" d=\"M 2597 2516 \nQ 3050 2419 3304 2112 \nQ 3559 1806 3559 1356 \nQ 3559 666 3084 287 \nQ 2609 -91 1734 -91 \nQ 1441 -91 1130 -33 \nQ 819 25 488 141 \nL 488 750 \nQ 750 597 1062 519 \nQ 1375 441 1716 441 \nQ 2309 441 2620 675 \nQ 2931 909 2931 1356 \nQ 2931 1769 2642 2001 \nQ 2353 2234 1838 2234 \nL 1294 2234 \nL 1294 2753 \nL 1863 2753 \nQ 2328 2753 2575 2939 \nQ 2822 3125 2822 3475 \nQ 2822 3834 2567 4026 \nQ 2313 4219 1838 4219 \nQ 1578 4219 1281 4162 \nQ 984 4106 628 3988 \nL 628 4550 \nQ 988 4650 1302 4700 \nQ 1616 4750 1894 4750 \nQ 2613 4750 3031 4423 \nQ 3450 4097 3450 3541 \nQ 3450 3153 3228 2886 \nQ 3006 2619 2597 2516 \nz\n\" transform=\"scale(0.015625)\"/>\n       </defs>\n       <use xlink:href=\"#DejaVuSans-33\"/>\n      </g>\n     </g>\n    </g>\n    <g id=\"xtick_4\">\n     <g id=\"line2d_4\">\n      <path d=\"M 139.6545 310.916875 \nL 139.6545 28.396875 \n\" clip-path=\"url(#p1555c91e4e)\" style=\"fill: none; stroke: #ffffff; stroke-width: 0.8; stroke-linecap: round\"/>\n     </g>\n     <g id=\"text_4\">\n      <!-- 4 -->\n      <g style=\"fill: #262626\" transform=\"translate(136.47325 325.515312) scale(0.1 -0.1)\">\n       <defs>\n        <path id=\"DejaVuSans-34\" d=\"M 2419 4116 \nL 825 1625 \nL 2419 1625 \nL 2419 4116 \nz\nM 2253 4666 \nL 3047 4666 \nL 3047 1625 \nL 3713 1625 \nL 3713 1100 \nL 3047 1100 \nL 3047 0 \nL 2419 0 \nL 2419 1100 \nL 313 1100 \nL 313 1709 \nL 2253 4666 \nz\n\" transform=\"scale(0.015625)\"/>\n       </defs>\n       <use xlink:href=\"#DejaVuSans-34\"/>\n      </g>\n     </g>\n    </g>\n    <g id=\"xtick_5\">\n     <g id=\"line2d_5\">\n      <path d=\"M 163.945167 310.916875 \nL 163.945167 28.396875 \n\" clip-path=\"url(#p1555c91e4e)\" style=\"fill: none; stroke: #ffffff; stroke-width: 0.8; stroke-linecap: round\"/>\n     </g>\n     <g id=\"text_5\">\n      <!-- 5 -->\n      <g style=\"fill: #262626\" transform=\"translate(160.763917 325.515312) scale(0.1 -0.1)\">\n       <defs>\n        <path id=\"DejaVuSans-35\" d=\"M 691 4666 \nL 3169 4666 \nL 3169 4134 \nL 1269 4134 \nL 1269 2991 \nQ 1406 3038 1543 3061 \nQ 1681 3084 1819 3084 \nQ 2600 3084 3056 2656 \nQ 3513 2228 3513 1497 \nQ 3513 744 3044 326 \nQ 2575 -91 1722 -91 \nQ 1428 -91 1123 -41 \nQ 819 9 494 109 \nL 494 744 \nQ 775 591 1075 516 \nQ 1375 441 1709 441 \nQ 2250 441 2565 725 \nQ 2881 1009 2881 1497 \nQ 2881 1984 2565 2268 \nQ 2250 2553 1709 2553 \nQ 1456 2553 1204 2497 \nQ 953 2441 691 2322 \nL 691 4666 \nz\n\" transform=\"scale(0.015625)\"/>\n       </defs>\n       <use xlink:href=\"#DejaVuSans-35\"/>\n      </g>\n     </g>\n    </g>\n    <g id=\"xtick_6\">\n     <g id=\"line2d_6\">\n      <path d=\"M 188.235833 310.916875 \nL 188.235833 28.396875 \n\" clip-path=\"url(#p1555c91e4e)\" style=\"fill: none; stroke: #ffffff; stroke-width: 0.8; stroke-linecap: round\"/>\n     </g>\n     <g id=\"text_6\">\n      <!-- 6 -->\n      <g style=\"fill: #262626\" transform=\"translate(185.054583 325.515312) scale(0.1 -0.1)\">\n       <defs>\n        <path id=\"DejaVuSans-36\" d=\"M 2113 2584 \nQ 1688 2584 1439 2293 \nQ 1191 2003 1191 1497 \nQ 1191 994 1439 701 \nQ 1688 409 2113 409 \nQ 2538 409 2786 701 \nQ 3034 994 3034 1497 \nQ 3034 2003 2786 2293 \nQ 2538 2584 2113 2584 \nz\nM 3366 4563 \nL 3366 3988 \nQ 3128 4100 2886 4159 \nQ 2644 4219 2406 4219 \nQ 1781 4219 1451 3797 \nQ 1122 3375 1075 2522 \nQ 1259 2794 1537 2939 \nQ 1816 3084 2150 3084 \nQ 2853 3084 3261 2657 \nQ 3669 2231 3669 1497 \nQ 3669 778 3244 343 \nQ 2819 -91 2113 -91 \nQ 1303 -91 875 529 \nQ 447 1150 447 2328 \nQ 447 3434 972 4092 \nQ 1497 4750 2381 4750 \nQ 2619 4750 2861 4703 \nQ 3103 4656 3366 4563 \nz\n\" transform=\"scale(0.015625)\"/>\n       </defs>\n       <use xlink:href=\"#DejaVuSans-36\"/>\n      </g>\n     </g>\n    </g>\n    <g id=\"xtick_7\">\n     <g id=\"line2d_7\">\n      <path d=\"M 212.5265 310.916875 \nL 212.5265 28.396875 \n\" clip-path=\"url(#p1555c91e4e)\" style=\"fill: none; stroke: #ffffff; stroke-width: 0.8; stroke-linecap: round\"/>\n     </g>\n     <g id=\"text_7\">\n      <!-- 7 -->\n      <g style=\"fill: #262626\" transform=\"translate(209.34525 325.515312) scale(0.1 -0.1)\">\n       <defs>\n        <path id=\"DejaVuSans-37\" d=\"M 525 4666 \nL 3525 4666 \nL 3525 4397 \nL 1831 0 \nL 1172 0 \nL 2766 4134 \nL 525 4134 \nL 525 4666 \nz\n\" transform=\"scale(0.015625)\"/>\n       </defs>\n       <use xlink:href=\"#DejaVuSans-37\"/>\n      </g>\n     </g>\n    </g>\n    <g id=\"xtick_8\">\n     <g id=\"line2d_8\">\n      <path d=\"M 236.817167 310.916875 \nL 236.817167 28.396875 \n\" clip-path=\"url(#p1555c91e4e)\" style=\"fill: none; stroke: #ffffff; stroke-width: 0.8; stroke-linecap: round\"/>\n     </g>\n     <g id=\"text_8\">\n      <!-- 8 -->\n      <g style=\"fill: #262626\" transform=\"translate(233.635917 325.515312) scale(0.1 -0.1)\">\n       <defs>\n        <path id=\"DejaVuSans-38\" d=\"M 2034 2216 \nQ 1584 2216 1326 1975 \nQ 1069 1734 1069 1313 \nQ 1069 891 1326 650 \nQ 1584 409 2034 409 \nQ 2484 409 2743 651 \nQ 3003 894 3003 1313 \nQ 3003 1734 2745 1975 \nQ 2488 2216 2034 2216 \nz\nM 1403 2484 \nQ 997 2584 770 2862 \nQ 544 3141 544 3541 \nQ 544 4100 942 4425 \nQ 1341 4750 2034 4750 \nQ 2731 4750 3128 4425 \nQ 3525 4100 3525 3541 \nQ 3525 3141 3298 2862 \nQ 3072 2584 2669 2484 \nQ 3125 2378 3379 2068 \nQ 3634 1759 3634 1313 \nQ 3634 634 3220 271 \nQ 2806 -91 2034 -91 \nQ 1263 -91 848 271 \nQ 434 634 434 1313 \nQ 434 1759 690 2068 \nQ 947 2378 1403 2484 \nz\nM 1172 3481 \nQ 1172 3119 1398 2916 \nQ 1625 2713 2034 2713 \nQ 2441 2713 2670 2916 \nQ 2900 3119 2900 3481 \nQ 2900 3844 2670 4047 \nQ 2441 4250 2034 4250 \nQ 1625 4250 1398 4047 \nQ 1172 3844 1172 3481 \nz\n\" transform=\"scale(0.015625)\"/>\n       </defs>\n       <use xlink:href=\"#DejaVuSans-38\"/>\n      </g>\n     </g>\n    </g>\n    <g id=\"xtick_9\">\n     <g id=\"line2d_9\">\n      <path d=\"M 261.107833 310.916875 \nL 261.107833 28.396875 \n\" clip-path=\"url(#p1555c91e4e)\" style=\"fill: none; stroke: #ffffff; stroke-width: 0.8; stroke-linecap: round\"/>\n     </g>\n     <g id=\"text_9\">\n      <!-- 9 -->\n      <g style=\"fill: #262626\" transform=\"translate(257.926583 325.515312) scale(0.1 -0.1)\">\n       <defs>\n        <path id=\"DejaVuSans-39\" d=\"M 703 97 \nL 703 672 \nQ 941 559 1184 500 \nQ 1428 441 1663 441 \nQ 2288 441 2617 861 \nQ 2947 1281 2994 2138 \nQ 2813 1869 2534 1725 \nQ 2256 1581 1919 1581 \nQ 1219 1581 811 2004 \nQ 403 2428 403 3163 \nQ 403 3881 828 4315 \nQ 1253 4750 1959 4750 \nQ 2769 4750 3195 4129 \nQ 3622 3509 3622 2328 \nQ 3622 1225 3098 567 \nQ 2575 -91 1691 -91 \nQ 1453 -91 1209 -44 \nQ 966 3 703 97 \nz\nM 1959 2075 \nQ 2384 2075 2632 2365 \nQ 2881 2656 2881 3163 \nQ 2881 3666 2632 3958 \nQ 2384 4250 1959 4250 \nQ 1534 4250 1286 3958 \nQ 1038 3666 1038 3163 \nQ 1038 2656 1286 2365 \nQ 1534 2075 1959 2075 \nz\n\" transform=\"scale(0.015625)\"/>\n       </defs>\n       <use xlink:href=\"#DejaVuSans-39\"/>\n      </g>\n     </g>\n    </g>\n    <g id=\"xtick_10\">\n     <g id=\"line2d_10\">\n      <path d=\"M 285.3985 310.916875 \nL 285.3985 28.396875 \n\" clip-path=\"url(#p1555c91e4e)\" style=\"fill: none; stroke: #ffffff; stroke-width: 0.8; stroke-linecap: round\"/>\n     </g>\n     <g id=\"text_10\">\n      <!-- 10 -->\n      <g style=\"fill: #262626\" transform=\"translate(279.036 325.515312) scale(0.1 -0.1)\">\n       <defs>\n        <path id=\"DejaVuSans-30\" d=\"M 2034 4250 \nQ 1547 4250 1301 3770 \nQ 1056 3291 1056 2328 \nQ 1056 1369 1301 889 \nQ 1547 409 2034 409 \nQ 2525 409 2770 889 \nQ 3016 1369 3016 2328 \nQ 3016 3291 2770 3770 \nQ 2525 4250 2034 4250 \nz\nM 2034 4750 \nQ 2819 4750 3233 4129 \nQ 3647 3509 3647 2328 \nQ 3647 1150 3233 529 \nQ 2819 -91 2034 -91 \nQ 1250 -91 836 529 \nQ 422 1150 422 2328 \nQ 422 3509 836 4129 \nQ 1250 4750 2034 4750 \nz\n\" transform=\"scale(0.015625)\"/>\n       </defs>\n       <use xlink:href=\"#DejaVuSans-31\"/>\n       <use xlink:href=\"#DejaVuSans-30\" x=\"63.623047\"/>\n      </g>\n     </g>\n    </g>\n    <g id=\"xtick_11\">\n     <g id=\"line2d_11\">\n      <path d=\"M 309.689167 310.916875 \nL 309.689167 28.396875 \n\" clip-path=\"url(#p1555c91e4e)\" style=\"fill: none; stroke: #ffffff; stroke-width: 0.8; stroke-linecap: round\"/>\n     </g>\n     <g id=\"text_11\">\n      <!-- 11 -->\n      <g style=\"fill: #262626\" transform=\"translate(303.326667 325.515312) scale(0.1 -0.1)\">\n       <use xlink:href=\"#DejaVuSans-31\"/>\n       <use xlink:href=\"#DejaVuSans-31\" x=\"63.623047\"/>\n      </g>\n     </g>\n    </g>\n    <g id=\"xtick_12\">\n     <g id=\"line2d_12\">\n      <path d=\"M 333.979833 310.916875 \nL 333.979833 28.396875 \n\" clip-path=\"url(#p1555c91e4e)\" style=\"fill: none; stroke: #ffffff; stroke-width: 0.8; stroke-linecap: round\"/>\n     </g>\n     <g id=\"text_12\">\n      <!-- 12 -->\n      <g style=\"fill: #262626\" transform=\"translate(327.617333 325.515312) scale(0.1 -0.1)\">\n       <use xlink:href=\"#DejaVuSans-31\"/>\n       <use xlink:href=\"#DejaVuSans-32\" x=\"63.623047\"/>\n      </g>\n     </g>\n    </g>\n    <g id=\"xtick_13\">\n     <g id=\"line2d_13\">\n      <path d=\"M 358.2705 310.916875 \nL 358.2705 28.396875 \n\" clip-path=\"url(#p1555c91e4e)\" style=\"fill: none; stroke: #ffffff; stroke-width: 0.8; stroke-linecap: round\"/>\n     </g>\n     <g id=\"text_13\">\n      <!-- 13 -->\n      <g style=\"fill: #262626\" transform=\"translate(351.908 325.515312) scale(0.1 -0.1)\">\n       <use xlink:href=\"#DejaVuSans-31\"/>\n       <use xlink:href=\"#DejaVuSans-33\" x=\"63.623047\"/>\n      </g>\n     </g>\n    </g>\n    <g id=\"xtick_14\">\n     <g id=\"line2d_14\">\n      <path d=\"M 382.561167 310.916875 \nL 382.561167 28.396875 \n\" clip-path=\"url(#p1555c91e4e)\" style=\"fill: none; stroke: #ffffff; stroke-width: 0.8; stroke-linecap: round\"/>\n     </g>\n     <g id=\"text_14\">\n      <!-- 14 -->\n      <g style=\"fill: #262626\" transform=\"translate(376.198667 325.515312) scale(0.1 -0.1)\">\n       <use xlink:href=\"#DejaVuSans-31\"/>\n       <use xlink:href=\"#DejaVuSans-34\" x=\"63.623047\"/>\n      </g>\n     </g>\n    </g>\n    <g id=\"xtick_15\">\n     <g id=\"line2d_15\">\n      <path d=\"M 406.851833 310.916875 \nL 406.851833 28.396875 \n\" clip-path=\"url(#p1555c91e4e)\" style=\"fill: none; stroke: #ffffff; stroke-width: 0.8; stroke-linecap: round\"/>\n     </g>\n     <g id=\"text_15\">\n      <!-- 15 -->\n      <g style=\"fill: #262626\" transform=\"translate(400.489333 325.515312) scale(0.1 -0.1)\">\n       <use xlink:href=\"#DejaVuSans-31\"/>\n       <use xlink:href=\"#DejaVuSans-35\" x=\"63.623047\"/>\n      </g>\n     </g>\n    </g>\n    <g id=\"xtick_16\">\n     <g id=\"line2d_16\">\n      <path d=\"M 431.1425 310.916875 \nL 431.1425 28.396875 \n\" clip-path=\"url(#p1555c91e4e)\" style=\"fill: none; stroke: #ffffff; stroke-width: 0.8; stroke-linecap: round\"/>\n     </g>\n     <g id=\"text_16\">\n      <!-- 16 -->\n      <g style=\"fill: #262626\" transform=\"translate(424.78 325.515312) scale(0.1 -0.1)\">\n       <use xlink:href=\"#DejaVuSans-31\"/>\n       <use xlink:href=\"#DejaVuSans-36\" x=\"63.623047\"/>\n      </g>\n     </g>\n    </g>\n    <g id=\"xtick_17\">\n     <g id=\"line2d_17\">\n      <path d=\"M 455.433167 310.916875 \nL 455.433167 28.396875 \n\" clip-path=\"url(#p1555c91e4e)\" style=\"fill: none; stroke: #ffffff; stroke-width: 0.8; stroke-linecap: round\"/>\n     </g>\n     <g id=\"text_17\">\n      <!-- 17 -->\n      <g style=\"fill: #262626\" transform=\"translate(449.070667 325.515312) scale(0.1 -0.1)\">\n       <use xlink:href=\"#DejaVuSans-31\"/>\n       <use xlink:href=\"#DejaVuSans-37\" x=\"63.623047\"/>\n      </g>\n     </g>\n    </g>\n    <g id=\"xtick_18\">\n     <g id=\"line2d_18\">\n      <path d=\"M 479.723833 310.916875 \nL 479.723833 28.396875 \n\" clip-path=\"url(#p1555c91e4e)\" style=\"fill: none; stroke: #ffffff; stroke-width: 0.8; stroke-linecap: round\"/>\n     </g>\n     <g id=\"text_18\">\n      <!-- 18 -->\n      <g style=\"fill: #262626\" transform=\"translate(473.361333 325.515312) scale(0.1 -0.1)\">\n       <use xlink:href=\"#DejaVuSans-31\"/>\n       <use xlink:href=\"#DejaVuSans-38\" x=\"63.623047\"/>\n      </g>\n     </g>\n    </g>\n    <g id=\"xtick_19\">\n     <g id=\"line2d_19\">\n      <path d=\"M 504.0145 310.916875 \nL 504.0145 28.396875 \n\" clip-path=\"url(#p1555c91e4e)\" style=\"fill: none; stroke: #ffffff; stroke-width: 0.8; stroke-linecap: round\"/>\n     </g>\n     <g id=\"text_19\">\n      <!-- 19 -->\n      <g style=\"fill: #262626\" transform=\"translate(497.652 325.515312) scale(0.1 -0.1)\">\n       <use xlink:href=\"#DejaVuSans-31\"/>\n       <use xlink:href=\"#DejaVuSans-39\" x=\"63.623047\"/>\n      </g>\n     </g>\n    </g>\n    <g id=\"xtick_20\">\n     <g id=\"line2d_20\">\n      <path d=\"M 528.305167 310.916875 \nL 528.305167 28.396875 \n\" clip-path=\"url(#p1555c91e4e)\" style=\"fill: none; stroke: #ffffff; stroke-width: 0.8; stroke-linecap: round\"/>\n     </g>\n     <g id=\"text_20\">\n      <!-- 20 -->\n      <g style=\"fill: #262626\" transform=\"translate(521.942667 325.515312) scale(0.1 -0.1)\">\n       <use xlink:href=\"#DejaVuSans-32\"/>\n       <use xlink:href=\"#DejaVuSans-30\" x=\"63.623047\"/>\n      </g>\n     </g>\n    </g>\n    <g id=\"xtick_21\">\n     <g id=\"line2d_21\">\n      <path d=\"M 552.595833 310.916875 \nL 552.595833 28.396875 \n\" clip-path=\"url(#p1555c91e4e)\" style=\"fill: none; stroke: #ffffff; stroke-width: 0.8; stroke-linecap: round\"/>\n     </g>\n     <g id=\"text_21\">\n      <!-- 21 -->\n      <g style=\"fill: #262626\" transform=\"translate(546.233333 325.515312) scale(0.1 -0.1)\">\n       <use xlink:href=\"#DejaVuSans-32\"/>\n       <use xlink:href=\"#DejaVuSans-31\" x=\"63.623047\"/>\n      </g>\n     </g>\n    </g>\n    <g id=\"xtick_22\">\n     <g id=\"line2d_22\">\n      <path d=\"M 576.8865 310.916875 \nL 576.8865 28.396875 \n\" clip-path=\"url(#p1555c91e4e)\" style=\"fill: none; stroke: #ffffff; stroke-width: 0.8; stroke-linecap: round\"/>\n     </g>\n     <g id=\"text_22\">\n      <!-- 22 -->\n      <g style=\"fill: #262626\" transform=\"translate(570.524 325.515312) scale(0.1 -0.1)\">\n       <use xlink:href=\"#DejaVuSans-32\"/>\n       <use xlink:href=\"#DejaVuSans-32\" x=\"63.623047\"/>\n      </g>\n     </g>\n    </g>\n    <g id=\"xtick_23\">\n     <g id=\"line2d_23\">\n      <path d=\"M 601.177167 310.916875 \nL 601.177167 28.396875 \n\" clip-path=\"url(#p1555c91e4e)\" style=\"fill: none; stroke: #ffffff; stroke-width: 0.8; stroke-linecap: round\"/>\n     </g>\n     <g id=\"text_23\">\n      <!-- 23 -->\n      <g style=\"fill: #262626\" transform=\"translate(594.814667 325.515312) scale(0.1 -0.1)\">\n       <use xlink:href=\"#DejaVuSans-32\"/>\n       <use xlink:href=\"#DejaVuSans-33\" x=\"63.623047\"/>\n      </g>\n     </g>\n    </g>\n    <g id=\"xtick_24\">\n     <g id=\"line2d_24\">\n      <path d=\"M 625.467833 310.916875 \nL 625.467833 28.396875 \n\" clip-path=\"url(#p1555c91e4e)\" style=\"fill: none; stroke: #ffffff; stroke-width: 0.8; stroke-linecap: round\"/>\n     </g>\n     <g id=\"text_24\">\n      <!-- 24 -->\n      <g style=\"fill: #262626\" transform=\"translate(619.105333 325.515312) scale(0.1 -0.1)\">\n       <use xlink:href=\"#DejaVuSans-32\"/>\n       <use xlink:href=\"#DejaVuSans-34\" x=\"63.623047\"/>\n      </g>\n     </g>\n    </g>\n    <g id=\"xtick_25\">\n     <g id=\"line2d_25\">\n      <path d=\"M 649.7585 310.916875 \nL 649.7585 28.396875 \n\" clip-path=\"url(#p1555c91e4e)\" style=\"fill: none; stroke: #ffffff; stroke-width: 0.8; stroke-linecap: round\"/>\n     </g>\n     <g id=\"text_25\">\n      <!-- 25 -->\n      <g style=\"fill: #262626\" transform=\"translate(643.396 325.515312) scale(0.1 -0.1)\">\n       <use xlink:href=\"#DejaVuSans-32\"/>\n       <use xlink:href=\"#DejaVuSans-35\" x=\"63.623047\"/>\n      </g>\n     </g>\n    </g>\n    <g id=\"xtick_26\">\n     <g id=\"line2d_26\">\n      <path d=\"M 674.049167 310.916875 \nL 674.049167 28.396875 \n\" clip-path=\"url(#p1555c91e4e)\" style=\"fill: none; stroke: #ffffff; stroke-width: 0.8; stroke-linecap: round\"/>\n     </g>\n     <g id=\"text_26\">\n      <!-- 26 -->\n      <g style=\"fill: #262626\" transform=\"translate(667.686667 325.515312) scale(0.1 -0.1)\">\n       <use xlink:href=\"#DejaVuSans-32\"/>\n       <use xlink:href=\"#DejaVuSans-36\" x=\"63.623047\"/>\n      </g>\n     </g>\n    </g>\n    <g id=\"text_27\">\n     <!-- Количество сыгранных игр -->\n     <g style=\"fill: #262626\" transform=\"translate(299.210625 340.713125) scale(0.12 -0.12)\">\n      <defs>\n       <path id=\"DejaVuSans-41a\" d=\"M 628 4666 \nL 1259 4666 \nL 1259 2359 \nL 3516 4666 \nL 4325 4666 \nL 2522 2822 \nL 4419 0 \nL 3731 0 \nL 2113 2403 \nL 1259 1531 \nL 1259 0 \nL 628 0 \nL 628 4666 \nz\n\" transform=\"scale(0.015625)\"/>\n       <path id=\"DejaVuSans-43e\" d=\"M 1959 3097 \nQ 1497 3097 1228 2736 \nQ 959 2375 959 1747 \nQ 959 1119 1226 758 \nQ 1494 397 1959 397 \nQ 2419 397 2687 759 \nQ 2956 1122 2956 1747 \nQ 2956 2369 2687 2733 \nQ 2419 3097 1959 3097 \nz\nM 1959 3584 \nQ 2709 3584 3137 3096 \nQ 3566 2609 3566 1747 \nQ 3566 888 3137 398 \nQ 2709 -91 1959 -91 \nQ 1206 -91 779 398 \nQ 353 888 353 1747 \nQ 353 2609 779 3096 \nQ 1206 3584 1959 3584 \nz\n\" transform=\"scale(0.015625)\"/>\n       <path id=\"DejaVuSans-43b\" d=\"M 238 0 \nL 238 478 \nQ 806 566 981 959 \nQ 1194 1513 1194 2928 \nL 1194 3500 \nL 3559 3500 \nL 3559 0 \nL 2984 0 \nL 2984 3041 \nL 1769 3041 \nL 1769 2694 \nQ 1769 1344 1494 738 \nQ 1200 91 238 0 \nz\n\" transform=\"scale(0.015625)\"/>\n       <path id=\"DejaVuSans-438\" d=\"M 3578 3500 \nL 3578 0 \nL 3006 0 \nL 3006 2809 \nL 1319 0 \nL 581 0 \nL 581 3500 \nL 1153 3500 \nL 1153 697 \nL 2838 3500 \nL 3578 3500 \nz\n\" transform=\"scale(0.015625)\"/>\n       <path id=\"DejaVuSans-447\" d=\"M 2625 0 \nL 2625 1472 \nL 1553 1472 \nQ 1075 1472 756 1769 \nQ 469 2038 469 2613 \nL 469 3500 \nL 1044 3500 \nL 1044 2666 \nQ 1044 2300 1206 2116 \nQ 1372 1931 1697 1931 \nL 2625 1931 \nL 2625 3500 \nL 3200 3500 \nL 3200 0 \nL 2625 0 \nz\n\" transform=\"scale(0.015625)\"/>\n       <path id=\"DejaVuSans-435\" d=\"M 3597 1894 \nL 3597 1613 \nL 953 1613 \nQ 991 1019 1311 708 \nQ 1631 397 2203 397 \nQ 2534 397 2845 478 \nQ 3156 559 3463 722 \nL 3463 178 \nQ 3153 47 2828 -22 \nQ 2503 -91 2169 -91 \nQ 1331 -91 842 396 \nQ 353 884 353 1716 \nQ 353 2575 817 3079 \nQ 1281 3584 2069 3584 \nQ 2775 3584 3186 3129 \nQ 3597 2675 3597 1894 \nz\nM 3022 2063 \nQ 3016 2534 2758 2815 \nQ 2500 3097 2075 3097 \nQ 1594 3097 1305 2825 \nQ 1016 2553 972 2059 \nL 3022 2063 \nz\n\" transform=\"scale(0.015625)\"/>\n       <path id=\"DejaVuSans-441\" d=\"M 3122 3366 \nL 3122 2828 \nQ 2878 2963 2633 3030 \nQ 2388 3097 2138 3097 \nQ 1578 3097 1268 2742 \nQ 959 2388 959 1747 \nQ 959 1106 1268 751 \nQ 1578 397 2138 397 \nQ 2388 397 2633 464 \nQ 2878 531 3122 666 \nL 3122 134 \nQ 2881 22 2623 -34 \nQ 2366 -91 2075 -91 \nQ 1284 -91 818 406 \nQ 353 903 353 1747 \nQ 353 2603 823 3093 \nQ 1294 3584 2113 3584 \nQ 2378 3584 2631 3529 \nQ 2884 3475 3122 3366 \nz\n\" transform=\"scale(0.015625)\"/>\n       <path id=\"DejaVuSans-442\" d=\"M 188 3500 \nL 3541 3500 \nL 3541 3041 \nL 2147 3041 \nL 2147 0 \nL 1581 0 \nL 1581 3041 \nL 188 3041 \nL 188 3500 \nz\n\" transform=\"scale(0.015625)\"/>\n       <path id=\"DejaVuSans-432\" d=\"M 1156 1613 \nL 1156 459 \nL 1975 459 \nQ 2369 459 2575 607 \nQ 2781 756 2781 1038 \nQ 2781 1319 2575 1466 \nQ 2369 1613 1975 1613 \nL 1156 1613 \nz\nM 1156 3041 \nL 1156 2072 \nL 1913 2072 \nQ 2238 2072 2444 2201 \nQ 2650 2331 2650 2563 \nQ 2650 2794 2444 2917 \nQ 2238 3041 1913 3041 \nL 1156 3041 \nz\nM 581 3500 \nL 1950 3500 \nQ 2566 3500 2897 3275 \nQ 3228 3050 3228 2634 \nQ 3228 2313 3059 2123 \nQ 2891 1934 2559 1888 \nQ 2956 1813 3175 1575 \nQ 3394 1338 3394 981 \nQ 3394 513 3033 256 \nQ 2672 0 2003 0 \nL 581 0 \nL 581 3500 \nz\n\" transform=\"scale(0.015625)\"/>\n       <path id=\"DejaVuSans-20\" transform=\"scale(0.015625)\"/>\n       <path id=\"DejaVuSans-44b\" d=\"M 3907 3500 \nL 4482 3500 \nL 4482 0 \nL 3907 0 \nL 3907 3500 \nz\nM 4195 3584 \nL 4195 3584 \nz\nM 2781 1038 \nQ 2781 1319 2576 1466 \nQ 2372 1613 1978 1613 \nL 1159 1613 \nL 1159 459 \nL 1978 459 \nQ 2372 459 2576 607 \nQ 2781 756 2781 1038 \nz\nM 581 3500 \nL 1159 3500 \nL 1159 2072 \nL 2003 2072 \nQ 2672 2072 3033 1817 \nQ 3394 1563 3394 1038 \nQ 3394 513 3033 256 \nQ 2672 0 2003 0 \nL 581 0 \nL 581 3500 \nz\n\" transform=\"scale(0.015625)\"/>\n       <path id=\"DejaVuSans-433\" d=\"M 581 0 \nL 581 3500 \nL 3050 3500 \nL 3050 3041 \nL 1159 3041 \nL 1159 0 \nL 581 0 \nz\n\" transform=\"scale(0.015625)\"/>\n       <path id=\"DejaVuSans-440\" d=\"M 1159 525 \nL 1159 -1331 \nL 581 -1331 \nL 581 3500 \nL 1159 3500 \nL 1159 2969 \nQ 1341 3281 1617 3432 \nQ 1894 3584 2278 3584 \nQ 2916 3584 3314 3078 \nQ 3713 2572 3713 1747 \nQ 3713 922 3314 415 \nQ 2916 -91 2278 -91 \nQ 1894 -91 1617 61 \nQ 1341 213 1159 525 \nz\nM 3116 1747 \nQ 3116 2381 2855 2742 \nQ 2594 3103 2138 3103 \nQ 1681 3103 1420 2742 \nQ 1159 2381 1159 1747 \nQ 1159 1113 1420 752 \nQ 1681 391 2138 391 \nQ 2594 391 2855 752 \nQ 3116 1113 3116 1747 \nz\n\" transform=\"scale(0.015625)\"/>\n       <path id=\"DejaVuSans-430\" d=\"M 2194 1759 \nQ 1497 1759 1228 1600 \nQ 959 1441 959 1056 \nQ 959 750 1161 570 \nQ 1363 391 1709 391 \nQ 2188 391 2477 730 \nQ 2766 1069 2766 1631 \nL 2766 1759 \nL 2194 1759 \nz\nM 3341 1997 \nL 3341 0 \nL 2766 0 \nL 2766 531 \nQ 2569 213 2275 61 \nQ 1981 -91 1556 -91 \nQ 1019 -91 701 211 \nQ 384 513 384 1019 \nQ 384 1609 779 1909 \nQ 1175 2209 1959 2209 \nL 2766 2209 \nL 2766 2266 \nQ 2766 2663 2505 2880 \nQ 2244 3097 1772 3097 \nQ 1472 3097 1187 3025 \nQ 903 2953 641 2809 \nL 641 3341 \nQ 956 3463 1253 3523 \nQ 1550 3584 1831 3584 \nQ 2591 3584 2966 3190 \nQ 3341 2797 3341 1997 \nz\n\" transform=\"scale(0.015625)\"/>\n       <path id=\"DejaVuSans-43d\" d=\"M 581 3500 \nL 1159 3500 \nL 1159 2072 \nL 3025 2072 \nL 3025 3500 \nL 3603 3500 \nL 3603 0 \nL 3025 0 \nL 3025 1613 \nL 1159 1613 \nL 1159 0 \nL 581 0 \nL 581 3500 \nz\n\" transform=\"scale(0.015625)\"/>\n       <path id=\"DejaVuSans-445\" d=\"M 3513 3500 \nL 2247 1797 \nL 3578 0 \nL 2900 0 \nL 1881 1375 \nL 863 0 \nL 184 0 \nL 1544 1831 \nL 300 3500 \nL 978 3500 \nL 1906 2253 \nL 2834 3500 \nL 3513 3500 \nz\n\" transform=\"scale(0.015625)\"/>\n      </defs>\n      <use xlink:href=\"#DejaVuSans-41a\"/>\n      <use xlink:href=\"#DejaVuSans-43e\" x=\"70.996094\"/>\n      <use xlink:href=\"#DejaVuSans-43b\" x=\"132.177734\"/>\n      <use xlink:href=\"#DejaVuSans-438\" x=\"196.09375\"/>\n      <use xlink:href=\"#DejaVuSans-447\" x=\"261.083984\"/>\n      <use xlink:href=\"#DejaVuSans-435\" x=\"320.166016\"/>\n      <use xlink:href=\"#DejaVuSans-441\" x=\"381.689453\"/>\n      <use xlink:href=\"#DejaVuSans-442\" x=\"436.669922\"/>\n      <use xlink:href=\"#DejaVuSans-432\" x=\"494.921875\"/>\n      <use xlink:href=\"#DejaVuSans-43e\" x=\"553.857422\"/>\n      <use xlink:href=\"#DejaVuSans-20\" x=\"615.039062\"/>\n      <use xlink:href=\"#DejaVuSans-441\" x=\"646.826172\"/>\n      <use xlink:href=\"#DejaVuSans-44b\" x=\"701.806641\"/>\n      <use xlink:href=\"#DejaVuSans-433\" x=\"780.761719\"/>\n      <use xlink:href=\"#DejaVuSans-440\" x=\"833.300781\"/>\n      <use xlink:href=\"#DejaVuSans-430\" x=\"896.777344\"/>\n      <use xlink:href=\"#DejaVuSans-43d\" x=\"958.056641\"/>\n      <use xlink:href=\"#DejaVuSans-43d\" x=\"1023.4375\"/>\n      <use xlink:href=\"#DejaVuSans-44b\" x=\"1088.818359\"/>\n      <use xlink:href=\"#DejaVuSans-445\" x=\"1167.773438\"/>\n      <use xlink:href=\"#DejaVuSans-20\" x=\"1226.953125\"/>\n      <use xlink:href=\"#DejaVuSans-438\" x=\"1258.740234\"/>\n      <use xlink:href=\"#DejaVuSans-433\" x=\"1323.730469\"/>\n      <use xlink:href=\"#DejaVuSans-440\" x=\"1376.269531\"/>\n     </g>\n    </g>\n   </g>\n   <g id=\"matplotlib.axis_2\">\n    <g id=\"ytick_1\">\n     <g id=\"line2d_27\">\n      <path d=\"M 66.7825 298.075057 \nL 704.4125 298.075057 \n\" clip-path=\"url(#p1555c91e4e)\" style=\"fill: none; stroke: #ffffff; stroke-width: 0.8; stroke-linecap: round\"/>\n     </g>\n     <g id=\"text_28\">\n      <!-- −100% -->\n      <g style=\"fill: #262626\" transform=\"translate(22.81375 301.874276) scale(0.1 -0.1)\">\n       <defs>\n        <path id=\"DejaVuSans-2212\" d=\"M 678 2272 \nL 4684 2272 \nL 4684 1741 \nL 678 1741 \nL 678 2272 \nz\n\" transform=\"scale(0.015625)\"/>\n        <path id=\"DejaVuSans-25\" d=\"M 4653 2053 \nQ 4381 2053 4226 1822 \nQ 4072 1591 4072 1178 \nQ 4072 772 4226 539 \nQ 4381 306 4653 306 \nQ 4919 306 5073 539 \nQ 5228 772 5228 1178 \nQ 5228 1588 5073 1820 \nQ 4919 2053 4653 2053 \nz\nM 4653 2450 \nQ 5147 2450 5437 2106 \nQ 5728 1763 5728 1178 \nQ 5728 594 5436 251 \nQ 5144 -91 4653 -91 \nQ 4153 -91 3862 251 \nQ 3572 594 3572 1178 \nQ 3572 1766 3864 2108 \nQ 4156 2450 4653 2450 \nz\nM 1428 4353 \nQ 1159 4353 1004 4120 \nQ 850 3888 850 3481 \nQ 850 3069 1003 2837 \nQ 1156 2606 1428 2606 \nQ 1700 2606 1854 2837 \nQ 2009 3069 2009 3481 \nQ 2009 3884 1853 4118 \nQ 1697 4353 1428 4353 \nz\nM 4250 4750 \nL 4750 4750 \nL 1831 -91 \nL 1331 -91 \nL 4250 4750 \nz\nM 1428 4750 \nQ 1922 4750 2215 4408 \nQ 2509 4066 2509 3481 \nQ 2509 2891 2217 2550 \nQ 1925 2209 1428 2209 \nQ 931 2209 642 2551 \nQ 353 2894 353 3481 \nQ 353 4063 643 4406 \nQ 934 4750 1428 4750 \nz\n\" transform=\"scale(0.015625)\"/>\n       </defs>\n       <use xlink:href=\"#DejaVuSans-2212\"/>\n       <use xlink:href=\"#DejaVuSans-31\" x=\"83.789062\"/>\n       <use xlink:href=\"#DejaVuSans-30\" x=\"147.412109\"/>\n       <use xlink:href=\"#DejaVuSans-30\" x=\"211.035156\"/>\n       <use xlink:href=\"#DejaVuSans-25\" x=\"274.658203\"/>\n      </g>\n     </g>\n    </g>\n    <g id=\"ytick_2\">\n     <g id=\"line2d_28\">\n      <path d=\"M 66.7825 265.970511 \nL 704.4125 265.970511 \n\" clip-path=\"url(#p1555c91e4e)\" style=\"fill: none; stroke: #ffffff; stroke-width: 0.8; stroke-linecap: round\"/>\n     </g>\n     <g id=\"text_29\">\n      <!-- −75% -->\n      <g style=\"fill: #262626\" transform=\"translate(29.17625 269.76973) scale(0.1 -0.1)\">\n       <use xlink:href=\"#DejaVuSans-2212\"/>\n       <use xlink:href=\"#DejaVuSans-37\" x=\"83.789062\"/>\n       <use xlink:href=\"#DejaVuSans-35\" x=\"147.412109\"/>\n       <use xlink:href=\"#DejaVuSans-25\" x=\"211.035156\"/>\n      </g>\n     </g>\n    </g>\n    <g id=\"ytick_3\">\n     <g id=\"line2d_29\">\n      <path d=\"M 66.7825 233.865966 \nL 704.4125 233.865966 \n\" clip-path=\"url(#p1555c91e4e)\" style=\"fill: none; stroke: #ffffff; stroke-width: 0.8; stroke-linecap: round\"/>\n     </g>\n     <g id=\"text_30\">\n      <!-- −50% -->\n      <g style=\"fill: #262626\" transform=\"translate(29.17625 237.665185) scale(0.1 -0.1)\">\n       <use xlink:href=\"#DejaVuSans-2212\"/>\n       <use xlink:href=\"#DejaVuSans-35\" x=\"83.789062\"/>\n       <use xlink:href=\"#DejaVuSans-30\" x=\"147.412109\"/>\n       <use xlink:href=\"#DejaVuSans-25\" x=\"211.035156\"/>\n      </g>\n     </g>\n    </g>\n    <g id=\"ytick_4\">\n     <g id=\"line2d_30\">\n      <path d=\"M 66.7825 201.76142 \nL 704.4125 201.76142 \n\" clip-path=\"url(#p1555c91e4e)\" style=\"fill: none; stroke: #ffffff; stroke-width: 0.8; stroke-linecap: round\"/>\n     </g>\n     <g id=\"text_31\">\n      <!-- −25% -->\n      <g style=\"fill: #262626\" transform=\"translate(29.17625 205.560639) scale(0.1 -0.1)\">\n       <use xlink:href=\"#DejaVuSans-2212\"/>\n       <use xlink:href=\"#DejaVuSans-32\" x=\"83.789062\"/>\n       <use xlink:href=\"#DejaVuSans-35\" x=\"147.412109\"/>\n       <use xlink:href=\"#DejaVuSans-25\" x=\"211.035156\"/>\n      </g>\n     </g>\n    </g>\n    <g id=\"ytick_5\">\n     <g id=\"line2d_31\">\n      <path d=\"M 66.7825 169.656875 \nL 704.4125 169.656875 \n\" clip-path=\"url(#p1555c91e4e)\" style=\"fill: none; stroke: #ffffff; stroke-width: 0.8; stroke-linecap: round\"/>\n     </g>\n     <g id=\"text_32\">\n      <!-- 0% -->\n      <g style=\"fill: #262626\" transform=\"translate(43.918438 173.456094) scale(0.1 -0.1)\">\n       <use xlink:href=\"#DejaVuSans-30\"/>\n       <use xlink:href=\"#DejaVuSans-25\" x=\"63.623047\"/>\n      </g>\n     </g>\n    </g>\n    <g id=\"ytick_6\">\n     <g id=\"line2d_32\">\n      <path d=\"M 66.7825 137.55233 \nL 704.4125 137.55233 \n\" clip-path=\"url(#p1555c91e4e)\" style=\"fill: none; stroke: #ffffff; stroke-width: 0.8; stroke-linecap: round\"/>\n     </g>\n     <g id=\"text_33\">\n      <!-- 25% -->\n      <g style=\"fill: #262626\" transform=\"translate(37.555938 141.351548) scale(0.1 -0.1)\">\n       <use xlink:href=\"#DejaVuSans-32\"/>\n       <use xlink:href=\"#DejaVuSans-35\" x=\"63.623047\"/>\n       <use xlink:href=\"#DejaVuSans-25\" x=\"127.246094\"/>\n      </g>\n     </g>\n    </g>\n    <g id=\"ytick_7\">\n     <g id=\"line2d_33\">\n      <path d=\"M 66.7825 105.447784 \nL 704.4125 105.447784 \n\" clip-path=\"url(#p1555c91e4e)\" style=\"fill: none; stroke: #ffffff; stroke-width: 0.8; stroke-linecap: round\"/>\n     </g>\n     <g id=\"text_34\">\n      <!-- 50% -->\n      <g style=\"fill: #262626\" transform=\"translate(37.555938 109.247003) scale(0.1 -0.1)\">\n       <use xlink:href=\"#DejaVuSans-35\"/>\n       <use xlink:href=\"#DejaVuSans-30\" x=\"63.623047\"/>\n       <use xlink:href=\"#DejaVuSans-25\" x=\"127.246094\"/>\n      </g>\n     </g>\n    </g>\n    <g id=\"ytick_8\">\n     <g id=\"line2d_34\">\n      <path d=\"M 66.7825 73.343239 \nL 704.4125 73.343239 \n\" clip-path=\"url(#p1555c91e4e)\" style=\"fill: none; stroke: #ffffff; stroke-width: 0.8; stroke-linecap: round\"/>\n     </g>\n     <g id=\"text_35\">\n      <!-- 75% -->\n      <g style=\"fill: #262626\" transform=\"translate(37.555938 77.142457) scale(0.1 -0.1)\">\n       <use xlink:href=\"#DejaVuSans-37\"/>\n       <use xlink:href=\"#DejaVuSans-35\" x=\"63.623047\"/>\n       <use xlink:href=\"#DejaVuSans-25\" x=\"127.246094\"/>\n      </g>\n     </g>\n    </g>\n    <g id=\"ytick_9\">\n     <g id=\"line2d_35\">\n      <path d=\"M 66.7825 41.238693 \nL 704.4125 41.238693 \n\" clip-path=\"url(#p1555c91e4e)\" style=\"fill: none; stroke: #ffffff; stroke-width: 0.8; stroke-linecap: round\"/>\n     </g>\n     <g id=\"text_36\">\n      <!-- 100% -->\n      <g style=\"fill: #262626\" transform=\"translate(31.193438 45.037912) scale(0.1 -0.1)\">\n       <use xlink:href=\"#DejaVuSans-31\"/>\n       <use xlink:href=\"#DejaVuSans-30\" x=\"63.623047\"/>\n       <use xlink:href=\"#DejaVuSans-30\" x=\"127.246094\"/>\n       <use xlink:href=\"#DejaVuSans-25\" x=\"190.869141\"/>\n      </g>\n     </g>\n    </g>\n    <g id=\"text_37\">\n     <!-- Математическое ожидание -->\n     <g style=\"fill: #262626\" transform=\"translate(16.318125 257.039375) rotate(-90) scale(0.12 -0.12)\">\n      <defs>\n       <path id=\"DejaVuSans-41c\" d=\"M 628 4666 \nL 1569 4666 \nL 2759 1491 \nL 3956 4666 \nL 4897 4666 \nL 4897 0 \nL 4281 0 \nL 4281 4097 \nL 3078 897 \nL 2444 897 \nL 1241 4097 \nL 1241 0 \nL 628 0 \nL 628 4666 \nz\n\" transform=\"scale(0.015625)\"/>\n       <path id=\"DejaVuSans-43c\" d=\"M 581 3500 \nL 1422 3500 \nL 2416 1156 \nL 3413 3500 \nL 4247 3500 \nL 4247 0 \nL 3669 0 \nL 3669 2950 \nL 2703 672 \nL 2128 672 \nL 1159 2950 \nL 1159 0 \nL 581 0 \nL 581 3500 \nz\n\" transform=\"scale(0.015625)\"/>\n       <path id=\"DejaVuSans-43a\" d=\"M 581 3500 \nL 1153 3500 \nL 1153 1856 \nL 2775 3500 \nL 3481 3500 \nL 2144 2147 \nL 3653 0 \nL 3009 0 \nL 1769 1766 \nL 1153 1141 \nL 1153 0 \nL 581 0 \nL 581 3500 \nz\n\" transform=\"scale(0.015625)\"/>\n       <path id=\"DejaVuSans-436\" d=\"M 2597 3500 \nL 3169 3500 \nL 3169 1856 \nL 4697 3500 \nL 5366 3500 \nL 4109 2153 \nL 5547 0 \nL 4931 0 \nL 3753 1769 \nL 3169 1141 \nL 3169 0 \nL 2597 0 \nL 2597 1141 \nL 2013 1769 \nL 834 0 \nL 219 0 \nL 1656 2153 \nL 400 3500 \nL 1069 3500 \nL 2597 1856 \nL 2597 3500 \nz\n\" transform=\"scale(0.015625)\"/>\n       <path id=\"DejaVuSans-434\" d=\"M 1384 459 \nL 3053 459 \nL 3053 3041 \nL 1844 3041 \nL 1844 2603 \nQ 1844 1316 1475 628 \nL 1384 459 \nz\nM 550 459 \nQ 834 584 959 850 \nQ 1266 1509 1266 2838 \nL 1266 3500 \nL 3631 3500 \nL 3631 459 \nL 4091 459 \nL 4091 -884 \nL 3631 -884 \nL 3631 0 \nL 794 0 \nL 794 -884 \nL 334 -884 \nL 334 459 \nL 550 459 \nz\n\" transform=\"scale(0.015625)\"/>\n      </defs>\n      <use xlink:href=\"#DejaVuSans-41c\"/>\n      <use xlink:href=\"#DejaVuSans-430\" x=\"86.279297\"/>\n      <use xlink:href=\"#DejaVuSans-442\" x=\"147.558594\"/>\n      <use xlink:href=\"#DejaVuSans-435\" x=\"205.810547\"/>\n      <use xlink:href=\"#DejaVuSans-43c\" x=\"267.333984\"/>\n      <use xlink:href=\"#DejaVuSans-430\" x=\"342.773438\"/>\n      <use xlink:href=\"#DejaVuSans-442\" x=\"404.052734\"/>\n      <use xlink:href=\"#DejaVuSans-438\" x=\"462.304688\"/>\n      <use xlink:href=\"#DejaVuSans-447\" x=\"527.294922\"/>\n      <use xlink:href=\"#DejaVuSans-435\" x=\"586.376953\"/>\n      <use xlink:href=\"#DejaVuSans-441\" x=\"647.900391\"/>\n      <use xlink:href=\"#DejaVuSans-43a\" x=\"702.880859\"/>\n      <use xlink:href=\"#DejaVuSans-43e\" x=\"763.28125\"/>\n      <use xlink:href=\"#DejaVuSans-435\" x=\"824.462891\"/>\n      <use xlink:href=\"#DejaVuSans-20\" x=\"885.986328\"/>\n      <use xlink:href=\"#DejaVuSans-43e\" x=\"917.773438\"/>\n      <use xlink:href=\"#DejaVuSans-436\" x=\"978.955078\"/>\n      <use xlink:href=\"#DejaVuSans-438\" x=\"1069.042969\"/>\n      <use xlink:href=\"#DejaVuSans-434\" x=\"1134.033203\"/>\n      <use xlink:href=\"#DejaVuSans-430\" x=\"1203.173828\"/>\n      <use xlink:href=\"#DejaVuSans-43d\" x=\"1264.453125\"/>\n      <use xlink:href=\"#DejaVuSans-438\" x=\"1329.833984\"/>\n      <use xlink:href=\"#DejaVuSans-435\" x=\"1394.824219\"/>\n     </g>\n    </g>\n   </g>\n   <g id=\"PolyCollection_1\">\n    <defs>\n     <path id=\"m1cc3d0ad4f\" d=\"M 66.7825 -309.170057 \nL 66.7825 -52.333693 \nL 91.073167 -116.542784 \nL 115.363833 -137.945814 \nL 139.6545 -148.64733 \nL 163.945167 -180.751875 \nL 188.235833 -159.348845 \nL 212.5265 -144.060966 \nL 236.817167 -148.64733 \nL 261.107833 -152.214501 \nL 285.3985 -155.068239 \nL 309.689167 -157.403115 \nL 333.979833 -170.05036 \nL 358.2705 -180.751875 \nL 382.561167 -189.924602 \nL 406.851833 -180.751875 \nL 431.1425 -180.751875 \nL 455.433167 -186.417383 \nL 479.723833 -180.751875 \nL 504.0145 -180.751875 \nL 528.305167 -187.172784 \nL 552.595833 -186.867027 \nL 576.8865 -186.589065 \nL 601.177167 -186.335274 \nL 625.467833 -191.45339 \nL 649.7585 -191.02533 \nL 674.049167 -195.569358 \nL 674.049167 -225.204323 \nL 674.049167 -225.204323 \nL 649.7585 -221.845693 \nL 625.467833 -218.207178 \nL 601.177167 -214.25227 \nL 576.8865 -221.612206 \nL 552.595833 -220.653239 \nL 528.305167 -222.648307 \nL 504.0145 -221.304985 \nL 479.723833 -220.169122 \nL 455.433167 -226.075939 \nL 431.1425 -220.882557 \nL 406.851833 -223.985996 \nL 382.561167 -236.246875 \nL 358.2705 -230.637399 \nL 333.979833 -224.093011 \nL 309.689167 -216.358735 \nL 285.3985 -207.077602 \nL 261.107833 -209.289249 \nL 236.817167 -212.85642 \nL 212.5265 -208.728693 \nL 188.235833 -223.557936 \nL 163.945167 -257.802784 \nL 139.6545 -244.960966 \nL 115.363833 -266.363996 \nL 91.073167 -309.170057 \nL 66.7825 -309.170057 \nz\n\" style=\"stroke: #000000; stroke-opacity: 0.1\"/>\n    </defs>\n    <g clip-path=\"url(#p1555c91e4e)\">\n     <use xlink:href=\"#m1cc3d0ad4f\" x=\"0\" y=\"350.40875\" style=\"fill-opacity: 0.1; stroke: #000000; stroke-opacity: 0.1\"/>\n    </g>\n   </g>\n   <g id=\"line2d_36\">\n    <path d=\"M 66.7825 165.80433 \nL 91.073167 176.719875 \nL 115.363833 175.221663 \nL 139.6545 172.546284 \nL 163.945167 146.284766 \nL 188.235833 171.583148 \nL 212.5265 188.185784 \nL 236.817167 188.919602 \nL 261.107833 176.648532 \nL 285.3985 184.81022 \nL 309.689167 173.392677 \nL 333.979833 167.302542 \nL 358.2705 158.000455 \nL 382.561167 149.66033 \nL 406.851833 159.212196 \nL 431.1425 156.41375 \nL 455.433167 155.002094 \nL 479.723833 160.667602 \nL 504.0145 155.733641 \nL 528.305167 153.411975 \nL 552.595833 153.451723 \nL 576.8865 153.487858 \nL 601.177167 154.190859 \nL 625.467833 150.875716 \nL 649.7585 148.08262 \nL 674.049167 144.467155 \n\" clip-path=\"url(#p1555c91e4e)\" style=\"fill: none; stroke: #000000; stroke-width: 2; stroke-linecap: round\"/>\n   </g>\n   <g id=\"LineCollection_1\">\n    <path d=\"M 66.7825 163.235966 \nL 674.049167 163.235966 \n\" clip-path=\"url(#p1555c91e4e)\" style=\"fill: none; stroke-dasharray: 7.4,3.2; stroke-dashoffset: 0; stroke: #ff0000; stroke-width: 2\"/>\n   </g>\n   <g id=\"patch_3\">\n    <path d=\"M 66.7825 310.916875 \nL 66.7825 28.396875 \n\" style=\"fill: none; stroke: #ffffff; stroke-width: 0.8; stroke-linejoin: miter; stroke-linecap: square\"/>\n   </g>\n   <g id=\"patch_4\">\n    <path d=\"M 704.4125 310.916875 \nL 704.4125 28.396875 \n\" style=\"fill: none; stroke: #ffffff; stroke-width: 0.8; stroke-linejoin: miter; stroke-linecap: square\"/>\n   </g>\n   <g id=\"patch_5\">\n    <path d=\"M 66.7825 310.916875 \nL 704.4125 310.916875 \n\" style=\"fill: none; stroke: #ffffff; stroke-width: 0.8; stroke-linejoin: miter; stroke-linecap: square\"/>\n   </g>\n   <g id=\"patch_6\">\n    <path d=\"M 66.7825 28.396875 \nL 704.4125 28.396875 \n\" style=\"fill: none; stroke: #ffffff; stroke-width: 0.8; stroke-linejoin: miter; stroke-linecap: square\"/>\n   </g>\n   <g id=\"text_38\">\n    <!-- Анализ математического ожидания модели -->\n    <g style=\"fill: #262626\" transform=\"translate(152.270938 22.396875) scale(0.2 -0.2)\">\n     <defs>\n      <path id=\"DejaVuSans-410\" d=\"M 2188 4044 \nL 1331 1722 \nL 3047 1722 \nL 2188 4044 \nz\nM 1831 4666 \nL 2547 4666 \nL 4325 0 \nL 3669 0 \nL 3244 1197 \nL 1141 1197 \nL 716 0 \nL 50 0 \nL 1831 4666 \nz\n\" transform=\"scale(0.015625)\"/>\n      <path id=\"DejaVuSans-437\" d=\"M 2206 1888 \nQ 2594 1813 2809 1584 \nQ 3025 1356 3025 1019 \nQ 3025 478 2622 193 \nQ 2219 -91 1475 -91 \nQ 1225 -91 961 -47 \nQ 697 -3 416 84 \nL 416 619 \nQ 638 503 903 445 \nQ 1169 388 1459 388 \nQ 1931 388 2195 563 \nQ 2459 738 2459 1019 \nQ 2459 1294 2225 1461 \nQ 1991 1628 1563 1628 \nL 1100 1628 \nL 1100 2103 \nL 1584 2103 \nQ 1947 2103 2158 2242 \nQ 2369 2381 2369 2600 \nQ 2369 2800 2151 2944 \nQ 1934 3088 1563 3088 \nQ 1341 3088 1089 3047 \nQ 838 3006 534 2916 \nL 534 3438 \nQ 841 3513 1106 3550 \nQ 1372 3588 1609 3588 \nQ 2222 3588 2576 3342 \nQ 2931 3097 2931 2656 \nQ 2931 2366 2743 2164 \nQ 2556 1963 2206 1888 \nz\n\" transform=\"scale(0.015625)\"/>\n      <path id=\"DejaVuSans-44f\" d=\"M 1181 2491 \nQ 1181 2231 1381 2084 \nQ 1581 1938 1953 1938 \nL 2728 1938 \nL 2728 3041 \nL 1953 3041 \nQ 1581 3041 1381 2897 \nQ 1181 2753 1181 2491 \nz\nM 363 0 \nL 1431 1534 \nQ 1069 1616 828 1830 \nQ 588 2044 588 2491 \nQ 588 2997 923 3248 \nQ 1259 3500 1938 3500 \nL 3306 3500 \nL 3306 0 \nL 2728 0 \nL 2728 1478 \nL 2013 1478 \nL 981 0 \nL 363 0 \nz\n\" transform=\"scale(0.015625)\"/>\n     </defs>\n     <use xlink:href=\"#DejaVuSans-410\"/>\n     <use xlink:href=\"#DejaVuSans-43d\" x=\"68.408203\"/>\n     <use xlink:href=\"#DejaVuSans-430\" x=\"133.789062\"/>\n     <use xlink:href=\"#DejaVuSans-43b\" x=\"195.068359\"/>\n     <use xlink:href=\"#DejaVuSans-438\" x=\"258.984375\"/>\n     <use xlink:href=\"#DejaVuSans-437\" x=\"323.974609\"/>\n     <use xlink:href=\"#DejaVuSans-20\" x=\"377.148438\"/>\n     <use xlink:href=\"#DejaVuSans-43c\" x=\"408.935547\"/>\n     <use xlink:href=\"#DejaVuSans-430\" x=\"484.375\"/>\n     <use xlink:href=\"#DejaVuSans-442\" x=\"545.654297\"/>\n     <use xlink:href=\"#DejaVuSans-435\" x=\"603.90625\"/>\n     <use xlink:href=\"#DejaVuSans-43c\" x=\"665.429688\"/>\n     <use xlink:href=\"#DejaVuSans-430\" x=\"740.869141\"/>\n     <use xlink:href=\"#DejaVuSans-442\" x=\"802.148438\"/>\n     <use xlink:href=\"#DejaVuSans-438\" x=\"860.400391\"/>\n     <use xlink:href=\"#DejaVuSans-447\" x=\"925.390625\"/>\n     <use xlink:href=\"#DejaVuSans-435\" x=\"984.472656\"/>\n     <use xlink:href=\"#DejaVuSans-441\" x=\"1045.996094\"/>\n     <use xlink:href=\"#DejaVuSans-43a\" x=\"1100.976562\"/>\n     <use xlink:href=\"#DejaVuSans-43e\" x=\"1161.376953\"/>\n     <use xlink:href=\"#DejaVuSans-433\" x=\"1222.558594\"/>\n     <use xlink:href=\"#DejaVuSans-43e\" x=\"1275.097656\"/>\n     <use xlink:href=\"#DejaVuSans-20\" x=\"1336.279297\"/>\n     <use xlink:href=\"#DejaVuSans-43e\" x=\"1368.066406\"/>\n     <use xlink:href=\"#DejaVuSans-436\" x=\"1429.248047\"/>\n     <use xlink:href=\"#DejaVuSans-438\" x=\"1519.335938\"/>\n     <use xlink:href=\"#DejaVuSans-434\" x=\"1584.326172\"/>\n     <use xlink:href=\"#DejaVuSans-430\" x=\"1653.466797\"/>\n     <use xlink:href=\"#DejaVuSans-43d\" x=\"1714.746094\"/>\n     <use xlink:href=\"#DejaVuSans-438\" x=\"1780.126953\"/>\n     <use xlink:href=\"#DejaVuSans-44f\" x=\"1845.117188\"/>\n     <use xlink:href=\"#DejaVuSans-20\" x=\"1905.273438\"/>\n     <use xlink:href=\"#DejaVuSans-43c\" x=\"1937.060547\"/>\n     <use xlink:href=\"#DejaVuSans-43e\" x=\"2012.5\"/>\n     <use xlink:href=\"#DejaVuSans-434\" x=\"2073.681641\"/>\n     <use xlink:href=\"#DejaVuSans-435\" x=\"2142.822266\"/>\n     <use xlink:href=\"#DejaVuSans-43b\" x=\"2204.345703\"/>\n     <use xlink:href=\"#DejaVuSans-438\" x=\"2268.261719\"/>\n    </g>\n   </g>\n   <g id=\"legend_1\">\n    <g id=\"patch_7\">\n     <path d=\"M 335.64875 90.838125 \nL 696.0125 90.838125 \nQ 698.4125 90.838125 698.4125 88.438125 \nL 698.4125 36.796875 \nQ 698.4125 34.396875 696.0125 34.396875 \nL 335.64875 34.396875 \nQ 333.24875 34.396875 333.24875 36.796875 \nL 333.24875 88.438125 \nQ 333.24875 90.838125 335.64875 90.838125 \nz\n\" style=\"fill: #eaeaf2; opacity: 0.8; stroke: #cccccc; stroke-linejoin: miter\"/>\n    </g>\n    <g id=\"line2d_37\">\n     <path d=\"M 338.04875 44.115 \nL 350.04875 44.115 \nL 362.04875 44.115 \n\" style=\"fill: none; stroke: #000000; stroke-width: 2; stroke-linecap: round\"/>\n    </g>\n    <g id=\"text_39\">\n     <!-- Среднее значение Мат.ожидания целевой модели -->\n     <g style=\"fill: #262626\" transform=\"translate(371.64875 48.315) scale(0.12 -0.12)\">\n      <defs>\n       <path id=\"DejaVuSans-421\" d=\"M 4122 4306 \nL 4122 3641 \nQ 3803 3938 3442 4084 \nQ 3081 4231 2675 4231 \nQ 1875 4231 1450 3742 \nQ 1025 3253 1025 2328 \nQ 1025 1406 1450 917 \nQ 1875 428 2675 428 \nQ 3081 428 3442 575 \nQ 3803 722 4122 1019 \nL 4122 359 \nQ 3791 134 3420 21 \nQ 3050 -91 2638 -91 \nQ 1578 -91 968 557 \nQ 359 1206 359 2328 \nQ 359 3453 968 4101 \nQ 1578 4750 2638 4750 \nQ 3056 4750 3426 4639 \nQ 3797 4528 4122 4306 \nz\n\" transform=\"scale(0.015625)\"/>\n       <path id=\"DejaVuSans-2e\" d=\"M 684 794 \nL 1344 794 \nL 1344 0 \nL 684 0 \nL 684 794 \nz\n\" transform=\"scale(0.015625)\"/>\n       <path id=\"DejaVuSans-446\" d=\"M 3603 0 \nL 581 0 \nL 581 3500 \nL 1159 3500 \nL 1159 459 \nL 3025 459 \nL 3025 3500 \nL 3603 3500 \nL 3603 459 \nL 4063 459 \nL 4063 -884 \nL 3603 -884 \nL 3603 0 \nz\n\" transform=\"scale(0.015625)\"/>\n       <path id=\"DejaVuSans-439\" d=\"M 3578 3500 \nL 3578 0 \nL 3006 0 \nL 3006 2809 \nL 1319 0 \nL 581 0 \nL 581 3500 \nL 1153 3500 \nL 1153 697 \nL 2838 3500 \nL 3578 3500 \nz\nM 1102 4833 \nL 1471 4833 \nQ 1505 4599 1656 4481 \nQ 1808 4364 2080 4364 \nQ 2349 4364 2499 4480 \nQ 2649 4596 2689 4833 \nL 3058 4833 \nQ 3027 4386 2780 4161 \nQ 2533 3936 2080 3936 \nQ 1627 3936 1380 4161 \nQ 1133 4386 1102 4833 \nz\n\" transform=\"scale(0.015625)\"/>\n      </defs>\n      <use xlink:href=\"#DejaVuSans-421\"/>\n      <use xlink:href=\"#DejaVuSans-440\" x=\"69.824219\"/>\n      <use xlink:href=\"#DejaVuSans-435\" x=\"133.300781\"/>\n      <use xlink:href=\"#DejaVuSans-434\" x=\"194.824219\"/>\n      <use xlink:href=\"#DejaVuSans-43d\" x=\"263.964844\"/>\n      <use xlink:href=\"#DejaVuSans-435\" x=\"329.345703\"/>\n      <use xlink:href=\"#DejaVuSans-435\" x=\"390.869141\"/>\n      <use xlink:href=\"#DejaVuSans-20\" x=\"452.392578\"/>\n      <use xlink:href=\"#DejaVuSans-437\" x=\"484.179688\"/>\n      <use xlink:href=\"#DejaVuSans-43d\" x=\"537.353516\"/>\n      <use xlink:href=\"#DejaVuSans-430\" x=\"602.734375\"/>\n      <use xlink:href=\"#DejaVuSans-447\" x=\"664.013672\"/>\n      <use xlink:href=\"#DejaVuSans-435\" x=\"723.095703\"/>\n      <use xlink:href=\"#DejaVuSans-43d\" x=\"784.619141\"/>\n      <use xlink:href=\"#DejaVuSans-438\" x=\"850\"/>\n      <use xlink:href=\"#DejaVuSans-435\" x=\"914.990234\"/>\n      <use xlink:href=\"#DejaVuSans-20\" x=\"976.513672\"/>\n      <use xlink:href=\"#DejaVuSans-41c\" x=\"1008.300781\"/>\n      <use xlink:href=\"#DejaVuSans-430\" x=\"1094.580078\"/>\n      <use xlink:href=\"#DejaVuSans-442\" x=\"1155.859375\"/>\n      <use xlink:href=\"#DejaVuSans-2e\" x=\"1214.111328\"/>\n      <use xlink:href=\"#DejaVuSans-43e\" x=\"1245.898438\"/>\n      <use xlink:href=\"#DejaVuSans-436\" x=\"1307.080078\"/>\n      <use xlink:href=\"#DejaVuSans-438\" x=\"1397.167969\"/>\n      <use xlink:href=\"#DejaVuSans-434\" x=\"1462.158203\"/>\n      <use xlink:href=\"#DejaVuSans-430\" x=\"1531.298828\"/>\n      <use xlink:href=\"#DejaVuSans-43d\" x=\"1592.578125\"/>\n      <use xlink:href=\"#DejaVuSans-438\" x=\"1657.958984\"/>\n      <use xlink:href=\"#DejaVuSans-44f\" x=\"1722.949219\"/>\n      <use xlink:href=\"#DejaVuSans-20\" x=\"1783.105469\"/>\n      <use xlink:href=\"#DejaVuSans-446\" x=\"1814.892578\"/>\n      <use xlink:href=\"#DejaVuSans-435\" x=\"1882.958984\"/>\n      <use xlink:href=\"#DejaVuSans-43b\" x=\"1944.482422\"/>\n      <use xlink:href=\"#DejaVuSans-435\" x=\"2008.398438\"/>\n      <use xlink:href=\"#DejaVuSans-432\" x=\"2069.921875\"/>\n      <use xlink:href=\"#DejaVuSans-43e\" x=\"2128.857422\"/>\n      <use xlink:href=\"#DejaVuSans-439\" x=\"2190.039062\"/>\n      <use xlink:href=\"#DejaVuSans-20\" x=\"2255.029297\"/>\n      <use xlink:href=\"#DejaVuSans-43c\" x=\"2286.816406\"/>\n      <use xlink:href=\"#DejaVuSans-43e\" x=\"2362.255859\"/>\n      <use xlink:href=\"#DejaVuSans-434\" x=\"2423.4375\"/>\n      <use xlink:href=\"#DejaVuSans-435\" x=\"2492.578125\"/>\n      <use xlink:href=\"#DejaVuSans-43b\" x=\"2554.101562\"/>\n      <use xlink:href=\"#DejaVuSans-438\" x=\"2618.017578\"/>\n     </g>\n    </g>\n    <g id=\"patch_8\">\n     <path d=\"M 338.04875 65.92875 \nL 362.04875 65.92875 \nL 362.04875 57.52875 \nL 338.04875 57.52875 \nz\n\" style=\"fill-opacity: 0.1; stroke: #000000; stroke-opacity: 0.1; stroke-linejoin: miter\"/>\n    </g>\n    <g id=\"text_40\">\n     <!-- 95% доверительный интервал целевой модели -->\n     <g style=\"fill: #262626\" transform=\"translate(371.64875 65.92875) scale(0.12 -0.12)\">\n      <defs>\n       <path id=\"DejaVuSans-44c\" d=\"M 2781 1038 \nQ 2781 1319 2576 1466 \nQ 2372 1613 1978 1613 \nL 1159 1613 \nL 1159 459 \nL 1978 459 \nQ 2372 459 2576 607 \nQ 2781 756 2781 1038 \nz\nM 581 3500 \nL 1159 3500 \nL 1159 2072 \nL 2003 2072 \nQ 2672 2072 3033 1817 \nQ 3394 1563 3394 1038 \nQ 3394 513 3033 256 \nQ 2672 0 2003 0 \nL 581 0 \nL 581 3500 \nz\n\" transform=\"scale(0.015625)\"/>\n      </defs>\n      <use xlink:href=\"#DejaVuSans-39\"/>\n      <use xlink:href=\"#DejaVuSans-35\" x=\"63.623047\"/>\n      <use xlink:href=\"#DejaVuSans-25\" x=\"127.246094\"/>\n      <use xlink:href=\"#DejaVuSans-20\" x=\"222.265625\"/>\n      <use xlink:href=\"#DejaVuSans-434\" x=\"254.052734\"/>\n      <use xlink:href=\"#DejaVuSans-43e\" x=\"323.193359\"/>\n      <use xlink:href=\"#DejaVuSans-432\" x=\"384.375\"/>\n      <use xlink:href=\"#DejaVuSans-435\" x=\"443.310547\"/>\n      <use xlink:href=\"#DejaVuSans-440\" x=\"504.833984\"/>\n      <use xlink:href=\"#DejaVuSans-438\" x=\"568.310547\"/>\n      <use xlink:href=\"#DejaVuSans-442\" x=\"633.300781\"/>\n      <use xlink:href=\"#DejaVuSans-435\" x=\"691.552734\"/>\n      <use xlink:href=\"#DejaVuSans-43b\" x=\"753.076172\"/>\n      <use xlink:href=\"#DejaVuSans-44c\" x=\"816.992188\"/>\n      <use xlink:href=\"#DejaVuSans-43d\" x=\"875.927734\"/>\n      <use xlink:href=\"#DejaVuSans-44b\" x=\"941.308594\"/>\n      <use xlink:href=\"#DejaVuSans-439\" x=\"1020.263672\"/>\n      <use xlink:href=\"#DejaVuSans-20\" x=\"1085.253906\"/>\n      <use xlink:href=\"#DejaVuSans-438\" x=\"1117.041016\"/>\n      <use xlink:href=\"#DejaVuSans-43d\" x=\"1182.03125\"/>\n      <use xlink:href=\"#DejaVuSans-442\" x=\"1247.412109\"/>\n      <use xlink:href=\"#DejaVuSans-435\" x=\"1305.664062\"/>\n      <use xlink:href=\"#DejaVuSans-440\" x=\"1367.1875\"/>\n      <use xlink:href=\"#DejaVuSans-432\" x=\"1430.664062\"/>\n      <use xlink:href=\"#DejaVuSans-430\" x=\"1489.599609\"/>\n      <use xlink:href=\"#DejaVuSans-43b\" x=\"1550.878906\"/>\n      <use xlink:href=\"#DejaVuSans-20\" x=\"1614.794922\"/>\n      <use xlink:href=\"#DejaVuSans-446\" x=\"1646.582031\"/>\n      <use xlink:href=\"#DejaVuSans-435\" x=\"1714.648438\"/>\n      <use xlink:href=\"#DejaVuSans-43b\" x=\"1776.171875\"/>\n      <use xlink:href=\"#DejaVuSans-435\" x=\"1840.087891\"/>\n      <use xlink:href=\"#DejaVuSans-432\" x=\"1901.611328\"/>\n      <use xlink:href=\"#DejaVuSans-43e\" x=\"1960.546875\"/>\n      <use xlink:href=\"#DejaVuSans-439\" x=\"2021.728516\"/>\n      <use xlink:href=\"#DejaVuSans-20\" x=\"2086.71875\"/>\n      <use xlink:href=\"#DejaVuSans-43c\" x=\"2118.505859\"/>\n      <use xlink:href=\"#DejaVuSans-43e\" x=\"2193.945312\"/>\n      <use xlink:href=\"#DejaVuSans-434\" x=\"2255.126953\"/>\n      <use xlink:href=\"#DejaVuSans-435\" x=\"2324.267578\"/>\n      <use xlink:href=\"#DejaVuSans-43b\" x=\"2385.791016\"/>\n      <use xlink:href=\"#DejaVuSans-438\" x=\"2449.707031\"/>\n     </g>\n    </g>\n    <g id=\"line2d_38\">\n     <path d=\"M 338.04875 79.3425 \nL 362.04875 79.3425 \n\" style=\"fill: none; stroke-dasharray: 7.4,3.2; stroke-dashoffset: 0; stroke: #ff0000; stroke-width: 2\"/>\n    </g>\n    <g id=\"text_41\">\n     <!-- Мат.ожидание 5% -->\n     <g style=\"fill: #262626\" transform=\"translate(371.64875 83.5425) scale(0.12 -0.12)\">\n      <use xlink:href=\"#DejaVuSans-41c\"/>\n      <use xlink:href=\"#DejaVuSans-430\" x=\"86.279297\"/>\n      <use xlink:href=\"#DejaVuSans-442\" x=\"147.558594\"/>\n      <use xlink:href=\"#DejaVuSans-2e\" x=\"205.810547\"/>\n      <use xlink:href=\"#DejaVuSans-43e\" x=\"237.597656\"/>\n      <use xlink:href=\"#DejaVuSans-436\" x=\"298.779297\"/>\n      <use xlink:href=\"#DejaVuSans-438\" x=\"388.867188\"/>\n      <use xlink:href=\"#DejaVuSans-434\" x=\"453.857422\"/>\n      <use xlink:href=\"#DejaVuSans-430\" x=\"522.998047\"/>\n      <use xlink:href=\"#DejaVuSans-43d\" x=\"584.277344\"/>\n      <use xlink:href=\"#DejaVuSans-438\" x=\"649.658203\"/>\n      <use xlink:href=\"#DejaVuSans-435\" x=\"714.648438\"/>\n      <use xlink:href=\"#DejaVuSans-20\" x=\"776.171875\"/>\n      <use xlink:href=\"#DejaVuSans-35\" x=\"807.958984\"/>\n      <use xlink:href=\"#DejaVuSans-25\" x=\"871.582031\"/>\n     </g>\n    </g>\n   </g>\n  </g>\n </g>\n <defs>\n  <clipPath id=\"p1555c91e4e\">\n   <rect x=\"66.7825\" y=\"28.396875\" width=\"637.63\" height=\"282.52\"/>\n  </clipPath>\n </defs>\n</svg>\n",
      "text/plain": [
       "<Figure size 1000x500 with 1 Axes>"
      ]
     },
     "metadata": {},
     "output_type": "display_data"
    }
   ],
   "source": [
    "# выведем всю необходимую информацию на графиках\n",
    "\n",
    "# ------------ анализ метрики F1 ------------\n",
    "fig = plt.figure(figsize=(10, 5))\n",
    "plt.title('Анализ метрики F1', fontsize=20)\n",
    "plt.ylabel('F1', size=12)\n",
    "plt.xlabel('Количество сыгранных игр', size=12)\n",
    "\n",
    "# функции построения графиков\n",
    "plot_f1_botstrap_ci(data_bootstrap_f1)\n",
    "plot_f1(dinamic_f1_data)\n",
    "\n",
    "plt.legend(loc='upper right', prop={'size': 12})\n",
    "plt.xlim(left=1)\n",
    "plt.gca().yaxis.set_major_formatter(mticker.PercentFormatter(1, decimals=0))\n",
    "\n",
    "plt.xticks(rotation=0)\n",
    "plt.xticks(range(1, len(dinamic_f1_data)+1, 1))\n",
    "\n",
    "plt.tight_layout()\n",
    "plt.show()\n",
    "\n",
    "# ------------ анализ метрики M(J) ------------\n",
    "plot_m_j(dinamic_m_j_data)\n",
    "\n",
    "# ------------ анализ распределения классов ------------\n",
    "# plot_classes(dinamic_class_predictions)\n"
   ]
  },
  {
   "cell_type": "markdown",
   "id": "4b9f9376-62eb-4f7f-9d56-a8d63b4f1328",
   "metadata": {},
   "source": [
    "### Выводы"
   ]
  },
  {
   "cell_type": "markdown",
   "id": "6d20a93d-77ff-414a-a712-b7cb472f058b",
   "metadata": {},
   "source": [
    "**На базе логистической регрессии подготовлена модель, способная обыгрывать пользователя при игре в камень-ножницы-бумага:** \n",
    "<br>Процесс обучения модели:\n",
    "* Обучение в режиме реального времени\n",
    "* Для обучения используются данные о выборах, сделанных пользователем в предыдущих играх\n",
    "* Несколько первых выборов модель делает случайным образом, за неимением данных\n",
    "\n",
    "<br>Оценка качества модели:\n",
    "* В качестве базовой модели для сравнения использовали базовую модель, делающую выборы с равной вероятностью\n",
    "* Начиная с 11 партии в игру, нулевая гипотеза (F1 целевой модели == F1 базовой модели) стабильно отклоняется. F1 целевой модели колеблется от 40% до 50%. F1 базовой модели 33%\n",
    "* Начиная с 13 шага математическое ожидание целевой модели выше 5%, а с 24 шага начинает отклоняться нулевая гипотеза о равенстве мат.ожидания модели 5%\n",
    "* Можно говорить о том, что статистически значимой эффективности модель достигает к 13й партии игры. Под эффективностью подразумеваем способность выигрывать чаще, чем проигрывать\n",
    "\n",
    "<br>Что еще можно попробовать сделать в рамках данной модели:\n",
    "* Теоретически вывести статистически значимое количество партий для оценки гипотез\n",
    "* Для снижения количества игр, необходимых для эффективной работы модели: \n",
    "  * Реализовать обучение на исторических данных с другими пользователями. Т.е подавать на вход серии последовательностей выборов разных пользователей\n",
    "  * При обучении на исторических данных, добавить признак пользователя, чтобы модель предсказывала с учетом ранее имевшегося опыта с конкретным пользователем\n",
    "* Реализовать сбор реальных последовательностей выборов пользователей и выполнить проверку гипотез на обогащенных данных\n",
    "* Оценить важность используемых признаков, подобрать оптимальное количество (по умолчанию берем 20 лучших признаков)"
   ]
  },
  {
   "cell_type": "markdown",
   "id": "298b5b7c-235f-4fd3-be20-18e2c606cae4",
   "metadata": {},
   "source": [
    "**Планы по развитию/доработке проекта:**\n",
    "* Имплементировать модель в телеграмм-бот и организовать сбор статистики\n",
    "* Подготовить и проанализировать модели на базе дерева решений по методам бэггинга и бустинга: RandomForestClassifier, LGBMClassifier\n",
    "* Также опробовать модель RNN\n",
    "* Ввести дополнительную метрику времени обучения/предсказания, составить сравнительную таблицу моделей по всем использовавшимся метрикам и выбрать наилучшую модель для нашей задачи\n",
    "* Попробовать новые подходы в обучении (на исторических данных, гибридное)"
   ]
  },
  {
   "cell_type": "code",
   "execution_count": null,
   "id": "a7472ec3-d242-4df7-87eb-1aa1b3cc002f",
   "metadata": {},
   "outputs": [],
   "source": []
  }
 ],
 "metadata": {
  "kernelspec": {
   "display_name": "Python 3 (ipykernel)",
   "language": "python",
   "name": "python3"
  },
  "language_info": {
   "codemirror_mode": {
    "name": "ipython",
    "version": 3
   },
   "file_extension": ".py",
   "mimetype": "text/x-python",
   "name": "python",
   "nbconvert_exporter": "python",
   "pygments_lexer": "ipython3",
   "version": "3.10.6"
  },
  "toc-autonumbering": false
 },
 "nbformat": 4,
 "nbformat_minor": 5
}
